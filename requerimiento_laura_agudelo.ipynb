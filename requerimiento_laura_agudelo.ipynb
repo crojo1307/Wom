{
 "cells": [
  {
   "cell_type": "code",
   "execution_count": 1,
   "id": "fa91cec0-f49d-46ee-9dd7-025d2c7b60c3",
   "metadata": {},
   "outputs": [],
   "source": [
    "#importamos los paquetes necesarios\n",
    "import consultas as cst\n",
    "import pandas as pd\n",
    "import numpy as np\n",
    "import matplotlib.pyplot as plt   \n",
    "import time\n",
    "import math\n",
    "import datetime as dt"
   ]
  },
  {
   "cell_type": "code",
   "execution_count": 2,
   "id": "cd53e873",
   "metadata": {},
   "outputs": [
    {
     "name": "stderr",
     "output_type": "stream",
     "text": [
      "c:\\Users\\HP EliteBook 840 G3\\anaconda3\\lib\\site-packages\\pandas\\io\\sql.py:761: UserWarning: pandas only support SQLAlchemy connectable(engine/connection) ordatabase string URI or sqlite3 DBAPI2 connectionother DBAPI2 objects are not tested, please consider using SQLAlchemy\n",
      "  warnings.warn(\n"
     ]
    }
   ],
   "source": [
    "query=f'''\n",
    "SELECT A.SUBSCRIBER_ID, \n",
    "       A.MSISDN,\n",
    "       A.SIMCARD,\n",
    "       A.SERVICIO,\n",
    "       A.MOVIMIENTO_NOMBRE,\n",
    "       B.CLIENTE_NOMBRE,\n",
    "       B.CLIENTE_EMAIL\n",
    "FROM DWH_BODEGA_WOM.FCT_SUBSCRIBERS_ENDING A\n",
    "LEFT JOIN DWH_BODEGA_WOM.DIM_CLIENTES B ON A.CLIENTE_DK=B.CLIENTE_DK\n",
    "WHERE A.PERIODO_PROCESO_CODIGO=202312\n",
    "AND A.MSISDN IN (SELECT SUBSTR(TO_CHAR(DATOS),3) AS NUMERO \n",
    "FROM dwh_replica_wom.apw_log_accion_mywom A \n",
    "WHERE TO_NUMBER(TO_CHAR(A.FECHA_REGISTRO,'YYYYMMDD')) BETWEEN 20240101 AND 20240131)\n",
    "'''\n",
    "login_app_ago=cst.consulta(query)"
   ]
  },
  {
   "cell_type": "code",
   "execution_count": 4,
   "id": "419a54f4",
   "metadata": {},
   "outputs": [
    {
     "data": {
      "text/html": [
       "<div>\n",
       "<style scoped>\n",
       "    .dataframe tbody tr th:only-of-type {\n",
       "        vertical-align: middle;\n",
       "    }\n",
       "\n",
       "    .dataframe tbody tr th {\n",
       "        vertical-align: top;\n",
       "    }\n",
       "\n",
       "    .dataframe thead th {\n",
       "        text-align: right;\n",
       "    }\n",
       "</style>\n",
       "<table border=\"1\" class=\"dataframe\">\n",
       "  <thead>\n",
       "    <tr style=\"text-align: right;\">\n",
       "      <th></th>\n",
       "      <th>SUBSCRIBER_ID</th>\n",
       "      <th>MSISDN</th>\n",
       "      <th>SIMCARD</th>\n",
       "      <th>SERVICIO</th>\n",
       "      <th>MOVIMIENTO_NOMBRE</th>\n",
       "      <th>CLIENTE_NOMBRE</th>\n",
       "      <th>CLIENTE_EMAIL</th>\n",
       "    </tr>\n",
       "  </thead>\n",
       "  <tbody>\n",
       "  </tbody>\n",
       "</table>\n",
       "</div>"
      ],
      "text/plain": [
       "Empty DataFrame\n",
       "Columns: [SUBSCRIBER_ID, MSISDN, SIMCARD, SERVICIO, MOVIMIENTO_NOMBRE, CLIENTE_NOMBRE, CLIENTE_EMAIL]\n",
       "Index: []"
      ]
     },
     "execution_count": 4,
     "metadata": {},
     "output_type": "execute_result"
    }
   ],
   "source": [
    "login_app_ago"
   ]
  },
  {
   "cell_type": "code",
   "execution_count": 3,
   "id": "c0b9a3a7",
   "metadata": {},
   "outputs": [],
   "source": [
    "login_app_ago.to_csv('login_app_nov.csv')"
   ]
  },
  {
   "cell_type": "code",
   "execution_count": 4,
   "id": "ee3ebab6",
   "metadata": {},
   "outputs": [
    {
     "name": "stderr",
     "output_type": "stream",
     "text": [
      "c:\\Users\\HP EliteBook 840 G3\\anaconda3\\lib\\site-packages\\pandas\\io\\sql.py:761: UserWarning: pandas only support SQLAlchemy connectable(engine/connection) ordatabase string URI or sqlite3 DBAPI2 connectionother DBAPI2 objects are not tested, please consider using SQLAlchemy\n",
      "  warnings.warn(\n"
     ]
    }
   ],
   "source": [
    "query=f'''\n",
    "SELECT A.SUBSCRIBER_ID,\n",
    "       A.SERVICIO,\n",
    "       A.MSISDN,\n",
    "       B.CLIENTE_NOMBRE,\n",
    "       B.CLIENTE_EMAIL,\n",
    "       D.PRODUCTO\n",
    "FROM DWH_BODEGA_WOM.FCT_SUBSCRIBERS_ENDING A \n",
    "LEFT JOIN DWH_BODEGA_WOM.DIM_CONSULTORES C ON A.CONSULTOR_DK=C.CONSULTOR_DK\n",
    "LEFT JOIN DWH_BODEGA_WOM.DIM_CLIENTES B ON A.CLIENTE_DK=B.CLIENTE_DK\n",
    "LEFT JOIN DWH_CONSULTA_WOM.COM_EQUIPOS D ON A.SUBSCRIBER_ID=D.SUBSCRIBER_ID\n",
    "WHERE A.PERIODO_PROCESO_CODIGO=202311\n",
    "AND  A.MOVIMIENTO_NOMBRE='ACTIVACION'\n",
    "AND  C.CONSULTOR_CANAL_NOMBRE IN ('E-Dealers','Ventas Online')\n",
    "'''\n",
    "equipos_ago=cst.consulta(query)"
   ]
  },
  {
   "cell_type": "code",
   "execution_count": null,
   "id": "0b5d2235",
   "metadata": {},
   "outputs": [],
   "source": [
    "equipos_ago.to_csv('equipos_oct.csv')"
   ]
  }
 ],
 "metadata": {
  "kernelspec": {
   "display_name": "Python 3",
   "language": "python",
   "name": "python3"
  },
  "language_info": {
   "codemirror_mode": {
    "name": "ipython",
    "version": 3
   },
   "file_extension": ".py",
   "mimetype": "text/x-python",
   "name": "python",
   "nbconvert_exporter": "python",
   "pygments_lexer": "ipython3",
   "version": "3.9.12"
  }
 },
 "nbformat": 4,
 "nbformat_minor": 5
}
