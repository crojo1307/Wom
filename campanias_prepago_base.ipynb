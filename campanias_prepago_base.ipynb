{
 "cells": [
  {
   "cell_type": "markdown",
   "metadata": {},
   "source": [
    "## **Librerías**"
   ]
  },
  {
   "cell_type": "code",
   "execution_count": 1,
   "metadata": {},
   "outputs": [],
   "source": [
    "import pandas as pd\n",
    "import numpy as np\n",
    "#import matplotlib.pyplot as plt\n",
    "#import seaborn as sns"
   ]
  },
  {
   "cell_type": "code",
   "execution_count": 2,
   "metadata": {},
   "outputs": [],
   "source": [
    "pd.options.display.max_columns = False"
   ]
  },
  {
   "cell_type": "code",
   "execution_count": 3,
   "metadata": {},
   "outputs": [],
   "source": [
    "from datetime import datetime, timedelta\n",
    "import winsound as cst"
   ]
  },
  {
   "cell_type": "code",
   "execution_count": 4,
   "metadata": {},
   "outputs": [],
   "source": [
    "import sys\n",
    "sys.path.append('./')\n",
    "sys.path.append('../')"
   ]
  },
  {
   "cell_type": "code",
   "execution_count": 5,
   "metadata": {},
   "outputs": [
    {
     "ename": "DatabaseError",
     "evalue": "ORA-01017: invalid username/password; logon denied",
     "output_type": "error",
     "traceback": [
      "\u001b[1;31m---------------------------------------------------------------------------\u001b[0m",
      "\u001b[1;31mDatabaseError\u001b[0m                             Traceback (most recent call last)",
      "\u001b[1;32mc:\\Users\\HP EliteBook 840 G3\\Documents\\pruebas_pospago\\Notebooks\\campanias.ipynb Cell 6\u001b[0m line \u001b[0;36m<cell line: 1>\u001b[1;34m()\u001b[0m\n\u001b[1;32m----> <a href='vscode-notebook-cell:/c%3A/Users/HP%20EliteBook%20840%20G3/Documents/pruebas_pospago/Notebooks/campanias.ipynb#W5sZmlsZQ%3D%3D?line=0'>1</a>\u001b[0m \u001b[39mimport\u001b[39;00m \u001b[39mUtils\u001b[39;00m\u001b[39m.\u001b[39;00m\u001b[39mconsultas\u001b[39;00m \u001b[39mas\u001b[39;00m \u001b[39mcst\u001b[39;00m\n",
      "File \u001b[1;32mc:\\Users\\HP EliteBook 840 G3\\Documents\\pruebas_pospago\\Notebooks\\..\\Utils\\consultas.py:24\u001b[0m, in \u001b[0;36m<module>\u001b[1;34m\u001b[0m\n\u001b[0;32m     21\u001b[0m \u001b[39m# Conexión con la base de datos - CX_Oracle\u001b[39;00m\n\u001b[0;32m     22\u001b[0m cx_Oracle\u001b[39m.\u001b[39minit_oracle_client(lib_dir\u001b[39m=\u001b[39mruta_instantclient)\n\u001b[1;32m---> 24\u001b[0m conn \u001b[39m=\u001b[39m cx_Oracle\u001b[39m.\u001b[39;49mconnect(user\u001b[39m=\u001b[39;49m\u001b[39mf\u001b[39;49m\u001b[39m'\u001b[39;49m\u001b[39m{\u001b[39;49;00musuario\u001b[39m}\u001b[39;49;00m\u001b[39m'\u001b[39;49m, password\u001b[39m=\u001b[39;49m\u001b[39mf\u001b[39;49m\u001b[39m'\u001b[39;49m\u001b[39m{\u001b[39;49;00mpassword\u001b[39m}\u001b[39;49;00m\u001b[39m'\u001b[39;49m, dsn\u001b[39m=\u001b[39;49mdsn_con)\n\u001b[0;32m     25\u001b[0m cur \u001b[39m=\u001b[39m conn\u001b[39m.\u001b[39mcursor()\n\u001b[0;32m     27\u001b[0m \u001b[39m# Funciones\u001b[39;00m\n",
      "\u001b[1;31mDatabaseError\u001b[0m: ORA-01017: invalid username/password; logon denied"
     ]
    }
   ],
   "source": [
    "import Utils.consultas as cst "
   ]
  },
  {
   "cell_type": "code",
   "execution_count": null,
   "metadata": {},
   "outputs": [],
   "source": [
    "#Usuarios prepago activos\n",
    "#Usuarios Prepago que durante los ultimos 3 meses hayan comprado un paquete prepago mixto con vigencia mayor o igual a 3 días \n",
    "#(no importa si tienen paquete vigente o no)\n",
    "query=f'''\n",
    "SELECT SUBSCRIBER_ID,MSISDN\n",
    "FROM DWH_BODEGA_WOM.FCT_SUBSCRIBERS_ENDING A\n",
    "WHERE A.SERVICIO='Prepaid'\n",
    "AND A.ESTADO='Active'\n",
    "AND A.PERIODO_PROCESO_CODIGO=TO_NUMBER(TO_CHAR(SYSTIMESTAMP-30,'YYYYMM'))\n",
    "AND A.MOVIMIENTO_NOMBRE IN ('PERMANECE','ACTIVACION')\n",
    "AND A.SUBSCRIBER_ID IN (\n",
    "SELECT SUBSCRIBER_ID\n",
    "FROM DWH_BODEGA_WOM.FCT_PAQUETES\n",
    "WHERE SERVICIO='Prepaid'\n",
    "AND FECHA_RECARGA BETWEEN SYSTIMESTAMP-90 AND SYSTIMESTAMP\n",
    "AND FECHA_EXPIRACION-FECHA_RECARGA>3\n",
    "AND UPPER(PAQUETE_NOMBRE) LIKE '%MIXTO%'\n",
    ")\n",
    "'''\n",
    "expectativa_paqueteros_paqueteros=cst.consulta(query)\n"
   ]
  },
  {
   "cell_type": "code",
   "execution_count": null,
   "metadata": {},
   "outputs": [],
   "source": [
    "#\n",
    "query=f'''\n",
    "WITH BASE AS (\n",
    "SELECT SUBSCRIBER_ID,MSISDN\n",
    "FROM DWH_BODEGA_WOM.FCT_SUBSCRIBERS_ENDING A\n",
    "WHERE A.SERVICIO='Prepaid'\n",
    "AND A.ESTADO='Active'\n",
    "AND A.PERIODO_PROCESO_CODIGO=TO_NUMBER(TO_CHAR(SYSTIMESTAMP-30,'YYYYMM'))\n",
    "AND A.MOVIMIENTO_NOMBRE IN ('PERMANECE','ACTIVACION')\n",
    "),\n",
    "MAYOR_PAQUETE AS (\n",
    "SELECT * FROM (\n",
    "SELECT A.*,\n",
    "       ROW_NUMBER() OVER(PARTITION BY SUBSCRIBER_ID ORDER BY TOTAL DESC ) AS RN\n",
    "FROM (\n",
    "SELECT SUBSCRIBER_ID,PAQUETE_NOMBRE,COUNT(*) AS TOTAL\n",
    "FROM DWH_BODEGA_WOM.FCT_PAQUETES\n",
    "WHERE SERVICIO='Prepaid'\n",
    "AND FECHA_RECARGA BETWEEN SYSTIMESTAMP-90 AND SYSTIMESTAMP\n",
    "GROUP BY SUBSCRIBER_ID,PAQUETE_NOMBRE\n",
    "ORDER BY COUNT(*) DESC ) A ) WHERE RN =1 \n",
    ")\n",
    ",\n",
    "MAYOR_VALOR_PAQUETE AS (\n",
    "SELECT * FROM (\n",
    "SELECT A.*,\n",
    "       ROW_NUMBER() OVER(PARTITION BY SUBSCRIBER_ID ORDER BY TOTAL DESC ) AS RN\n",
    "FROM (\n",
    "SELECT SUBSCRIBER_ID,VALOR,COUNT(*) AS TOTAL\n",
    "FROM DWH_BODEGA_WOM.FCT_PAQUETES\n",
    "WHERE SERVICIO='Prepaid'\n",
    "AND FECHA_RECARGA BETWEEN SYSTIMESTAMP-90 AND SYSTIMESTAMP\n",
    "GROUP BY SUBSCRIBER_ID,VALOR\n",
    "ORDER BY COUNT(*) DESC ) A ) WHERE RN =1 \n",
    "),\n",
    "CANAL_COMPRA AS (\n",
    "SELECT * FROM (\n",
    "SELECT A.*,\n",
    "       ROW_NUMBER() OVER(PARTITION BY SUBSCRIBER_ID ORDER BY TOTAL DESC ) AS RN\n",
    "FROM (\n",
    "SELECT SUBSCRIBER_ID,CANAL_CONTACTO,COUNT(*) AS TOTAL\n",
    "FROM DWH_BODEGA_WOM.FCT_PAQUETES\n",
    "WHERE SERVICIO='Prepaid'\n",
    "AND FECHA_RECARGA BETWEEN SYSTIMESTAMP-90 AND SYSTIMESTAMP\n",
    "GROUP BY SUBSCRIBER_ID,CANAL_CONTACTO\n",
    "ORDER BY COUNT(*) DESC ) A ) WHERE RN =1 \n",
    ")\n",
    "\n",
    "\n",
    "SELECT A.SUBSCRIBER_ID,A.MSISDN \n",
    "FROM BASE A \n",
    "LEFT JOIN MAYOR_PAQUETE B ON A.SUBSCRIBER_ID=B.SUBSCRIBER_ID\n",
    "LEFT JOIN MAYOR_VALOR_PAQUETE C ON A.SUBSCRIBER_ID=C.SUBSCRIBER_ID\n",
    "LEFT JOIN CANAL_COMPRA D ON A.SUBSCRIBER_ID=D.SUBSCRIBER_ID\n",
    "WHERE (B.PAQUETE_NOMBRE='MIXTO_Paquete 3D _500MB' OR C.VALOR=3500)\n",
    "AND CANAL_CONTACTO NOT IN ('APPWOM','eCommerce','PORTALCAUTIVO')\n",
    "'''"
   ]
  },
  {
   "cell_type": "code",
   "execution_count": null,
   "metadata": {},
   "outputs": [],
   "source": [
    "query=f'''\n",
    "\n",
    "'''"
   ]
  },
  {
   "cell_type": "code",
   "execution_count": 6,
   "metadata": {},
   "outputs": [
    {
     "name": "stdout",
     "output_type": "stream",
     "text": [
      "Collecting openai\n",
      "  Downloading openai-1.11.1-py3-none-any.whl (226 kB)\n",
      "Collecting typing-extensions<5,>=4.7\n",
      "  Using cached typing_extensions-4.9.0-py3-none-any.whl (32 kB)\n",
      "Requirement already satisfied: anyio<5,>=3.5.0 in c:\\users\\hp elitebook 840 g3\\anaconda3\\lib\\site-packages (from openai) (3.5.0)\n",
      "Requirement already satisfied: tqdm>4 in c:\\users\\hp elitebook 840 g3\\anaconda3\\lib\\site-packages (from openai) (4.64.0)\n",
      "Collecting httpx<1,>=0.23.0\n",
      "  Downloading httpx-0.26.0-py3-none-any.whl (75 kB)\n",
      "Requirement already satisfied: sniffio in c:\\users\\hp elitebook 840 g3\\anaconda3\\lib\\site-packages (from openai) (1.2.0)\n",
      "Collecting distro<2,>=1.7.0\n",
      "  Downloading distro-1.9.0-py3-none-any.whl (20 kB)\n",
      "Collecting pydantic<3,>=1.9.0\n",
      "  Downloading pydantic-2.6.1-py3-none-any.whl (394 kB)\n",
      "Requirement already satisfied: idna>=2.8 in c:\\users\\hp elitebook 840 g3\\anaconda3\\lib\\site-packages (from anyio<5,>=3.5.0->openai) (3.3)\n",
      "Collecting httpcore==1.*\n",
      "  Downloading httpcore-1.0.2-py3-none-any.whl (76 kB)\n",
      "Requirement already satisfied: certifi in c:\\users\\hp elitebook 840 g3\\anaconda3\\lib\\site-packages (from httpx<1,>=0.23.0->openai) (2021.10.8)\n",
      "Collecting h11<0.15,>=0.13\n",
      "  Downloading h11-0.14.0-py3-none-any.whl (58 kB)\n",
      "Collecting pydantic-core==2.16.2\n",
      "  Downloading pydantic_core-2.16.2-cp39-none-win_amd64.whl (1.9 MB)\n",
      "Collecting annotated-types>=0.4.0\n",
      "  Downloading annotated_types-0.6.0-py3-none-any.whl (12 kB)\n",
      "Requirement already satisfied: colorama in c:\\users\\hp elitebook 840 g3\\anaconda3\\lib\\site-packages (from tqdm>4->openai) (0.4.4)\n",
      "Installing collected packages: typing-extensions, h11, pydantic-core, httpcore, annotated-types, pydantic, httpx, distro, openai\n",
      "  Attempting uninstall: typing-extensions\n",
      "    Found existing installation: typing-extensions 4.1.1\n",
      "    Uninstalling typing-extensions-4.1.1:\n",
      "      Successfully uninstalled typing-extensions-4.1.1\n",
      "Successfully installed annotated-types-0.6.0 distro-1.9.0 h11-0.14.0 httpcore-1.0.2 httpx-0.26.0 openai-1.11.1 pydantic-2.6.1 pydantic-core-2.16.2 typing-extensions-4.9.0\n",
      "Note: you may need to restart the kernel to use updated packages.\n"
     ]
    }
   ],
   "source": [
    "pip install openai"
   ]
  },
  {
   "cell_type": "code",
   "execution_count": 10,
   "metadata": {},
   "outputs": [],
   "source": [
    "prueba.to_csv('upselling_popup.csv')"
   ]
  },
  {
   "cell_type": "code",
   "execution_count": null,
   "metadata": {},
   "outputs": [],
   "source": []
  },
  {
   "cell_type": "markdown",
   "metadata": {},
   "source": [
    "## **Variables Globales**"
   ]
  },
  {
   "cell_type": "code",
   "execution_count": 6,
   "metadata": {},
   "outputs": [],
   "source": [
    "dia = int(str(datetime.now()).replace('-', '')[:8])\n",
    "mes = int(str(datetime.now()).replace('-', '')[:6])"
   ]
  },
  {
   "cell_type": "markdown",
   "metadata": {},
   "source": [
    "## **Datos**"
   ]
  },
  {
   "cell_type": "code",
   "execution_count": null,
   "metadata": {},
   "outputs": [],
   "source": []
  },
  {
   "cell_type": "markdown",
   "metadata": {},
   "source": [
    "## **Limpieza**"
   ]
  },
  {
   "cell_type": "code",
   "execution_count": null,
   "metadata": {},
   "outputs": [],
   "source": []
  },
  {
   "cell_type": "markdown",
   "metadata": {},
   "source": [
    "## **Analísis y Exploración**"
   ]
  },
  {
   "cell_type": "code",
   "execution_count": null,
   "metadata": {},
   "outputs": [],
   "source": []
  }
 ],
 "metadata": {
  "kernelspec": {
   "display_name": "StarterPack",
   "language": "python",
   "name": "python3"
  },
  "language_info": {
   "codemirror_mode": {
    "name": "ipython",
    "version": 3
   },
   "file_extension": ".py",
   "mimetype": "text/x-python",
   "name": "python",
   "nbconvert_exporter": "python",
   "pygments_lexer": "ipython3",
   "version": "3.9.12"
  },
  "orig_nbformat": 4
 },
 "nbformat": 4,
 "nbformat_minor": 2
}
