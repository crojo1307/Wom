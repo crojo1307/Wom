{
 "cells": [
  {
   "cell_type": "code",
   "execution_count": 1,
   "metadata": {},
   "outputs": [],
   "source": [
    "#librerias\n",
    "import consultas as cst\n",
    "import pandas as pd\n",
    "import numpy as np\n",
    "import matplotlib.pyplot as plt   "
   ]
  },
  {
   "cell_type": "code",
   "execution_count": 2,
   "metadata": {},
   "outputs": [],
   "source": [
    "#mejor visualizacion de las tablas\n",
    "pd.options.display.max_columns = False"
   ]
  },
  {
   "cell_type": "code",
   "execution_count": null,
   "metadata": {},
   "outputs": [],
   "source": [
    "#QUERY QUE TRAE LOS USUARIOS DEL ULTIMO ENDING QUE CORRERA EL MODELO , CAMBIAR EL PROCESOCODIGO  PARA ENTRENAR\n",
    "query=f'''\n",
    "SELECT A.SUBSCRIBER_ID,\n",
    "       A.MOVIMIENTO_NOMBRE \n",
    "FROM DWH_BODEGA_WOM.FCT_SUBSCRIBERS_ENDING A \n",
    "WHERE A.PERIODO_PROCESO_CODIGO=TO_NUMBER(TO_CHAR(SYSTIMESTAMP,'YYYYMM'))\n",
    "AND A.SERVICIO='Prepaid'\n",
    "AND A.MOVIMIENTO_NOMBRE IN ('ACTIVACION','PERMANECE')\n",
    "AND A.ESTADO='Active'\n",
    "AND A.SUBSCRIBER_ID IN (\n",
    "            SELECT SUBSCRIBER_ID FROM ( \n",
    "                    SELECT B.*,\n",
    "                    ROW_NUMBER() OVER (PARTITION BY SUBSCRIBER_ID ORDER BY FECHA_PRED DESC) AS RN \n",
    "                    FROM AGG_DL_PJ_QUALITY B )\n",
    "            WHERE RN=1\n",
    "            AND   PREDICCION=0\n",
    ")\n",
    "'''"
   ]
  },
  {
   "cell_type": "code",
   "execution_count": null,
   "metadata": {},
   "outputs": [],
   "source": [
    "#QUERY QUE NOS DA LA ULTIMA RECARGA QUE HA TENIDO CADA SUBSCRIBER DEL FILTRO \n",
    "query=f'''\n",
    "SELECT B.SUBSCRIBER_ID,\n",
    "       B.TIEMPO_RECARGA_DK AS TIEMPO_ULTIMA_RECARGA,\n",
    "       B.VALOR_CARGA AS VALOR_ULTIMA_RECARGA,\n",
    "       B.FECHA_RECARGA AS ULTIMA_RECARGA\n",
    "FROM (\n",
    "SELECT B.*,\n",
    "       ROW_NUMBER() OVER (PARTITION BY SUBSCRIBER_ID ORDER BY FECHA_RECARGA DESC) AS RN  \n",
    "FROM DWH_BODEGA_WOM.FCT_RECARGAS B\n",
    "WHERE B.SUBSCRIBER_ID IN (\n",
    "        SELECT A.SUBSCRIBER_ID \n",
    "        FROM DWH_BODEGA_WOM.FCT_SUBSCRIBERS_ENDING A \n",
    "        WHERE A.PERIODO_PROCESO_CODIGO=TO_NUMBER(TO_CHAR(SYSTIMESTAMP,'YYYYMM'))\n",
    "        AND A.SERVICIO='Prepaid'\n",
    "        AND A.MOVIMIENTO_NOMBRE IN ('ACTIVACION','PERMANECE')\n",
    "        AND A.ESTADO='Active'\n",
    "        AND A.SUBSCRIBER_ID IN (\n",
    "                SELECT SUBSCRIBER_ID FROM ( \n",
    "                        SELECT B.*,\n",
    "                        ROW_NUMBER() OVER (PARTITION BY SUBSCRIBER_ID ORDER BY FECHA_PRED DESC) AS RN \n",
    "                        FROM AGG_DL_PJ_QUALITY B )\n",
    "                WHERE RN=1\n",
    "                AND   PREDICCION=0\n",
    "        )\n",
    ") )B\n",
    "WHERE B.RN=1\n",
    "\n",
    "\n",
    "'''"
   ]
  },
  {
   "cell_type": "code",
   "execution_count": null,
   "metadata": {},
   "outputs": [],
   "source": [
    "#QUERY QUE UNE LAS 2 TABLAS ANTERIORES Y LO DA PARA LA ACTUAL \n",
    "\n",
    "query=f'''\n",
    "WITH BASE AS \n",
    "(SELECT /*PARALLEL(8)*/\n",
    "        A.SUBSCRIBER_ID,\n",
    "        A.MOVIMIENTO_NOMBRE \n",
    "FROM DWH_BODEGA_WOM.FCT_SUBSCRIBERS_ENDING A \n",
    "WHERE A.PERIODO_PROCESO_CODIGO=TO_NUMBER(TO_CHAR(SYSTIMESTAMP,'YYYYMM'))\n",
    "AND A.SERVICIO='Prepaid'\n",
    "AND A.MOVIMIENTO_NOMBRE IN ('ACTIVACION','PERMANECE')\n",
    "AND A.ESTADO='Active'\n",
    "AND A.SUBSCRIBER_ID IN (\n",
    "            SELECT SUBSCRIBER_ID FROM ( \n",
    "                    SELECT B.*,\n",
    "                    ROW_NUMBER() OVER (PARTITION BY SUBSCRIBER_ID ORDER BY FECHA_PRED DESC) AS RN \n",
    "                    FROM AGG_DL_PJ_QUALITY B )\n",
    "            WHERE RN=1\n",
    "            AND   PREDICCION=0\n",
    ")),\n",
    "RECARGAS AS (\n",
    "SELECT /*PARALLEL(8)*/\n",
    "       B.SUBSCRIBER_ID,\n",
    "       B.TIEMPO_RECARGA_DK AS TIEMPO_ULTIMA_RECARGA,\n",
    "       B.VALOR_CARGA AS VALOR_ULTIMA_RECARGA,\n",
    "       B.FECHA_RECARGA AS ULTIMA_RECARGA\n",
    "FROM (\n",
    "SELECT /*PARALLEL(8)*/\n",
    "       B.*,\n",
    "       ROW_NUMBER() OVER (PARTITION BY SUBSCRIBER_ID ORDER BY FECHA_RECARGA DESC) AS RN  \n",
    "FROM DWH_BODEGA_WOM.FCT_RECARGAS B\n",
    "WHERE B.SUBSCRIBER_ID IN (\n",
    "        SELECT A.SUBSCRIBER_ID \n",
    "        FROM DWH_BODEGA_WOM.FCT_SUBSCRIBERS_ENDING A \n",
    "        WHERE A.PERIODO_PROCESO_CODIGO=TO_NUMBER(TO_CHAR(SYSTIMESTAMP,'YYYYMM'))\n",
    "        AND A.SERVICIO='Prepaid'\n",
    "        AND A.MOVIMIENTO_NOMBRE IN ('ACTIVACION','PERMANECE')\n",
    "        AND A.ESTADO='Active'\n",
    "        AND A.SUBSCRIBER_ID IN (\n",
    "                SELECT SUBSCRIBER_ID FROM ( \n",
    "                        SELECT B.*,\n",
    "                        ROW_NUMBER() OVER (PARTITION BY SUBSCRIBER_ID ORDER BY FECHA_PRED DESC) AS RN \n",
    "                        FROM AGG_DL_PJ_QUALITY B )\n",
    "                WHERE RN=1\n",
    "                AND   PREDICCION=0\n",
    "        )\n",
    ") )B\n",
    "WHERE B.RN=1\n",
    ")\n",
    "\n",
    "SELECT  /*PARALLEL(8)*/\n",
    "        A.*,\n",
    "        B.*,\n",
    "        CASE \n",
    "            WHEN B.ULTIMA_RECARGA >= SYSDATE-5 THEN TO_NUMBER(TO_CHAR(B.ULTIMA_RECARGA,'YYYYMMDD'))\n",
    "            ELSE TO_NUMBER(TO_CHAR(B.ULTIMA_RECARGA+ROUND((SYSDATE-B.ULTIMA_RECARGA)/5,0)*5,'YYYYMMDD')) \n",
    "        END AS INICIO_CICLO,\n",
    "        CASE \n",
    "            WHEN B.ULTIMA_RECARGA = SYSDATE-5  THEN B.ULTIMA_RECARGA\n",
    "        END AS FECHA_PRED,\n",
    "        ROUND((SYSDATE-B.ULTIMA_RECARGA)/5,0) AS CICLOS \n",
    "        \n",
    "FROM BASE A \n",
    "JOIN RECARGAS B ON A.SUBSCRIBER_ID=B.SUBSCRIBER_ID \n",
    "'''"
   ]
  },
  {
   "cell_type": "code",
   "execution_count": null,
   "metadata": {},
   "outputs": [],
   "source": [
    "#COGEMOS EL QUERY ANTERIOR Y SEGMENTAMOS PARA ENTRENAR CON FECHA 20221120 NOVIEMBRE\n",
    "#QUERY QUE UNE LAS 2 TABLAS ANTERIORES Y LO DA PARA LA ACTUAL \n",
    "#LA IDEA DESPUES ES PEGARLE MAS DIAS CON LA MISMA LOGICA QUE SE ESTA MANEJANDO PARA TENER MAS BASE DE ENTRENAMIENTO \n",
    "#esta base contiene variables de ciclos , valor ultima_recarga y si es gross o permanece \n",
    "\n",
    "query=f'''\n",
    "WITH BASE AS \n",
    "(SELECT /*PARALLEL(8)*/\n",
    "        A.SUBSCRIBER_ID,\n",
    "        A.MOVIMIENTO_NOMBRE \n",
    "FROM DWH_BODEGA_WOM.FCT_SUBSCRIBERS_ENDING A \n",
    "WHERE A.PERIODO_PROCESO_CODIGO=202211\n",
    "AND A.SERVICIO='Prepaid'\n",
    "AND A.MOVIMIENTO_NOMBRE IN ('ACTIVACION','PERMANECE')\n",
    "AND A.ESTADO='Active'\n",
    "AND A.SUBSCRIBER_ID IN (\n",
    "            SELECT SUBSCRIBER_ID FROM ( \n",
    "                    SELECT B.*,\n",
    "                    ROW_NUMBER() OVER (PARTITION BY SUBSCRIBER_ID ORDER BY FECHA_PRED DESC) AS RN \n",
    "                    FROM AGG_DL_PJ_QUALITY B )\n",
    "            WHERE RN=1\n",
    "            AND   PREDICCION=0\n",
    ")),\n",
    "RECARGAS AS (\n",
    "SELECT /*PARALLEL(8)*/\n",
    "       B.SUBSCRIBER_ID,\n",
    "       B.TIEMPO_RECARGA_DK AS TIEMPO_ULTIMA_RECARGA,\n",
    "       B.VALOR_CARGA AS VALOR_ULTIMA_RECARGA,\n",
    "       B.FECHA_RECARGA AS ULTIMA_RECARGA\n",
    "FROM (\n",
    "SELECT /*PARALLEL(8)*/\n",
    "       B.*,\n",
    "       ROW_NUMBER() OVER (PARTITION BY SUBSCRIBER_ID ORDER BY FECHA_RECARGA DESC) AS RN  \n",
    "FROM DWH_BODEGA_WOM.FCT_RECARGAS B\n",
    "WHERE   B.TIEMPO_RECARGA_DK<=20221120\n",
    "        AND B.SUBSCRIBER_ID IN (\n",
    "        SELECT A.SUBSCRIBER_ID \n",
    "        FROM DWH_BODEGA_WOM.FCT_SUBSCRIBERS_ENDING A \n",
    "        WHERE A.PERIODO_PROCESO_CODIGO=202211\n",
    "        AND A.SERVICIO='Prepaid'\n",
    "        AND A.MOVIMIENTO_NOMBRE IN ('ACTIVACION','PERMANECE')\n",
    "        AND A.ESTADO='Active'\n",
    "        AND A.SUBSCRIBER_ID IN (\n",
    "                SELECT SUBSCRIBER_ID FROM ( \n",
    "                        SELECT B.*,\n",
    "                        ROW_NUMBER() OVER (PARTITION BY SUBSCRIBER_ID ORDER BY FECHA_PRED DESC) AS RN \n",
    "                        FROM AGG_DL_PJ_QUALITY B )\n",
    "                WHERE RN=1\n",
    "                AND   PREDICCION=0\n",
    "        )\n",
    ") )B\n",
    "WHERE B.RN=1\n",
    ")\n",
    "SELECT * FROM  (\n",
    "SELECT  /*PARALLEL(8)*/\n",
    "        A.MOVIMIENTO_NOMBRE,\n",
    "        B.*,\n",
    "        CASE\n",
    "            WHEN A.MOVIMIENTO_NOMBRE='ACTIVACION' THEN 1 \n",
    "            ELSE 0 \n",
    "        END AS GROSS_PERMA,\n",
    "        CASE \n",
    "            WHEN B.TIEMPO_ULTIMA_RECARGA >= 20221120-5 THEN B.TIEMPO_ULTIMA_RECARGA\n",
    "            ELSE TO_NUMBER(TO_CHAR(B.ULTIMA_RECARGA+ROUND((TO_DATE(TO_CHAR(20221120), 'YYYY/MM/DD')-B.ULTIMA_RECARGA)/5,0)*5 -5,'YYYYMMDD')) \n",
    "        END AS INICIO_CICLO,\n",
    "        20221120 AS FECHA_PRED,\n",
    "        ROUND((TO_DATE(TO_CHAR(20221120), 'YYYY/MM/DD')-B.ULTIMA_RECARGA)/5,0)-1 AS CICLOS \n",
    "FROM BASE A \n",
    "JOIN RECARGAS B ON A.SUBSCRIBER_ID=B.SUBSCRIBER_ID \n",
    ")G WHERE INICIO_CICLO=20221120-5\n",
    "\n",
    "\n",
    "'''\n",
    "base_entreno=cst.consulta(query)"
   ]
  },
  {
   "cell_type": "code",
   "execution_count": null,
   "metadata": {},
   "outputs": [],
   "source": [
    "#variables trafico cantidad llamadas, duracion y dias con llamadas\n",
    "query=f'''\n",
    "SELECT  SUBSCRIBER_ID,\n",
    "        SUM(CANT_CALLS) AS CANTIDAD_LLAMADAS,\n",
    "        SUM(DURACION_CALLS) AS DURACION_LLAMADAS,\n",
    "        COUNT(DISTINCT(PERIODO_PROCESO_CODIGO)) AS DIAS_LLAMADAS\n",
    "FROM AGG_DL_VOICE\n",
    "WHERE PERIODO_PROCESO_CODIGO BETWEEN 20221120-5 AND 20221120-1\n",
    "      AND SERVICIO='Prepaid'\n",
    "      AND SENTIDO='SALIENTE'\n",
    "GROUP BY SUBSCRIBER_ID\n",
    "'''\n",
    "trafico_voz=cst.consulta(query)"
   ]
  },
  {
   "cell_type": "code",
   "execution_count": null,
   "metadata": {},
   "outputs": [],
   "source": [
    "#variables de trafico de datos \n",
    "query=f'''\n",
    "SELECT SUBSCRIBER_ID,\n",
    "       ROUND(SUM(BYTES_TOTALES)/1024/1024,0) AS MB_CONSUMIDAS ,\n",
    "       COUNT(DISTINCT(PERIODO_PROCESO_CODIGO)) AS DIAS_NAV \n",
    "FROM AGG_DL_DATA\n",
    "WHERE PERIODO_PROCESO_CODIGO BETWEEN 20221120-5 AND 20221120-1\n",
    "      AND SERVICIO='Prepaid'\n",
    "GROUP BY SUBSCRIBER_ID\n",
    "'''\n",
    "trafico_datos=cst.consulta(query)"
   ]
  },
  {
   "cell_type": "code",
   "execution_count": null,
   "metadata": {},
   "outputs": [],
   "source": [
    "#agregar la variable binaria de paquete y los dias restantes de este pegandole el nombre \n",
    "query=f'''\n",
    "SELECT C.*,\n",
    "       ROUND(TO_DATE(TO_CHAR(20221120), 'YYYY/MM/DD')-C.FECHA_VENCE,0) AS DIAS_VENCIDO\n",
    "FROM (\n",
    "SELECT A.SUBSCRIBER_ID,\n",
    "       A.FECHA_RECARGA,\n",
    "       A.PAQUETE_NOMBRE,\n",
    "       COALESCE(B.DURACION,3),\n",
    "       A.FECHA_RECARGA+COALESCE(B.DURACION,3) AS FECHA_VENCE, \n",
    "       ROW_NUMBER() OVER(PARTITION BY A.SUBSCRIBER_ID ORDER BY A.FECHA_RECARGA DESC ) AS RN\n",
    "FROM DWH_BODEGA_WOM.FCT_PAQUETES A\n",
    "JOIN PAQUETES B ON A.PAQUETE_NOMBRE=B.PAQUETE_NOMBRE\n",
    "WHERE TIEMPO_PAQUETE_DK<=20221120-5\n",
    "      AND SERVICIO='Prepaid'\n",
    "    ) C WHERE RN=1\n",
    "'''\n",
    "paquetes_dur=cst.consulta(query)"
   ]
  },
  {
   "cell_type": "code",
   "execution_count": null,
   "metadata": {},
   "outputs": [],
   "source": [
    "#variable \"y\" para medir los resultados es mirar si recargo entre el 20 y 25 nov\n",
    "query=f'''\n",
    "SELECT SUBSCRIBER_ID,\n",
    "       CASE\n",
    "          WHEN COUNT(*)>=1 THEN 1 ELSE 0 \n",
    "       END AS RECARGO\n",
    "FROM DWH_BODEGA_WOM.FCT_RECARGAS\n",
    "WHERE TIEMPO_RECARGA_DK BETWEEN 20221120+1 AND 20221120+5 \n",
    "GROUP BY SUBSCRIBER_ID\n",
    "'''\n",
    "var_y=cst.consulta(query)"
   ]
  },
  {
   "cell_type": "code",
   "execution_count": null,
   "metadata": {},
   "outputs": [],
   "source": [
    "trafico_datos['SUBSCRIBER_ID'] = trafico_datos['SUBSCRIBER_ID'].astype('int64')\n",
    "trafico_voz['SUBSCRIBER_ID'] = trafico_voz['SUBSCRIBER_ID'].astype('int64')\n"
   ]
  },
  {
   "cell_type": "code",
   "execution_count": null,
   "metadata": {},
   "outputs": [],
   "source": [
    "df_insumos=base_entreno.merge(trafico_voz,left_on='SUBSCRIBER_ID',right_on='SUBSCRIBER_ID',how='left')\n",
    "df_insumos=df_insumos.merge(trafico_datos,left_on='SUBSCRIBER_ID',right_on='SUBSCRIBER_ID',how='left')\n",
    "df_insumos=df_insumos.merge(paquetes_dur,left_on='SUBSCRIBER_ID',right_on='SUBSCRIBER_ID',how='left')\n",
    "df_insumos=df_insumos.merge(var_y,left_on='SUBSCRIBER_ID',right_on='SUBSCRIBER_ID',how='left')"
   ]
  },
  {
   "cell_type": "code",
   "execution_count": null,
   "metadata": {},
   "outputs": [],
   "source": [
    "df_insumos=df_insumos.fillna(0)"
   ]
  },
  {
   "cell_type": "code",
   "execution_count": null,
   "metadata": {},
   "outputs": [],
   "source": [
    "import seaborn as sns\n",
    "from sklearn.model_selection import train_test_split\n",
    "from sklearn.metrics import confusion_matrix, classification_report\n",
    "from sklearn.cluster import KMeans\n",
    "from sklearn.ensemble import RandomForestClassifier\n",
    "from imblearn.over_sampling import SMOTE"
   ]
  },
  {
   "cell_type": "code",
   "execution_count": null,
   "metadata": {},
   "outputs": [],
   "source": [
    "df_insumos.columns"
   ]
  },
  {
   "cell_type": "code",
   "execution_count": null,
   "metadata": {},
   "outputs": [],
   "source": [
    "X_prueba=df_insumos[['VALOR_ULTIMA_RECARGA','GROSS_PERMA','CICLOS', 'CANTIDAD_LLAMADAS', 'DURACION_LLAMADAS',\n",
    "       'DIAS_LLAMADAS', 'MB_CONSUMIDAS', 'DIAS_NAV','DIAS_VENCIDO']]"
   ]
  },
  {
   "cell_type": "code",
   "execution_count": null,
   "metadata": {},
   "outputs": [],
   "source": [
    "y_port = df_insumos['RECARGO']"
   ]
  },
  {
   "cell_type": "code",
   "execution_count": null,
   "metadata": {},
   "outputs": [],
   "source": [
    "X_port=X_prueba\n",
    "X_train, X_test, y_train, y_test = train_test_split(X_port, y_port, train_size=0.7, random_state=13)"
   ]
  },
  {
   "cell_type": "code",
   "execution_count": null,
   "metadata": {},
   "outputs": [],
   "source": [
    "random_forest = RandomForestClassifier(random_state=12)"
   ]
  },
  {
   "cell_type": "code",
   "execution_count": null,
   "metadata": {},
   "outputs": [],
   "source": [
    "smote = SMOTE(random_state=13)\n",
    "X_smote, y_smote = smote.fit_resample(X_train, y_train.ravel())"
   ]
  },
  {
   "cell_type": "code",
   "execution_count": null,
   "metadata": {},
   "outputs": [],
   "source": [
    "random_forest.fit(X_smote, y_smote)"
   ]
  },
  {
   "cell_type": "code",
   "execution_count": null,
   "metadata": {},
   "outputs": [],
   "source": [
    "y_pred = random_forest.predict(X_test)"
   ]
  },
  {
   "cell_type": "code",
   "execution_count": null,
   "metadata": {},
   "outputs": [],
   "source": [
    "sns.heatmap(confusion_matrix(y_test, y_pred)/len(y_test)*100, annot=True)\n",
    "plt.show()"
   ]
  },
  {
   "cell_type": "code",
   "execution_count": null,
   "metadata": {},
   "outputs": [],
   "source": [
    "print(classification_report(y_test, y_pred))"
   ]
  },
  {
   "cell_type": "code",
   "execution_count": null,
   "metadata": {},
   "outputs": [],
   "source": [
    "feature_importance = random_forest.feature_importances_\n",
    "feature_names=X_port.columns\n",
    "dic_feature_importance = {\n",
    "                        'feature_importance':feature_importance,\n",
    "                        'feature_names':feature_names }\n",
    "feature_importance_DF= pd.DataFrame(dic_feature_importance).sort_values(by='feature_importance',ascending=False)\n",
    "feature_importance_DF.head(25)"
   ]
  }
 ],
 "metadata": {
  "kernelspec": {
   "display_name": "Python 3.9.12 ('base')",
   "language": "python",
   "name": "python3"
  },
  "language_info": {
   "codemirror_mode": {
    "name": "ipython",
    "version": 3
   },
   "file_extension": ".py",
   "mimetype": "text/x-python",
   "name": "python",
   "nbconvert_exporter": "python",
   "pygments_lexer": "ipython3",
   "version": "3.9.12"
  },
  "orig_nbformat": 4,
  "vscode": {
   "interpreter": {
    "hash": "7a0a7742312bbf78c71eca2da24ec56d97c88bffbf9bedfc979c612f0d633c46"
   }
  }
 },
 "nbformat": 4,
 "nbformat_minor": 2
}
