{
 "cells": [
  {
   "cell_type": "markdown",
   "metadata": {},
   "source": [
    "## **Librerías**"
   ]
  },
  {
   "cell_type": "code",
   "execution_count": 1,
   "metadata": {},
   "outputs": [],
   "source": [
    "import pandas as pd\n",
    "import numpy as np\n",
    "#import matplotlib.pyplot as plt\n",
    "#import seaborn as sns"
   ]
  },
  {
   "cell_type": "code",
   "execution_count": 2,
   "metadata": {},
   "outputs": [],
   "source": [
    "pd.options.display.max_columns = False"
   ]
  },
  {
   "cell_type": "code",
   "execution_count": 3,
   "metadata": {},
   "outputs": [],
   "source": [
    "from datetime import datetime, timedelta\n",
    "import winsound as cst"
   ]
  },
  {
   "cell_type": "code",
   "execution_count": 4,
   "metadata": {},
   "outputs": [],
   "source": [
    "import sys\n",
    "sys.path.append('./')\n",
    "sys.path.append('../')"
   ]
  },
  {
   "cell_type": "code",
   "execution_count": 5,
   "metadata": {},
   "outputs": [],
   "source": [
    "import Utils.consultas as cst "
   ]
  },
  {
   "cell_type": "code",
   "execution_count": null,
   "metadata": {},
   "outputs": [],
   "source": [
    "#query ultimo registro segmentado\n",
    "query=f'''\n",
    "select operador,rango_ult_registro,count(*) from (\n",
    "select numero,\n",
    "       ult_registro,\n",
    "       case\n",
    "            when  to_number(to_date(20240301,'yyyy/mm/dd')-to_date(ult_registro,'yyyy/mm/dd'))/30 <1 then '<=1'\n",
    "            when  to_number(to_date(20240301,'yyyy/mm/dd')-to_date(ult_registro,'yyyy/mm/dd'))/30 between 2 and 3 then '1 y 3'\n",
    "            when  to_number(to_date(20240301,'yyyy/mm/dd')-to_date(ult_registro,'yyyy/mm/dd'))/30 between 4 and 6 then '3 y 6'\n",
    "            else '>6'\n",
    "       end as rango_ult_registro,\n",
    "       operador \n",
    "from JMARTINEZ_ANA.TBL_NUMEROS_PNN\n",
    ") group by operador,rango_ult_registro\n",
    "order by operador\n",
    "\n",
    "'''\n",
    "ult_registro=cst.consulta(query)\n"
   ]
  },
  {
   "cell_type": "code",
   "execution_count": null,
   "metadata": {},
   "outputs": [],
   "source": [
    "#query total protaciones\n",
    "query=f'''\n",
    "with base as (\n",
    "select numero,\n",
    "       ult_registro,\n",
    "       case\n",
    "            when  to_number(to_date(20240301,'yyyy/mm/dd')-to_date(ult_registro,'yyyy/mm/dd'))/30 <1 then '<=1'\n",
    "            when  to_number(to_date(20240301,'yyyy/mm/dd')-to_date(ult_registro,'yyyy/mm/dd'))/30 between 1 and 3 then '1 y 3'\n",
    "            when  to_number(to_date(20240301,'yyyy/mm/dd')-to_date(ult_registro,'yyyy/mm/dd'))/30 between 3 and 6 then '3 y 6'\n",
    "            else '>6'\n",
    "       end as rango_ult_registro,\n",
    "       operador \n",
    "from JMARTINEZ_ANA.TBL_NUMEROS_PNN),\n",
    "portaciones_ext as (\n",
    "select port_number,count(*) as port_ext\n",
    "from YVANEGAS_PLAC.PORT_PLAY_AS_OTHERS\n",
    "where port_number in (\n",
    "select numero from JMARTINEZ_ANA.TBL_NUMEROS_PNN\n",
    ")group by port_number\n",
    "),\n",
    "portaciones_int as (\n",
    "select msisdn,count(*) as port_int\n",
    "FROM DWH_BODEGA_WOM.FCT_SUBSCRIBERS_ENDING \n",
    "WHERE  MOVIMIENTO_TIPO_NOMBRE IN ('GROSS ADDS PORTACION','CHURN PORTACION')\n",
    "and msisdn in (\n",
    "select numero from JMARTINEZ_ANA.TBL_NUMEROS_PNN\n",
    ") group by msisdn \n",
    ")\n",
    "\n",
    "\n",
    "select operador,portaciones,count(*) from (\n",
    "select a.numero,a.operador,\n",
    "       case \n",
    "              when  coalesce(b.port_ext,0)+coalesce(c.port_int,0) =0 then 'no hay 0 '\n",
    "              when  coalesce(b.port_ext,0)+coalesce(c.port_int,0) =1 then ' solo 1 '\n",
    "              when  coalesce(b.port_ext,0)+coalesce(c.port_int,0) between 2 and 3 then '1 y 3 '\n",
    "              when  coalesce(b.port_ext,0)+coalesce(c.port_int,0) >3 then 'mas de 3 '\n",
    "       end as portaciones\n",
    "from base a \n",
    "left join portaciones_ext b on a.numero=b.port_number\n",
    "left join portaciones_int c on a.numero=c.msisdn\n",
    ")group by operador,portaciones\n",
    "order by operador\n",
    "\n",
    "'''\n",
    "portaciones=cst.consulta(query)"
   ]
  },
  {
   "cell_type": "code",
   "execution_count": null,
   "metadata": {},
   "outputs": [],
   "source": [
    "#query ultima portacion rango\n",
    "query=f'''\n",
    "with base as (\n",
    "select numero,\n",
    "       ult_registro,\n",
    "       case\n",
    "            when  to_number(to_date(20240301,'yyyy/mm/dd')-to_date(ult_registro,'yyyy/mm/dd'))/30 <1 then '<=1'\n",
    "            when  to_number(to_date(20240301,'yyyy/mm/dd')-to_date(ult_registro,'yyyy/mm/dd'))/30 between 1 and 3 then '1 y 3'\n",
    "            when  to_number(to_date(20240301,'yyyy/mm/dd')-to_date(ult_registro,'yyyy/mm/dd'))/30 between 3 and 6 then '3 y 6'\n",
    "            else '>6'\n",
    "       end as rango_ult_registro,\n",
    "       operador \n",
    "from JMARTINEZ_ANA.TBL_NUMEROS_PNN),\n",
    "portaciones_ext as (\n",
    "select port_number,max(created_date) as ult_portacion_ext\n",
    "from YVANEGAS_PLAC.PORT_PLAY_AS_OTHERS\n",
    "where port_number in (\n",
    "select numero from JMARTINEZ_ANA.TBL_NUMEROS_PNN\n",
    ")group by port_number\n",
    "),\n",
    "portaciones_int as (\n",
    "select msisdn,to_date(max(tiempo_dk),'yyyy/mm/dd') as ult_portacion_int\n",
    "FROM DWH_BODEGA_WOM.FCT_SUBSCRIBERS_ENDING \n",
    "WHERE  MOVIMIENTO_TIPO_NOMBRE IN ('GROSS ADDS PORTACION','CHURN PORTACION')\n",
    "and msisdn in (\n",
    "select numero from JMARTINEZ_ANA.TBL_NUMEROS_PNN\n",
    ") group by msisdn \n",
    ")\n",
    "select operador,rango_ult_portacion,count(*) from (\n",
    "select numero,operador,\n",
    "       case\n",
    "            when  to_number(to_date(20240301,'yyyy/mm/dd')-ult_portacion)/30 <1 then '<=1'\n",
    "            when  to_number(to_date(20240301,'yyyy/mm/dd')-ult_portacion)/30 between 1 and 3 then '1 y 3'\n",
    "            when  to_number(to_date(20240301,'yyyy/mm/dd')-ult_portacion)/30 between 3 and 6 then '3 y 6'\n",
    "            when  to_number(to_date(20240301,'yyyy/mm/dd')-ult_portacion)/30 between 6 and 12 then '6 y 12'\n",
    "            else '>12'\n",
    "       end as rango_ult_portacion\n",
    "from (\n",
    "select a.numero,a.operador,\n",
    "       ult_portacion_int,\n",
    "       ult_portacion_ext,\n",
    "       case \n",
    "              when coalesce(ult_portacion_ext,to_date(20200101,'yyyy/mm/dd'))>coalesce(ult_portacion_int,to_date(20200101,'yyyy/mm/dd')) then ult_portacion_ext\n",
    "              when coalesce(ult_portacion_ext,to_date(20200101,'yyyy/mm/dd'))<coalesce(ult_portacion_int,to_date(20200101,'yyyy/mm/dd')) then ult_portacion_int\n",
    "       end as ult_portacion\n",
    "from base a \n",
    "left join portaciones_ext b on a.numero=b.port_number\n",
    "left join portaciones_int c on a.numero=c.msisdn\n",
    "where ult_portacion_ext is not null or ult_portacion_int is not null\n",
    ")\n",
    ")\n",
    "group by operador,rango_ult_portacion\n",
    "order by operador \n",
    "'''\n",
    "ult_portacion=cst.consulta(query)"
   ]
  },
  {
   "cell_type": "code",
   "execution_count": null,
   "metadata": {},
   "outputs": [],
   "source": [
    "query=f'''\n",
    "\n",
    "'''"
   ]
  },
  {
   "cell_type": "code",
   "execution_count": 10,
   "metadata": {},
   "outputs": [],
   "source": [
    "prueba.to_csv('upselling_popup.csv')"
   ]
  },
  {
   "cell_type": "markdown",
   "metadata": {},
   "source": [
    "## **Variables Globales**"
   ]
  },
  {
   "cell_type": "code",
   "execution_count": 6,
   "metadata": {},
   "outputs": [],
   "source": [
    "dia = int(str(datetime.now()).replace('-', '')[:8])\n",
    "mes = int(str(datetime.now()).replace('-', '')[:6])"
   ]
  },
  {
   "cell_type": "markdown",
   "metadata": {},
   "source": [
    "## **Datos**"
   ]
  },
  {
   "cell_type": "code",
   "execution_count": null,
   "metadata": {},
   "outputs": [],
   "source": []
  },
  {
   "cell_type": "markdown",
   "metadata": {},
   "source": [
    "## **Limpieza**"
   ]
  },
  {
   "cell_type": "code",
   "execution_count": null,
   "metadata": {},
   "outputs": [],
   "source": []
  },
  {
   "cell_type": "markdown",
   "metadata": {},
   "source": [
    "## **Analísis y Exploración**"
   ]
  },
  {
   "cell_type": "code",
   "execution_count": null,
   "metadata": {},
   "outputs": [],
   "source": []
  }
 ],
 "metadata": {
  "kernelspec": {
   "display_name": "StarterPack",
   "language": "python",
   "name": "python3"
  },
  "language_info": {
   "codemirror_mode": {
    "name": "ipython",
    "version": 3
   },
   "file_extension": ".py",
   "mimetype": "text/x-python",
   "name": "python",
   "nbconvert_exporter": "python",
   "pygments_lexer": "ipython3",
   "version": "3.9.12"
  },
  "orig_nbformat": 4
 },
 "nbformat": 4,
 "nbformat_minor": 2
}
