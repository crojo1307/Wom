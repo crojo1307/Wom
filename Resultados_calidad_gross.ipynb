{
 "cells": [
  {
   "cell_type": "code",
   "execution_count": 1,
   "metadata": {},
   "outputs": [],
   "source": [
    "import pandas as pd\n",
    "import numpy as np\n",
    "import matplotlib.pyplot as plt\n",
    "import seaborn as sns"
   ]
  },
  {
   "cell_type": "code",
   "execution_count": 2,
   "metadata": {},
   "outputs": [],
   "source": [
    "pd.options.display.max_columns = False"
   ]
  },
  {
   "cell_type": "code",
   "execution_count": 3,
   "metadata": {},
   "outputs": [],
   "source": [
    "import consultas as cst"
   ]
  },
  {
   "cell_type": "code",
   "execution_count": 4,
   "metadata": {},
   "outputs": [],
   "source": [
    "from datetime import datetime, timedelta\n",
    "import winsound"
   ]
  },
  {
   "cell_type": "code",
   "execution_count": 5,
   "metadata": {},
   "outputs": [],
   "source": [
    "from sklearn.metrics import classification_report, confusion_matrix"
   ]
  },
  {
   "cell_type": "code",
   "execution_count": 6,
   "metadata": {},
   "outputs": [],
   "source": [
    "import pickle"
   ]
  },
  {
   "cell_type": "code",
   "execution_count": 6,
   "metadata": {},
   "outputs": [],
   "source": [
    "#periodo\n",
    "periodo = 202201"
   ]
  },
  {
   "cell_type": "code",
   "execution_count": 7,
   "metadata": {},
   "outputs": [
    {
     "name": "stderr",
     "output_type": "stream",
     "text": [
      "c:\\Users\\HP EliteBook 840 G3\\anaconda3\\lib\\site-packages\\pandas\\io\\sql.py:761: UserWarning: pandas only support SQLAlchemy connectable(engine/connection) ordatabase string URI or sqlite3 DBAPI2 connectionother DBAPI2 objects are not tested, please consider using SQLAlchemy\n",
      "  warnings.warn(\n"
     ]
    }
   ],
   "source": [
    "query = f'''\n",
    "SELECT /*+PARALLEL(8)*/ \n",
    "    *\n",
    "FROM AGG_DL_PJ_QUALITY\n",
    "WHERE PERIODO_PROCESO_CODIGO = {periodo}\n",
    "'''\n",
    "\n",
    "df = cst.consulta(query)"
   ]
  },
  {
   "cell_type": "code",
   "execution_count": 8,
   "metadata": {},
   "outputs": [
    {
     "data": {
      "text/html": [
       "<div>\n",
       "<style scoped>\n",
       "    .dataframe tbody tr th:only-of-type {\n",
       "        vertical-align: middle;\n",
       "    }\n",
       "\n",
       "    .dataframe tbody tr th {\n",
       "        vertical-align: top;\n",
       "    }\n",
       "\n",
       "    .dataframe thead th {\n",
       "        text-align: right;\n",
       "    }\n",
       "</style>\n",
       "<table border=\"1\" class=\"dataframe\">\n",
       "  <thead>\n",
       "    <tr style=\"text-align: right;\">\n",
       "      <th></th>\n",
       "      <th>PREDICCION</th>\n",
       "    </tr>\n",
       "  </thead>\n",
       "  <tbody>\n",
       "    <tr>\n",
       "      <th>0</th>\n",
       "      <td>70.62928</td>\n",
       "    </tr>\n",
       "    <tr>\n",
       "      <th>1</th>\n",
       "      <td>29.37072</td>\n",
       "    </tr>\n",
       "  </tbody>\n",
       "</table>\n",
       "</div>"
      ],
      "text/plain": [
       "   PREDICCION\n",
       "0    70.62928\n",
       "1    29.37072"
      ]
     },
     "execution_count": 8,
     "metadata": {},
     "output_type": "execute_result"
    }
   ],
   "source": [
    "pd.DataFrame(df['PREDICCION'].value_counts()/len(df)*100)"
   ]
  },
  {
   "cell_type": "code",
   "execution_count": 10,
   "metadata": {},
   "outputs": [
    {
     "name": "stderr",
     "output_type": "stream",
     "text": [
      "c:\\Users\\HP EliteBook 840 G3\\anaconda3\\lib\\site-packages\\pandas\\io\\sql.py:761: UserWarning: pandas only support SQLAlchemy connectable(engine/connection) ordatabase string URI or sqlite3 DBAPI2 connectionother DBAPI2 objects are not tested, please consider using SQLAlchemy\n",
      "  warnings.warn(\n"
     ]
    }
   ],
   "source": [
    "query = f'''\n",
    "SELECT /*+PARALLEL(8)*/ \n",
    "    A.SUBSCRIBER_ID,\n",
    "    A.FECHA_ALTA,\n",
    "    A.FECHA_ALTA + 8 AS FECHA_PRED,\n",
    "    COALESCE(A.OPERADOR_PORTA_ORIGEN, 'LINEA_NUEVA') AS OPERADOR_ORIGEN,\n",
    "    B.PERIODO_PROCESO_CODIGO AS ULT_MES,\n",
    "    B.MOVIMIENTO_TIPO_NOMBRE AS ULT_MOV,\n",
    "    B.FECHA_BAJA,\n",
    "    A.CONSULTOR_DK,\n",
    "    B.ESTADO,\n",
    "    C.CONSULTOR_CANAL_NOMBRE, \n",
    "    C.CONSULTOR_SUBCANAL_NOMBRE, \n",
    "    C.CONSULTOR_ALMACEN_NOMBRE, \n",
    "    C.CONSULTOR_NOMBRE_NIVEL_8,\n",
    "    B.RN\n",
    "FROM DWH_BODEGA_WOM.FCT_SUBSCRIBERS_ENDING A\n",
    "LEFT JOIN (\n",
    "    SELECT /*+PARALLEL(8)*/ \n",
    "        SUBSCRIBER_ID,\n",
    "        PERIODO_PROCESO_CODIGO,\n",
    "        MOVIMIENTO_TIPO_NOMBRE,\n",
    "        FECHA_BAJA,\n",
    "        ESTADO,\n",
    "        RN\n",
    "    FROM (\n",
    "        SELECT /*+PARALLEL(8)*/\n",
    "            SUBSCRIBER_ID,\n",
    "            PERIODO_PROCESO_CODIGO,\n",
    "            MOVIMIENTO_TIPO_NOMBRE,\n",
    "            FECHA_BAJA,\n",
    "            ESTADO,\n",
    "            ROW_NUMBER() OVER (PARTITION BY SUBSCRIBER_ID ORDER BY PERIODO_PROCESO_CODIGO DESC) AS RN\n",
    "        FROM DWH_BODEGA_WOM.FCT_SUBSCRIBERS_ENDING A\n",
    "        WHERE PERIODO_PROCESO_CODIGO > {periodo}\n",
    "            AND SERVICIO = 'Prepaid'\n",
    "    )\n",
    "    WHERE RN IN (1, 2)\n",
    ")B ON A.SUBSCRIBER_ID = B.SUBSCRIBER_ID\n",
    "LEFT JOIN DWH_BODEGA_WOM.DIM_CONSULTORES C ON A.CONSULTOR_DK = C.CONSULTOR_DK\n",
    "WHERE A.PERIODO_PROCESO_CODIGO = {periodo}\n",
    "    AND A.MOVIMIENTO_NOMBRE = 'ACTIVACION'\n",
    "    AND A.SERVICIO = 'Prepaid'\n",
    "'''\n",
    "\n",
    "base = cst.consulta(query)"
   ]
  },
  {
   "cell_type": "code",
   "execution_count": 11,
   "metadata": {},
   "outputs": [],
   "source": [
    "base['FECHA_BAJA'].fillna(0, inplace=True)\n",
    "base['MES_BAJA'] = base['FECHA_BAJA'].apply(lambda x:int(str(x).replace('-', '')[:6]))"
   ]
  },
  {
   "cell_type": "code",
   "execution_count": 12,
   "metadata": {},
   "outputs": [
    {
     "data": {
      "text/html": [
       "<div>\n",
       "<style scoped>\n",
       "    .dataframe tbody tr th:only-of-type {\n",
       "        vertical-align: middle;\n",
       "    }\n",
       "\n",
       "    .dataframe tbody tr th {\n",
       "        vertical-align: top;\n",
       "    }\n",
       "\n",
       "    .dataframe thead th {\n",
       "        text-align: right;\n",
       "    }\n",
       "</style>\n",
       "<table border=\"1\" class=\"dataframe\">\n",
       "  <thead>\n",
       "    <tr style=\"text-align: right;\">\n",
       "      <th></th>\n",
       "      <th>SUBSCRIBER_ID</th>\n",
       "    </tr>\n",
       "    <tr>\n",
       "      <th>ESTADO</th>\n",
       "      <th></th>\n",
       "    </tr>\n",
       "  </thead>\n",
       "  <tbody>\n",
       "    <tr>\n",
       "      <th>Active</th>\n",
       "      <td>328887</td>\n",
       "    </tr>\n",
       "    <tr>\n",
       "      <th>Inactive</th>\n",
       "      <td>5</td>\n",
       "    </tr>\n",
       "    <tr>\n",
       "      <th>One-Way Block</th>\n",
       "      <td>4998</td>\n",
       "    </tr>\n",
       "    <tr>\n",
       "      <th>Termination</th>\n",
       "      <td>92387</td>\n",
       "    </tr>\n",
       "    <tr>\n",
       "      <th>Two-Way Block</th>\n",
       "      <td>220</td>\n",
       "    </tr>\n",
       "  </tbody>\n",
       "</table>\n",
       "</div>"
      ],
      "text/plain": [
       "               SUBSCRIBER_ID\n",
       "ESTADO                      \n",
       "Active                328887\n",
       "Inactive                   5\n",
       "One-Way Block           4998\n",
       "Termination            92387\n",
       "Two-Way Block            220"
      ]
     },
     "execution_count": 12,
     "metadata": {},
     "output_type": "execute_result"
    }
   ],
   "source": [
    "base.groupby('ESTADO')[['SUBSCRIBER_ID']].count()"
   ]
  },
  {
   "cell_type": "code",
   "execution_count": 13,
   "metadata": {},
   "outputs": [],
   "source": [
    "base.rename(columns={'ULT_MES':'PERIODO_PROCESO_CODIGO'}, inplace=True)"
   ]
  },
  {
   "cell_type": "code",
   "execution_count": 14,
   "metadata": {},
   "outputs": [],
   "source": [
    "base_comp = pd.crosstab(index=base['SUBSCRIBER_ID'], columns=base['RN'], values=base['ESTADO'], aggfunc='sum').reset_index()"
   ]
  },
  {
   "cell_type": "code",
   "execution_count": 15,
   "metadata": {},
   "outputs": [],
   "source": [
    "base_comp.columns = ['SUBSCRIBER_ID', 'ULT_MES', 'ANT_MES']"
   ]
  },
  {
   "cell_type": "code",
   "execution_count": 16,
   "metadata": {},
   "outputs": [],
   "source": [
    "base_comp = base_comp[['SUBSCRIBER_ID', 'ANT_MES', 'ULT_MES']]"
   ]
  },
  {
   "cell_type": "code",
   "execution_count": 17,
   "metadata": {},
   "outputs": [],
   "source": [
    "base_comp = pd.merge(base_comp, base.query('RN == 1')[['SUBSCRIBER_ID', 'ULT_MOV', 'PERIODO_PROCESO_CODIGO']], how='left', left_on='SUBSCRIBER_ID', right_on='SUBSCRIBER_ID')"
   ]
  },
  {
   "cell_type": "code",
   "execution_count": 18,
   "metadata": {},
   "outputs": [
    {
     "data": {
      "text/html": [
       "<div>\n",
       "<style scoped>\n",
       "    .dataframe tbody tr th:only-of-type {\n",
       "        vertical-align: middle;\n",
       "    }\n",
       "\n",
       "    .dataframe tbody tr th {\n",
       "        vertical-align: top;\n",
       "    }\n",
       "\n",
       "    .dataframe thead th {\n",
       "        text-align: right;\n",
       "    }\n",
       "</style>\n",
       "<table border=\"1\" class=\"dataframe\">\n",
       "  <thead>\n",
       "    <tr style=\"text-align: right;\">\n",
       "      <th></th>\n",
       "      <th></th>\n",
       "      <th>SUBSCRIBER_ID</th>\n",
       "    </tr>\n",
       "    <tr>\n",
       "      <th>ANT_MES</th>\n",
       "      <th>ULT_MES</th>\n",
       "      <th></th>\n",
       "    </tr>\n",
       "  </thead>\n",
       "  <tbody>\n",
       "    <tr>\n",
       "      <th rowspan=\"4\" valign=\"top\">Active</th>\n",
       "      <th>Active</th>\n",
       "      <td>127361</td>\n",
       "    </tr>\n",
       "    <tr>\n",
       "      <th>One-Way Block</th>\n",
       "      <td>2088</td>\n",
       "    </tr>\n",
       "    <tr>\n",
       "      <th>Termination</th>\n",
       "      <td>72032</td>\n",
       "    </tr>\n",
       "    <tr>\n",
       "      <th>Two-Way Block</th>\n",
       "      <td>2</td>\n",
       "    </tr>\n",
       "    <tr>\n",
       "      <th rowspan=\"2\" valign=\"top\">Inactive</th>\n",
       "      <th>Inactive</th>\n",
       "      <td>2</td>\n",
       "    </tr>\n",
       "    <tr>\n",
       "      <th>Termination</th>\n",
       "      <td>1</td>\n",
       "    </tr>\n",
       "    <tr>\n",
       "      <th rowspan=\"3\" valign=\"top\">One-Way Block</th>\n",
       "      <th>Active</th>\n",
       "      <td>24</td>\n",
       "    </tr>\n",
       "    <tr>\n",
       "      <th>One-Way Block</th>\n",
       "      <td>617</td>\n",
       "    </tr>\n",
       "    <tr>\n",
       "      <th>Termination</th>\n",
       "      <td>1652</td>\n",
       "    </tr>\n",
       "    <tr>\n",
       "      <th>Termination</th>\n",
       "      <th>Active</th>\n",
       "      <td>19</td>\n",
       "    </tr>\n",
       "    <tr>\n",
       "      <th>Two-Way Block</th>\n",
       "      <th>Two-Way Block</th>\n",
       "      <td>109</td>\n",
       "    </tr>\n",
       "  </tbody>\n",
       "</table>\n",
       "</div>"
      ],
      "text/plain": [
       "                             SUBSCRIBER_ID\n",
       "ANT_MES       ULT_MES                     \n",
       "Active        Active                127361\n",
       "              One-Way Block           2088\n",
       "              Termination            72032\n",
       "              Two-Way Block              2\n",
       "Inactive      Inactive                   2\n",
       "              Termination                1\n",
       "One-Way Block Active                    24\n",
       "              One-Way Block            617\n",
       "              Termination             1652\n",
       "Termination   Active                    19\n",
       "Two-Way Block Two-Way Block            109"
      ]
     },
     "execution_count": 18,
     "metadata": {},
     "output_type": "execute_result"
    }
   ],
   "source": [
    "base_comp.groupby(['ANT_MES', 'ULT_MES'])[['SUBSCRIBER_ID']].count()"
   ]
  },
  {
   "cell_type": "code",
   "execution_count": 19,
   "metadata": {},
   "outputs": [
    {
     "data": {
      "text/html": [
       "<div>\n",
       "<style scoped>\n",
       "    .dataframe tbody tr th:only-of-type {\n",
       "        vertical-align: middle;\n",
       "    }\n",
       "\n",
       "    .dataframe tbody tr th {\n",
       "        vertical-align: top;\n",
       "    }\n",
       "\n",
       "    .dataframe thead th {\n",
       "        text-align: right;\n",
       "    }\n",
       "</style>\n",
       "<table border=\"1\" class=\"dataframe\">\n",
       "  <thead>\n",
       "    <tr style=\"text-align: right;\">\n",
       "      <th></th>\n",
       "      <th>SUBSCRIBER_ID</th>\n",
       "    </tr>\n",
       "    <tr>\n",
       "      <th>ULT_MOV</th>\n",
       "      <th></th>\n",
       "    </tr>\n",
       "  </thead>\n",
       "  <tbody>\n",
       "    <tr>\n",
       "      <th>CHURN FRAUDE</th>\n",
       "      <td>1</td>\n",
       "    </tr>\n",
       "    <tr>\n",
       "      <th>CHURN INACTIVIDAD</th>\n",
       "      <td>42120</td>\n",
       "    </tr>\n",
       "    <tr>\n",
       "      <th>CHURN MIGRACION</th>\n",
       "      <td>1643</td>\n",
       "    </tr>\n",
       "    <tr>\n",
       "      <th>CHURN PORTACION</th>\n",
       "      <td>11353</td>\n",
       "    </tr>\n",
       "    <tr>\n",
       "      <th>CHURN VOLUNTARIO</th>\n",
       "      <td>16915</td>\n",
       "    </tr>\n",
       "  </tbody>\n",
       "</table>\n",
       "</div>"
      ],
      "text/plain": [
       "                   SUBSCRIBER_ID\n",
       "ULT_MOV                         \n",
       "CHURN FRAUDE                   1\n",
       "CHURN INACTIVIDAD          42120\n",
       "CHURN MIGRACION             1643\n",
       "CHURN PORTACION            11353\n",
       "CHURN VOLUNTARIO           16915"
      ]
     },
     "execution_count": 19,
     "metadata": {},
     "output_type": "execute_result"
    }
   ],
   "source": [
    "base_comp.query('ANT_MES == \"Active\" & ULT_MES == \"Termination\"').groupby('ULT_MOV')[['SUBSCRIBER_ID']].count()"
   ]
  },
  {
   "cell_type": "code",
   "execution_count": 20,
   "metadata": {},
   "outputs": [],
   "source": [
    "gross = base.drop_duplicates(subset='SUBSCRIBER_ID').copy()\n"
   ]
  },
  {
   "cell_type": "code",
   "execution_count": 21,
   "metadata": {},
   "outputs": [],
   "source": [
    "gross['FECHA_ALTA'].fillna(0, inplace=True)\n",
    "\n",
    "gross['MES_ALTA'] = gross['FECHA_ALTA'].apply(lambda x: int(str(x).replace('-', '')[:6]))\n",
    "gross['DIA_ALTA'] = gross['FECHA_ALTA'].apply(lambda x: int(str(x).replace('-', '')[:8]))"
   ]
  },
  {
   "cell_type": "code",
   "execution_count": 22,
   "metadata": {},
   "outputs": [],
   "source": [
    "gross['FECHA_BAJA'].fillna(0, inplace=True)\n",
    "\n",
    "gross['MES_BAJA'] = gross['FECHA_BAJA'].apply(lambda x: int(str(x).replace('-', '')[:6]))\n",
    "gross['DIA_BAJA'] = gross['FECHA_BAJA'].apply(lambda x: int(str(x).replace('-', '')[:8]))"
   ]
  },
  {
   "cell_type": "code",
   "execution_count": 23,
   "metadata": {},
   "outputs": [],
   "source": [
    "gross['M0'] = gross['MES_ALTA']\n",
    "gross['M1'] = gross['MES_ALTA'] + 1\n",
    "gross['M2'] = gross['MES_ALTA'] + 2\n",
    "gross['M3'] = gross['MES_ALTA'] + 3"
   ]
  },
  {
   "cell_type": "code",
   "execution_count": 24,
   "metadata": {},
   "outputs": [],
   "source": [
    "gross['FAKE_PORT_1'] = np.where(gross['MES_BAJA']==gross['M1'], \n",
    "                                 1,\n",
    "                                 np.where(gross['MES_BAJA']==gross['M3'], \n",
    "                                          1, \n",
    "                                          np.where(gross['MES_BAJA']==gross['M2'], 1, 0)))\n",
    "\n",
    "gross['FAKE_PORT_0'] = np.where(gross['ULT_MOV'] == 'PERMANECE', 1, 0)"
   ]
  },
  {
   "cell_type": "code",
   "execution_count": 25,
   "metadata": {},
   "outputs": [
    {
     "data": {
      "text/html": [
       "<div>\n",
       "<style scoped>\n",
       "    .dataframe tbody tr th:only-of-type {\n",
       "        vertical-align: middle;\n",
       "    }\n",
       "\n",
       "    .dataframe tbody tr th {\n",
       "        vertical-align: top;\n",
       "    }\n",
       "\n",
       "    .dataframe thead th {\n",
       "        text-align: right;\n",
       "    }\n",
       "</style>\n",
       "<table border=\"1\" class=\"dataframe\">\n",
       "  <thead>\n",
       "    <tr style=\"text-align: right;\">\n",
       "      <th></th>\n",
       "      <th>SUBSCRIBER_ID</th>\n",
       "    </tr>\n",
       "    <tr>\n",
       "      <th>FAKE_PORT_1</th>\n",
       "      <th></th>\n",
       "    </tr>\n",
       "  </thead>\n",
       "  <tbody>\n",
       "    <tr>\n",
       "      <th>0</th>\n",
       "      <td>130222</td>\n",
       "    </tr>\n",
       "    <tr>\n",
       "      <th>1</th>\n",
       "      <td>92368</td>\n",
       "    </tr>\n",
       "  </tbody>\n",
       "</table>\n",
       "</div>"
      ],
      "text/plain": [
       "             SUBSCRIBER_ID\n",
       "FAKE_PORT_1               \n",
       "0                   130222\n",
       "1                    92368"
      ]
     },
     "execution_count": 25,
     "metadata": {},
     "output_type": "execute_result"
    }
   ],
   "source": [
    "gross.groupby('FAKE_PORT_1')[['SUBSCRIBER_ID']].count()"
   ]
  },
  {
   "cell_type": "code",
   "execution_count": 26,
   "metadata": {},
   "outputs": [],
   "source": [
    "df_cont = pd.merge(df[['SUBSCRIBER_ID', 'PREDICCION', 'PROBABILIDAD']], gross[['SUBSCRIBER_ID', 'FAKE_PORT_1', 'ESTADO', 'MES_BAJA', 'ULT_MOV']])"
   ]
  },
  {
   "cell_type": "code",
   "execution_count": 27,
   "metadata": {},
   "outputs": [
    {
     "data": {
      "text/html": [
       "<div>\n",
       "<style scoped>\n",
       "    .dataframe tbody tr th:only-of-type {\n",
       "        vertical-align: middle;\n",
       "    }\n",
       "\n",
       "    .dataframe tbody tr th {\n",
       "        vertical-align: top;\n",
       "    }\n",
       "\n",
       "    .dataframe thead th {\n",
       "        text-align: right;\n",
       "    }\n",
       "</style>\n",
       "<table border=\"1\" class=\"dataframe\">\n",
       "  <thead>\n",
       "    <tr style=\"text-align: right;\">\n",
       "      <th></th>\n",
       "      <th>SUBSCRIBER_ID</th>\n",
       "      <th>PREDICCION</th>\n",
       "      <th>PROBABILIDAD</th>\n",
       "      <th>FAKE_PORT_1</th>\n",
       "      <th>ESTADO</th>\n",
       "      <th>MES_BAJA</th>\n",
       "      <th>ULT_MOV</th>\n",
       "    </tr>\n",
       "  </thead>\n",
       "  <tbody>\n",
       "    <tr>\n",
       "      <th>0</th>\n",
       "      <td>1233539406</td>\n",
       "      <td>1</td>\n",
       "      <td>950467757936508</td>\n",
       "      <td>1</td>\n",
       "      <td>Termination</td>\n",
       "      <td>202205</td>\n",
       "      <td>CHURN INACTIVIDAD</td>\n",
       "    </tr>\n",
       "    <tr>\n",
       "      <th>1</th>\n",
       "      <td>1233521456</td>\n",
       "      <td>0</td>\n",
       "      <td>33</td>\n",
       "      <td>0</td>\n",
       "      <td>Termination</td>\n",
       "      <td>202210</td>\n",
       "      <td>CHURN INACTIVIDAD</td>\n",
       "    </tr>\n",
       "    <tr>\n",
       "      <th>2</th>\n",
       "      <td>1168819072</td>\n",
       "      <td>0</td>\n",
       "      <td>1133333333333333</td>\n",
       "      <td>0</td>\n",
       "      <td>Active</td>\n",
       "      <td>0</td>\n",
       "      <td>PERMANECE</td>\n",
       "    </tr>\n",
       "    <tr>\n",
       "      <th>3</th>\n",
       "      <td>1168820253</td>\n",
       "      <td>0</td>\n",
       "      <td>1</td>\n",
       "      <td>0</td>\n",
       "      <td>Active</td>\n",
       "      <td>0</td>\n",
       "      <td>PERMANECE</td>\n",
       "    </tr>\n",
       "    <tr>\n",
       "      <th>4</th>\n",
       "      <td>1210627124</td>\n",
       "      <td>0</td>\n",
       "      <td>16</td>\n",
       "      <td>0</td>\n",
       "      <td>Termination</td>\n",
       "      <td>202208</td>\n",
       "      <td>CHURN INACTIVIDAD</td>\n",
       "    </tr>\n",
       "  </tbody>\n",
       "</table>\n",
       "</div>"
      ],
      "text/plain": [
       "   SUBSCRIBER_ID  PREDICCION  ...  MES_BAJA            ULT_MOV\n",
       "0     1233539406           1  ...    202205  CHURN INACTIVIDAD\n",
       "1     1233521456           0  ...    202210  CHURN INACTIVIDAD\n",
       "2     1168819072           0  ...         0          PERMANECE\n",
       "3     1168820253           0  ...         0          PERMANECE\n",
       "4     1210627124           0  ...    202208  CHURN INACTIVIDAD\n",
       "\n",
       "[5 rows x 7 columns]"
      ]
     },
     "execution_count": 27,
     "metadata": {},
     "output_type": "execute_result"
    }
   ],
   "source": [
    "df_cont.head()"
   ]
  },
  {
   "cell_type": "code",
   "execution_count": 27,
   "metadata": {},
   "outputs": [
    {
     "data": {
      "text/plain": [
       "array([[64249, 65973],\n",
       "       [29960, 62408]], dtype=int64)"
      ]
     },
     "execution_count": 27,
     "metadata": {},
     "output_type": "execute_result"
    }
   ],
   "source": [
    "confusion_matrix(df_cont['FAKE_PORT_1'], df_cont['PREDICCION'])"
   ]
  },
  {
   "cell_type": "code",
   "execution_count": 28,
   "metadata": {},
   "outputs": [
    {
     "data": {
      "image/png": "[encoded data removed]",
      "text/plain": [
       "<Figure size 432x288 with 2 Axes>"
      ]
     },
     "metadata": {
      "needs_background": "light"
     },
     "output_type": "display_data"
    }
   ],
   "source": [
    "sns.heatmap(confusion_matrix(df_cont['FAKE_PORT_1'], df_cont['PREDICCION'])/len(df_cont)*100, annot=True)\n",
    "plt.show()"
   ]
  },
  {
   "cell_type": "code",
   "execution_count": 29,
   "metadata": {},
   "outputs": [
    {
     "data": {
      "text/html": [
       "<div>\n",
       "<style scoped>\n",
       "    .dataframe tbody tr th:only-of-type {\n",
       "        vertical-align: middle;\n",
       "    }\n",
       "\n",
       "    .dataframe tbody tr th {\n",
       "        vertical-align: top;\n",
       "    }\n",
       "\n",
       "    .dataframe thead th {\n",
       "        text-align: right;\n",
       "    }\n",
       "</style>\n",
       "<table border=\"1\" class=\"dataframe\">\n",
       "  <thead>\n",
       "    <tr style=\"text-align: right;\">\n",
       "      <th></th>\n",
       "      <th>SUBSCRIBER_ID</th>\n",
       "    </tr>\n",
       "    <tr>\n",
       "      <th>MC</th>\n",
       "      <th></th>\n",
       "    </tr>\n",
       "  </thead>\n",
       "  <tbody>\n",
       "    <tr>\n",
       "      <th>FN</th>\n",
       "      <td>29960</td>\n",
       "    </tr>\n",
       "    <tr>\n",
       "      <th>FP</th>\n",
       "      <td>65973</td>\n",
       "    </tr>\n",
       "    <tr>\n",
       "      <th>TN</th>\n",
       "      <td>64249</td>\n",
       "    </tr>\n",
       "    <tr>\n",
       "      <th>TP</th>\n",
       "      <td>62408</td>\n",
       "    </tr>\n",
       "  </tbody>\n",
       "</table>\n",
       "</div>"
      ],
      "text/plain": [
       "    SUBSCRIBER_ID\n",
       "MC               \n",
       "FN          29960\n",
       "FP          65973\n",
       "TN          64249\n",
       "TP          62408"
      ]
     },
     "execution_count": 29,
     "metadata": {},
     "output_type": "execute_result"
    }
   ],
   "source": [
    "df_cont['MC'] = np.where((df_cont['FAKE_PORT_1'] == 1) & (df_cont['PREDICCION'] == 1),\n",
    "                         'TP', \n",
    "                         np.where((df_cont['FAKE_PORT_1'] == 0) & (df_cont['PREDICCION'] == 0), \n",
    "                                  'TN', \n",
    "                                  np.where((df_cont['FAKE_PORT_1'] == 1) & (df_cont['PREDICCION'] == 0), \n",
    "                                           'FN', \n",
    "                                           np.where((df_cont['FAKE_PORT_1'] == 0) & (df_cont['PREDICCION'] == 1), \n",
    "                                                    'FP', \n",
    "                                                    '0'))))\n",
    "\n",
    "df_cont.groupby(['MC'])[['SUBSCRIBER_ID']].count()"
   ]
  },
  {
   "cell_type": "code",
   "execution_count": 31,
   "metadata": {},
   "outputs": [
    {
     "ename": "MergeError",
     "evalue": "Data columns not unique: Index(['SUBSCRIBER_ID', 'ESTADO', 'MES_BAJA', 'ULT_MOV'], dtype='object')",
     "output_type": "error",
     "traceback": [
      "\u001b[1;31m---------------------------------------------------------------------------\u001b[0m",
      "\u001b[1;31mMergeError\u001b[0m                                Traceback (most recent call last)",
      "\u001b[1;32mc:\\Users\\HP EliteBook 840 G3\\Documents\\Exploracion churn prepago\\Resultados_calidad_gross.ipynb Celda 31\u001b[0m in \u001b[0;36m<cell line: 1>\u001b[1;34m()\u001b[0m\n\u001b[1;32m----> <a href='vscode-notebook-cell:/c%3A/Users/HP%20EliteBook%20840%20G3/Documents/Exploracion%20churn%20prepago/Resultados_calidad_gross.ipynb#X42sZmlsZQ%3D%3D?line=0'>1</a>\u001b[0m df_cont \u001b[39m=\u001b[39m pd\u001b[39m.\u001b[39;49mmerge(df_cont, gross[[\u001b[39m'\u001b[39;49m\u001b[39mSUBSCRIBER_ID\u001b[39;49m\u001b[39m'\u001b[39;49m, \u001b[39m'\u001b[39;49m\u001b[39mESTADO\u001b[39;49m\u001b[39m'\u001b[39;49m, \u001b[39m'\u001b[39;49m\u001b[39mMES_BAJA\u001b[39;49m\u001b[39m'\u001b[39;49m, \u001b[39m'\u001b[39;49m\u001b[39mULT_MOV\u001b[39;49m\u001b[39m'\u001b[39;49m, \u001b[39m'\u001b[39;49m\u001b[39mMES_BAJA\u001b[39;49m\u001b[39m'\u001b[39;49m]])\n",
      "File \u001b[1;32mc:\\Users\\HP EliteBook 840 G3\\anaconda3\\lib\\site-packages\\pandas\\core\\reshape\\merge.py:107\u001b[0m, in \u001b[0;36mmerge\u001b[1;34m(left, right, how, on, left_on, right_on, left_index, right_index, sort, suffixes, copy, indicator, validate)\u001b[0m\n\u001b[0;32m     90\u001b[0m \u001b[39m@Substitution\u001b[39m(\u001b[39m\"\u001b[39m\u001b[39m\\n\u001b[39;00m\u001b[39mleft : DataFrame or named Series\u001b[39m\u001b[39m\"\u001b[39m)\n\u001b[0;32m     91\u001b[0m \u001b[39m@Appender\u001b[39m(_merge_doc, indents\u001b[39m=\u001b[39m\u001b[39m0\u001b[39m)\n\u001b[0;32m     92\u001b[0m \u001b[39mdef\u001b[39;00m \u001b[39mmerge\u001b[39m(\n\u001b[1;32m   (...)\u001b[0m\n\u001b[0;32m    105\u001b[0m     validate: \u001b[39mstr\u001b[39m \u001b[39m|\u001b[39m \u001b[39mNone\u001b[39;00m \u001b[39m=\u001b[39m \u001b[39mNone\u001b[39;00m,\n\u001b[0;32m    106\u001b[0m ) \u001b[39m-\u001b[39m\u001b[39m>\u001b[39m DataFrame:\n\u001b[1;32m--> 107\u001b[0m     op \u001b[39m=\u001b[39m _MergeOperation(\n\u001b[0;32m    108\u001b[0m         left,\n\u001b[0;32m    109\u001b[0m         right,\n\u001b[0;32m    110\u001b[0m         how\u001b[39m=\u001b[39;49mhow,\n\u001b[0;32m    111\u001b[0m         on\u001b[39m=\u001b[39;49mon,\n\u001b[0;32m    112\u001b[0m         left_on\u001b[39m=\u001b[39;49mleft_on,\n\u001b[0;32m    113\u001b[0m         right_on\u001b[39m=\u001b[39;49mright_on,\n\u001b[0;32m    114\u001b[0m         left_index\u001b[39m=\u001b[39;49mleft_index,\n\u001b[0;32m    115\u001b[0m         right_index\u001b[39m=\u001b[39;49mright_index,\n\u001b[0;32m    116\u001b[0m         sort\u001b[39m=\u001b[39;49msort,\n\u001b[0;32m    117\u001b[0m         suffixes\u001b[39m=\u001b[39;49msuffixes,\n\u001b[0;32m    118\u001b[0m         copy\u001b[39m=\u001b[39;49mcopy,\n\u001b[0;32m    119\u001b[0m         indicator\u001b[39m=\u001b[39;49mindicator,\n\u001b[0;32m    120\u001b[0m         validate\u001b[39m=\u001b[39;49mvalidate,\n\u001b[0;32m    121\u001b[0m     )\n\u001b[0;32m    122\u001b[0m     \u001b[39mreturn\u001b[39;00m op\u001b[39m.\u001b[39mget_result()\n",
      "File \u001b[1;32mc:\\Users\\HP EliteBook 840 G3\\anaconda3\\lib\\site-packages\\pandas\\core\\reshape\\merge.py:682\u001b[0m, in \u001b[0;36m_MergeOperation.__init__\u001b[1;34m(self, left, right, how, on, left_on, right_on, axis, left_index, right_index, sort, suffixes, copy, indicator, validate)\u001b[0m\n\u001b[0;32m    678\u001b[0m     \u001b[39m# stacklevel chosen to be correct when this is reached via pd.merge\u001b[39;00m\n\u001b[0;32m    679\u001b[0m     \u001b[39m# (and not DataFrame.join)\u001b[39;00m\n\u001b[0;32m    680\u001b[0m     warnings\u001b[39m.\u001b[39mwarn(msg, \u001b[39mFutureWarning\u001b[39;00m, stacklevel\u001b[39m=\u001b[39mfind_stack_level())\n\u001b[1;32m--> 682\u001b[0m \u001b[39mself\u001b[39;49m\u001b[39m.\u001b[39;49m_validate_specification()\n\u001b[0;32m    684\u001b[0m cross_col \u001b[39m=\u001b[39m \u001b[39mNone\u001b[39;00m\n\u001b[0;32m    685\u001b[0m \u001b[39mif\u001b[39;00m \u001b[39mself\u001b[39m\u001b[39m.\u001b[39mhow \u001b[39m==\u001b[39m \u001b[39m\"\u001b[39m\u001b[39mcross\u001b[39m\u001b[39m\"\u001b[39m:\n",
      "File \u001b[1;32mc:\\Users\\HP EliteBook 840 G3\\anaconda3\\lib\\site-packages\\pandas\\core\\reshape\\merge.py:1360\u001b[0m, in \u001b[0;36m_MergeOperation._validate_specification\u001b[1;34m(self)\u001b[0m\n\u001b[0;32m   1349\u001b[0m             \u001b[39mraise\u001b[39;00m MergeError(\n\u001b[0;32m   1350\u001b[0m                 \u001b[39m\"\u001b[39m\u001b[39mNo common columns to perform merge on. \u001b[39m\u001b[39m\"\u001b[39m\n\u001b[0;32m   1351\u001b[0m                 \u001b[39mf\u001b[39m\u001b[39m\"\u001b[39m\u001b[39mMerge options: left_on=\u001b[39m\u001b[39m{\u001b[39;00m\u001b[39mself\u001b[39m\u001b[39m.\u001b[39mleft_on\u001b[39m}\u001b[39;00m\u001b[39m, \u001b[39m\u001b[39m\"\u001b[39m\n\u001b[1;32m   (...)\u001b[0m\n\u001b[0;32m   1354\u001b[0m                 \u001b[39mf\u001b[39m\u001b[39m\"\u001b[39m\u001b[39mright_index=\u001b[39m\u001b[39m{\u001b[39;00m\u001b[39mself\u001b[39m\u001b[39m.\u001b[39mright_index\u001b[39m}\u001b[39;00m\u001b[39m\"\u001b[39m\n\u001b[0;32m   1355\u001b[0m             )\n\u001b[0;32m   1356\u001b[0m         \u001b[39mif\u001b[39;00m (\n\u001b[0;32m   1357\u001b[0m             \u001b[39mnot\u001b[39;00m left_cols\u001b[39m.\u001b[39mjoin(common_cols, how\u001b[39m=\u001b[39m\u001b[39m\"\u001b[39m\u001b[39minner\u001b[39m\u001b[39m\"\u001b[39m)\u001b[39m.\u001b[39mis_unique\n\u001b[0;32m   1358\u001b[0m             \u001b[39mor\u001b[39;00m \u001b[39mnot\u001b[39;00m right_cols\u001b[39m.\u001b[39mjoin(common_cols, how\u001b[39m=\u001b[39m\u001b[39m\"\u001b[39m\u001b[39minner\u001b[39m\u001b[39m\"\u001b[39m)\u001b[39m.\u001b[39mis_unique\n\u001b[0;32m   1359\u001b[0m         ):\n\u001b[1;32m-> 1360\u001b[0m             \u001b[39mraise\u001b[39;00m MergeError(\u001b[39mf\u001b[39m\u001b[39m\"\u001b[39m\u001b[39mData columns not unique: \u001b[39m\u001b[39m{\u001b[39;00m\u001b[39mrepr\u001b[39m(common_cols)\u001b[39m}\u001b[39;00m\u001b[39m\"\u001b[39m)\n\u001b[0;32m   1361\u001b[0m         \u001b[39mself\u001b[39m\u001b[39m.\u001b[39mleft_on \u001b[39m=\u001b[39m \u001b[39mself\u001b[39m\u001b[39m.\u001b[39mright_on \u001b[39m=\u001b[39m common_cols\n\u001b[0;32m   1362\u001b[0m \u001b[39melif\u001b[39;00m \u001b[39mself\u001b[39m\u001b[39m.\u001b[39mon \u001b[39mis\u001b[39;00m \u001b[39mnot\u001b[39;00m \u001b[39mNone\u001b[39;00m:\n",
      "\u001b[1;31mMergeError\u001b[0m: Data columns not unique: Index(['SUBSCRIBER_ID', 'ESTADO', 'MES_BAJA', 'ULT_MOV'], dtype='object')"
     ]
    }
   ],
   "source": [
    "df_cont = pd.merge(df_cont, gross[['SUBSCRIBER_ID', 'ESTADO', 'MES_BAJA', 'ULT_MOV', 'MES_BAJA']])"
   ]
  },
  {
   "cell_type": "code",
   "execution_count": 30,
   "metadata": {},
   "outputs": [
    {
     "data": {
      "text/html": [
       "<div>\n",
       "<style scoped>\n",
       "    .dataframe tbody tr th:only-of-type {\n",
       "        vertical-align: middle;\n",
       "    }\n",
       "\n",
       "    .dataframe tbody tr th {\n",
       "        vertical-align: top;\n",
       "    }\n",
       "\n",
       "    .dataframe thead th {\n",
       "        text-align: right;\n",
       "    }\n",
       "</style>\n",
       "<table border=\"1\" class=\"dataframe\">\n",
       "  <thead>\n",
       "    <tr style=\"text-align: right;\">\n",
       "      <th></th>\n",
       "      <th>SUBSCRIBER_ID</th>\n",
       "    </tr>\n",
       "    <tr>\n",
       "      <th>ULT_MOV</th>\n",
       "      <th></th>\n",
       "    </tr>\n",
       "  </thead>\n",
       "  <tbody>\n",
       "    <tr>\n",
       "      <th>GROSS ADDS MIGRACION</th>\n",
       "      <td>1</td>\n",
       "    </tr>\n",
       "    <tr>\n",
       "      <th>GROSS ADDS NUEVA</th>\n",
       "      <td>1</td>\n",
       "    </tr>\n",
       "    <tr>\n",
       "      <th>PERMANECE</th>\n",
       "      <td>65971</td>\n",
       "    </tr>\n",
       "  </tbody>\n",
       "</table>\n",
       "</div>"
      ],
      "text/plain": [
       "                      SUBSCRIBER_ID\n",
       "ULT_MOV                            \n",
       "GROSS ADDS MIGRACION              1\n",
       "GROSS ADDS NUEVA                  1\n",
       "PERMANECE                     65971"
      ]
     },
     "execution_count": 30,
     "metadata": {},
     "output_type": "execute_result"
    }
   ],
   "source": [
    "df_cont.query('MC == \"FP\"').groupby('ULT_MOV')[['SUBSCRIBER_ID']].count()"
   ]
  },
  {
   "cell_type": "code",
   "execution_count": 31,
   "metadata": {},
   "outputs": [
    {
     "data": {
      "text/html": [
       "<div>\n",
       "<style scoped>\n",
       "    .dataframe tbody tr th:only-of-type {\n",
       "        vertical-align: middle;\n",
       "    }\n",
       "\n",
       "    .dataframe tbody tr th {\n",
       "        vertical-align: top;\n",
       "    }\n",
       "\n",
       "    .dataframe thead th {\n",
       "        text-align: right;\n",
       "    }\n",
       "</style>\n",
       "<table border=\"1\" class=\"dataframe\">\n",
       "  <thead>\n",
       "    <tr style=\"text-align: right;\">\n",
       "      <th></th>\n",
       "      <th>ULT_MOV</th>\n",
       "    </tr>\n",
       "  </thead>\n",
       "  <tbody>\n",
       "    <tr>\n",
       "      <th>PERMANECE</th>\n",
       "      <td>99.996968</td>\n",
       "    </tr>\n",
       "    <tr>\n",
       "      <th>GROSS ADDS NUEVA</th>\n",
       "      <td>0.001516</td>\n",
       "    </tr>\n",
       "    <tr>\n",
       "      <th>GROSS ADDS MIGRACION</th>\n",
       "      <td>0.001516</td>\n",
       "    </tr>\n",
       "  </tbody>\n",
       "</table>\n",
       "</div>"
      ],
      "text/plain": [
       "                        ULT_MOV\n",
       "PERMANECE             99.996968\n",
       "GROSS ADDS NUEVA       0.001516\n",
       "GROSS ADDS MIGRACION   0.001516"
      ]
     },
     "execution_count": 31,
     "metadata": {},
     "output_type": "execute_result"
    }
   ],
   "source": [
    "pd.DataFrame(df_cont.query('MC == \"FP\"')['ULT_MOV'].value_counts()/len(df_cont.query('MC == \"FP\"'))*100)"
   ]
  },
  {
   "cell_type": "code",
   "execution_count": 32,
   "metadata": {},
   "outputs": [
    {
     "data": {
      "text/html": [
       "<div>\n",
       "<style scoped>\n",
       "    .dataframe tbody tr th:only-of-type {\n",
       "        vertical-align: middle;\n",
       "    }\n",
       "\n",
       "    .dataframe tbody tr th {\n",
       "        vertical-align: top;\n",
       "    }\n",
       "\n",
       "    .dataframe thead th {\n",
       "        text-align: right;\n",
       "    }\n",
       "</style>\n",
       "<table border=\"1\" class=\"dataframe\">\n",
       "  <thead>\n",
       "    <tr style=\"text-align: right;\">\n",
       "      <th>MES_BAJA</th>\n",
       "      <th>0</th>\n",
       "    </tr>\n",
       "    <tr>\n",
       "      <th>ULT_MOV</th>\n",
       "      <th></th>\n",
       "    </tr>\n",
       "  </thead>\n",
       "  <tbody>\n",
       "    <tr>\n",
       "      <th>GROSS ADDS MIGRACION</th>\n",
       "      <td>1</td>\n",
       "    </tr>\n",
       "    <tr>\n",
       "      <th>GROSS ADDS NUEVA</th>\n",
       "      <td>1</td>\n",
       "    </tr>\n",
       "    <tr>\n",
       "      <th>PERMANECE</th>\n",
       "      <td>65971</td>\n",
       "    </tr>\n",
       "  </tbody>\n",
       "</table>\n",
       "</div>"
      ],
      "text/plain": [
       "MES_BAJA                  0\n",
       "ULT_MOV                    \n",
       "GROSS ADDS MIGRACION      1\n",
       "GROSS ADDS NUEVA          1\n",
       "PERMANECE             65971"
      ]
     },
     "execution_count": 32,
     "metadata": {},
     "output_type": "execute_result"
    }
   ],
   "source": [
    "pd.crosstab(index=df_cont.query('MC == \"FP\"')['ULT_MOV'], columns=df_cont.query('MC == \"FP\"')['MES_BAJA'])"
   ]
  },
  {
   "cell_type": "code",
   "execution_count": 33,
   "metadata": {},
   "outputs": [
    {
     "data": {
      "text/html": [
       "<div>\n",
       "<style scoped>\n",
       "    .dataframe tbody tr th:only-of-type {\n",
       "        vertical-align: middle;\n",
       "    }\n",
       "\n",
       "    .dataframe tbody tr th {\n",
       "        vertical-align: top;\n",
       "    }\n",
       "\n",
       "    .dataframe thead th {\n",
       "        text-align: right;\n",
       "    }\n",
       "</style>\n",
       "<table border=\"1\" class=\"dataframe\">\n",
       "  <thead>\n",
       "    <tr style=\"text-align: right;\">\n",
       "      <th></th>\n",
       "      <th>0</th>\n",
       "    </tr>\n",
       "    <tr>\n",
       "      <th>MES_BAJA</th>\n",
       "      <th></th>\n",
       "    </tr>\n",
       "  </thead>\n",
       "  <tbody>\n",
       "    <tr>\n",
       "      <th>0</th>\n",
       "      <td>100.0</td>\n",
       "    </tr>\n",
       "  </tbody>\n",
       "</table>\n",
       "</div>"
      ],
      "text/plain": [
       "              0\n",
       "MES_BAJA       \n",
       "0         100.0"
      ]
     },
     "execution_count": 33,
     "metadata": {},
     "output_type": "execute_result"
    }
   ],
   "source": [
    "pd.DataFrame(round(df_cont.query('MC == \"FP\"').value_counts('MES_BAJA')/len(df_cont.query('MC == \"FP\"'))*100, 0))"
   ]
  },
  {
   "cell_type": "code",
   "execution_count": 34,
   "metadata": {},
   "outputs": [
    {
     "data": {
      "text/html": [
       "<div>\n",
       "<style scoped>\n",
       "    .dataframe tbody tr th:only-of-type {\n",
       "        vertical-align: middle;\n",
       "    }\n",
       "\n",
       "    .dataframe tbody tr th {\n",
       "        vertical-align: top;\n",
       "    }\n",
       "\n",
       "    .dataframe thead th {\n",
       "        text-align: right;\n",
       "    }\n",
       "</style>\n",
       "<table border=\"1\" class=\"dataframe\">\n",
       "  <thead>\n",
       "    <tr style=\"text-align: right;\">\n",
       "      <th></th>\n",
       "      <th>SUBSCRIBER_ID</th>\n",
       "    </tr>\n",
       "    <tr>\n",
       "      <th>ESTADO</th>\n",
       "      <th></th>\n",
       "    </tr>\n",
       "  </thead>\n",
       "  <tbody>\n",
       "    <tr>\n",
       "      <th>Active</th>\n",
       "      <td>65190</td>\n",
       "    </tr>\n",
       "    <tr>\n",
       "      <th>Inactive</th>\n",
       "      <td>2</td>\n",
       "    </tr>\n",
       "    <tr>\n",
       "      <th>One-Way Block</th>\n",
       "      <td>763</td>\n",
       "    </tr>\n",
       "    <tr>\n",
       "      <th>Two-Way Block</th>\n",
       "      <td>16</td>\n",
       "    </tr>\n",
       "  </tbody>\n",
       "</table>\n",
       "</div>"
      ],
      "text/plain": [
       "               SUBSCRIBER_ID\n",
       "ESTADO                      \n",
       "Active                 65190\n",
       "Inactive                   2\n",
       "One-Way Block            763\n",
       "Two-Way Block             16"
      ]
     },
     "execution_count": 34,
     "metadata": {},
     "output_type": "execute_result"
    }
   ],
   "source": [
    "df_cont.query('MC == \"FP\" & ULT_MOV == \"PERMANECE\"').groupby('ESTADO')[['SUBSCRIBER_ID']].count()"
   ]
  },
  {
   "cell_type": "code",
   "execution_count": 37,
   "metadata": {},
   "outputs": [
    {
     "ename": "SyntaxError",
     "evalue": "unexpected EOF while parsing (2757143987.py, line 1)",
     "output_type": "error",
     "traceback": [
      "\u001b[1;36m  Input \u001b[1;32mIn [37]\u001b[1;36m\u001b[0m\n\u001b[1;33m    pd.DataFrame(df_cont.query('MC == \"FP\" & ULT_MOV == \"PERMANECE\"')[['ESTADO']].value_counts()/len(df_cont.query('MC == \"FP\" & ULT_MOV == \"PERMANECE\"'))*1\u001b[0m\n\u001b[1;37m                                                                                                                                                            ^\u001b[0m\n\u001b[1;31mSyntaxError\u001b[0m\u001b[1;31m:\u001b[0m unexpected EOF while parsing\n"
     ]
    }
   ],
   "source": [
    "pd.DataFrame(df_cont.query('MC == \"FP\" & ULT_MOV == \"PERMANECE\"')[['ESTADO']].value_counts()/len(df_cont.query('MC == \"FP\" & ULT_MOV == \"PERMANECE\"'))*1"
   ]
  },
  {
   "cell_type": "code",
   "execution_count": 35,
   "metadata": {},
   "outputs": [],
   "source": [
    "df_cont = pd.merge(df_cont, base_comp[['SUBSCRIBER_ID', 'ANT_MES', 'ULT_MES', 'ULT_MOV']], how='left')"
   ]
  },
  {
   "cell_type": "code",
   "execution_count": 36,
   "metadata": {},
   "outputs": [
    {
     "data": {
      "text/html": [
       "<div>\n",
       "<style scoped>\n",
       "    .dataframe tbody tr th:only-of-type {\n",
       "        vertical-align: middle;\n",
       "    }\n",
       "\n",
       "    .dataframe tbody tr th {\n",
       "        vertical-align: top;\n",
       "    }\n",
       "\n",
       "    .dataframe thead th {\n",
       "        text-align: right;\n",
       "    }\n",
       "</style>\n",
       "<table border=\"1\" class=\"dataframe\">\n",
       "  <thead>\n",
       "    <tr style=\"text-align: right;\">\n",
       "      <th></th>\n",
       "      <th></th>\n",
       "      <th>SUBSCRIBER_ID</th>\n",
       "    </tr>\n",
       "    <tr>\n",
       "      <th>ULT_MOV</th>\n",
       "      <th>ANT_MES</th>\n",
       "      <th></th>\n",
       "    </tr>\n",
       "  </thead>\n",
       "  <tbody>\n",
       "    <tr>\n",
       "      <th>GROSS ADDS MIGRACION</th>\n",
       "      <th>Termination</th>\n",
       "      <td>1</td>\n",
       "    </tr>\n",
       "    <tr>\n",
       "      <th>GROSS ADDS NUEVA</th>\n",
       "      <th>Termination</th>\n",
       "      <td>1</td>\n",
       "    </tr>\n",
       "    <tr>\n",
       "      <th rowspan=\"4\" valign=\"top\">PERMANECE</th>\n",
       "      <th>Active</th>\n",
       "      <td>65725</td>\n",
       "    </tr>\n",
       "    <tr>\n",
       "      <th>Inactive</th>\n",
       "      <td>2</td>\n",
       "    </tr>\n",
       "    <tr>\n",
       "      <th>One-Way Block</th>\n",
       "      <td>228</td>\n",
       "    </tr>\n",
       "    <tr>\n",
       "      <th>Two-Way Block</th>\n",
       "      <td>16</td>\n",
       "    </tr>\n",
       "  </tbody>\n",
       "</table>\n",
       "</div>"
      ],
      "text/plain": [
       "                                    SUBSCRIBER_ID\n",
       "ULT_MOV              ANT_MES                     \n",
       "GROSS ADDS MIGRACION Termination                1\n",
       "GROSS ADDS NUEVA     Termination                1\n",
       "PERMANECE            Active                 65725\n",
       "                     Inactive                   2\n",
       "                     One-Way Block            228\n",
       "                     Two-Way Block             16"
      ]
     },
     "execution_count": 36,
     "metadata": {},
     "output_type": "execute_result"
    }
   ],
   "source": [
    "df_cont.query('MC == \"FP\"').groupby(['ULT_MOV', 'ANT_MES'])[['SUBSCRIBER_ID']].count()"
   ]
  },
  {
   "cell_type": "code",
   "execution_count": 37,
   "metadata": {},
   "outputs": [
    {
     "data": {
      "text/html": [
       "<div>\n",
       "<style scoped>\n",
       "    .dataframe tbody tr th:only-of-type {\n",
       "        vertical-align: middle;\n",
       "    }\n",
       "\n",
       "    .dataframe tbody tr th {\n",
       "        vertical-align: top;\n",
       "    }\n",
       "\n",
       "    .dataframe thead th {\n",
       "        text-align: right;\n",
       "    }\n",
       "</style>\n",
       "<table border=\"1\" class=\"dataframe\">\n",
       "  <thead>\n",
       "    <tr style=\"text-align: right;\">\n",
       "      <th></th>\n",
       "      <th>MES_BAJA</th>\n",
       "    </tr>\n",
       "  </thead>\n",
       "  <tbody>\n",
       "    <tr>\n",
       "      <th>202209</th>\n",
       "      <td>59.0</td>\n",
       "    </tr>\n",
       "    <tr>\n",
       "      <th>202210</th>\n",
       "      <td>23.0</td>\n",
       "    </tr>\n",
       "    <tr>\n",
       "      <th>202208</th>\n",
       "      <td>18.0</td>\n",
       "    </tr>\n",
       "  </tbody>\n",
       "</table>\n",
       "</div>"
      ],
      "text/plain": [
       "        MES_BAJA\n",
       "202209      59.0\n",
       "202210      23.0\n",
       "202208      18.0"
      ]
     },
     "execution_count": 37,
     "metadata": {},
     "output_type": "execute_result"
    }
   ],
   "source": [
    "pd.DataFrame(round(df_cont.query('MC == \"FN\"')['MES_BAJA'].value_counts()/len(df_cont.query('MC == \"FN\"'))*100))"
   ]
  },
  {
   "cell_type": "code",
   "execution_count": 38,
   "metadata": {},
   "outputs": [
    {
     "data": {
      "text/html": [
       "<div>\n",
       "<style scoped>\n",
       "    .dataframe tbody tr th:only-of-type {\n",
       "        vertical-align: middle;\n",
       "    }\n",
       "\n",
       "    .dataframe tbody tr th {\n",
       "        vertical-align: top;\n",
       "    }\n",
       "\n",
       "    .dataframe thead th {\n",
       "        text-align: right;\n",
       "    }\n",
       "</style>\n",
       "<table border=\"1\" class=\"dataframe\">\n",
       "  <thead>\n",
       "    <tr style=\"text-align: right;\">\n",
       "      <th></th>\n",
       "      <th>ULT_MOV</th>\n",
       "    </tr>\n",
       "  </thead>\n",
       "  <tbody>\n",
       "    <tr>\n",
       "      <th>CHURN INACTIVIDAD</th>\n",
       "      <td>57.0</td>\n",
       "    </tr>\n",
       "    <tr>\n",
       "      <th>CHURN PORTACION</th>\n",
       "      <td>28.0</td>\n",
       "    </tr>\n",
       "    <tr>\n",
       "      <th>CHURN VOLUNTARIO</th>\n",
       "      <td>7.0</td>\n",
       "    </tr>\n",
       "    <tr>\n",
       "      <th>CHURN MIGRACION</th>\n",
       "      <td>7.0</td>\n",
       "    </tr>\n",
       "  </tbody>\n",
       "</table>\n",
       "</div>"
      ],
      "text/plain": [
       "                   ULT_MOV\n",
       "CHURN INACTIVIDAD     57.0\n",
       "CHURN PORTACION       28.0\n",
       "CHURN VOLUNTARIO       7.0\n",
       "CHURN MIGRACION        7.0"
      ]
     },
     "execution_count": 38,
     "metadata": {},
     "output_type": "execute_result"
    }
   ],
   "source": [
    "pd.DataFrame(round(df_cont.query('MC == \"FN\"')['ULT_MOV'].value_counts()/len(df_cont.query('MC == \"FN\"'))*100))"
   ]
  },
  {
   "cell_type": "code",
   "execution_count": 39,
   "metadata": {},
   "outputs": [
    {
     "data": {
      "text/html": [
       "<div>\n",
       "<style scoped>\n",
       "    .dataframe tbody tr th:only-of-type {\n",
       "        vertical-align: middle;\n",
       "    }\n",
       "\n",
       "    .dataframe tbody tr th {\n",
       "        vertical-align: top;\n",
       "    }\n",
       "\n",
       "    .dataframe thead th {\n",
       "        text-align: right;\n",
       "    }\n",
       "</style>\n",
       "<table border=\"1\" class=\"dataframe\">\n",
       "  <thead>\n",
       "    <tr style=\"text-align: right;\">\n",
       "      <th>MES_BAJA</th>\n",
       "      <th>202208</th>\n",
       "      <th>202209</th>\n",
       "      <th>202210</th>\n",
       "    </tr>\n",
       "    <tr>\n",
       "      <th>ULT_MOV</th>\n",
       "      <th></th>\n",
       "      <th></th>\n",
       "      <th></th>\n",
       "    </tr>\n",
       "  </thead>\n",
       "  <tbody>\n",
       "    <tr>\n",
       "      <th>CHURN INACTIVIDAD</th>\n",
       "      <td>0</td>\n",
       "      <td>13997</td>\n",
       "      <td>3229</td>\n",
       "    </tr>\n",
       "    <tr>\n",
       "      <th>CHURN MIGRACION</th>\n",
       "      <td>686</td>\n",
       "      <td>589</td>\n",
       "      <td>722</td>\n",
       "    </tr>\n",
       "    <tr>\n",
       "      <th>CHURN PORTACION</th>\n",
       "      <td>4653</td>\n",
       "      <td>2910</td>\n",
       "      <td>944</td>\n",
       "    </tr>\n",
       "    <tr>\n",
       "      <th>CHURN VOLUNTARIO</th>\n",
       "      <td>110</td>\n",
       "      <td>34</td>\n",
       "      <td>2086</td>\n",
       "    </tr>\n",
       "  </tbody>\n",
       "</table>\n",
       "</div>"
      ],
      "text/plain": [
       "MES_BAJA           202208  202209  202210\n",
       "ULT_MOV                                  \n",
       "CHURN INACTIVIDAD       0   13997    3229\n",
       "CHURN MIGRACION       686     589     722\n",
       "CHURN PORTACION      4653    2910     944\n",
       "CHURN VOLUNTARIO      110      34    2086"
      ]
     },
     "execution_count": 39,
     "metadata": {},
     "output_type": "execute_result"
    }
   ],
   "source": [
    "pd.crosstab(index=df_cont.query('MC == \"FN\"')['ULT_MOV'], columns=df_cont.query('MC == \"FN\"')['MES_BAJA'])"
   ]
  },
  {
   "cell_type": "code",
   "execution_count": 40,
   "metadata": {},
   "outputs": [
    {
     "data": {
      "text/plain": [
       "CHURN INACTIVIDAD    43.0\n",
       "CHURN PORTACION      33.0\n",
       "CHURN VOLUNTARIO     24.0\n",
       "CHURN MIGRACION       1.0\n",
       "CHURN FRAUDE          0.0\n",
       "Name: ULT_MOV, dtype: float64"
      ]
     },
     "execution_count": 40,
     "metadata": {},
     "output_type": "execute_result"
    }
   ],
   "source": [
    "round(df_cont.query('MC == \"TP\"')['ULT_MOV'].value_counts()/len(df_cont.query('MC == \"TP\"'))*100)"
   ]
  },
  {
   "cell_type": "code",
   "execution_count": 41,
   "metadata": {},
   "outputs": [
    {
     "data": {
      "text/html": [
       "<div>\n",
       "<style scoped>\n",
       "    .dataframe tbody tr th:only-of-type {\n",
       "        vertical-align: middle;\n",
       "    }\n",
       "\n",
       "    .dataframe tbody tr th {\n",
       "        vertical-align: top;\n",
       "    }\n",
       "\n",
       "    .dataframe thead th {\n",
       "        text-align: right;\n",
       "    }\n",
       "</style>\n",
       "<table border=\"1\" class=\"dataframe\">\n",
       "  <thead>\n",
       "    <tr style=\"text-align: right;\">\n",
       "      <th>MES_BAJA</th>\n",
       "      <th>202208</th>\n",
       "      <th>202209</th>\n",
       "      <th>202210</th>\n",
       "    </tr>\n",
       "    <tr>\n",
       "      <th>ULT_MOV</th>\n",
       "      <th></th>\n",
       "      <th></th>\n",
       "      <th></th>\n",
       "    </tr>\n",
       "  </thead>\n",
       "  <tbody>\n",
       "    <tr>\n",
       "      <th>CHURN FRAUDE</th>\n",
       "      <td>0</td>\n",
       "      <td>0</td>\n",
       "      <td>1</td>\n",
       "    </tr>\n",
       "    <tr>\n",
       "      <th>CHURN INACTIVIDAD</th>\n",
       "      <td>1</td>\n",
       "      <td>2357</td>\n",
       "      <td>24168</td>\n",
       "    </tr>\n",
       "    <tr>\n",
       "      <th>CHURN MIGRACION</th>\n",
       "      <td>67</td>\n",
       "      <td>130</td>\n",
       "      <td>206</td>\n",
       "    </tr>\n",
       "    <tr>\n",
       "      <th>CHURN PORTACION</th>\n",
       "      <td>13139</td>\n",
       "      <td>4965</td>\n",
       "      <td>2535</td>\n",
       "    </tr>\n",
       "    <tr>\n",
       "      <th>CHURN VOLUNTARIO</th>\n",
       "      <td>27</td>\n",
       "      <td>21</td>\n",
       "      <td>14791</td>\n",
       "    </tr>\n",
       "  </tbody>\n",
       "</table>\n",
       "</div>"
      ],
      "text/plain": [
       "MES_BAJA           202208  202209  202210\n",
       "ULT_MOV                                  \n",
       "CHURN FRAUDE            0       0       1\n",
       "CHURN INACTIVIDAD       1    2357   24168\n",
       "CHURN MIGRACION        67     130     206\n",
       "CHURN PORTACION     13139    4965    2535\n",
       "CHURN VOLUNTARIO       27      21   14791"
      ]
     },
     "execution_count": 41,
     "metadata": {},
     "output_type": "execute_result"
    }
   ],
   "source": [
    "pd.crosstab(index=df_cont.query('MC == \"TP\"')['ULT_MOV'], columns=df_cont.query('MC == \"TP\"')['MES_BAJA'])"
   ]
  },
  {
   "cell_type": "code",
   "execution_count": null,
   "metadata": {},
   "outputs": [],
   "source": [
    "#periodos proceso codigo para querys de los que se quedaron de calidad \n",
    "periodo=202201\n",
    "periodo2=periodo+4"
   ]
  },
  {
   "cell_type": "code",
   "execution_count": null,
   "metadata": {},
   "outputs": [],
   "source": [
    "#QUERY PARA LOS QUE SE HAN QUEDADO DE CADA MES \n",
    "query=f'''\n",
    "SELECT * FROM (\n",
    "SELECT  A.SUBSCRIBER_ID,\n",
    "        B.PERIODO_PROCESO_CODIGO,\n",
    "        B.MOVIMIENTO_TIPO_NOMBRE,\n",
    "        ROW_NUMBER() OVER (PARTITION BY A.SUBSCRIBER_ID ORDER BY B.PERIODO_PROCESO_CODIGO DESC) AS RN\n",
    "FROM AGG_DL_PJ_QUALITY A \n",
    "LEFT JOIN DWH_BODEGA_WOM.FCT_SUBSCRIBERS_ENDING B ON A.SUBSCRIBER_ID=B.SUBSCRIBER_ID\n",
    "WHERE   A.PERIODO_PROCESO_CODIGO='{periodo}'            \n",
    "        AND B.SERVICIO='Prepaid'\n",
    "        AND B.PERIODO_PROCESO_CODIGO<='{periodo2}'\n",
    ") \n",
    "WHERE RN=1\n",
    "'''"
   ]
  },
  {
   "cell_type": "code",
   "execution_count": null,
   "metadata": {},
   "outputs": [],
   "source": [
    "#query que agrupa para sacar los 2 graficos \n",
    "query=f'''\n",
    "SELECT  MOVIMIENTO_TIPO_NOMBRE,COUNT(*) FROM (\n",
    "SELECT  A.SUBSCRIBER_ID,\n",
    "        B.PERIODO_PROCESO_CODIGO,\n",
    "        B.MOVIMIENTO_TIPO_NOMBRE,\n",
    "        ROW_NUMBER() OVER (PARTITION BY A.SUBSCRIBER_ID ORDER BY B.PERIODO_PROCESO_CODIGO DESC) AS RN\n",
    "FROM AGG_DL_PJ_QUALITY A \n",
    "LEFT JOIN DWH_BODEGA_WOM.FCT_SUBSCRIBERS_ENDING B ON A.SUBSCRIBER_ID=B.SUBSCRIBER_ID\n",
    "WHERE   A.PERIODO_PROCESO_CODIGO=202205            \n",
    "        AND B.SERVICIO='Prepaid'\n",
    "        AND B.PERIODO_PROCESO_CODIGO<=202209\n",
    ") \n",
    "WHERE RN=1\n",
    "GROUP BY MOVIMIENTO_TIPO_NOMBRE\n",
    "'''"
   ]
  },
  {
   "cell_type": "code",
   "execution_count": null,
   "metadata": {},
   "outputs": [],
   "source": [
    "query=f'''\n",
    "SELECT  SEG_RFM,COUNT(*) FROM (\n",
    "SELECT  A.SUBSCRIBER_ID,\n",
    "        B.PERIODO_PROCESO_CODIGO,\n",
    "        B.MOVIMIENTO_TIPO_NOMBRE,\n",
    "        C.SEG_RFM,\n",
    "        ROW_NUMBER() OVER (PARTITION BY A.SUBSCRIBER_ID ORDER BY B.PERIODO_PROCESO_CODIGO DESC) AS RN\n",
    "FROM AGG_DL_PJ_QUALITY A \n",
    "LEFT JOIN DWH_BODEGA_WOM.FCT_SUBSCRIBERS_ENDING B ON A.SUBSCRIBER_ID=B.SUBSCRIBER_ID\n",
    "LEFT JOIN MVALIENTE.TBL_ANL_BASE_PREPAGO C ON A.SUBSCRIBER_ID=C.SUBSCRIBER_ID\n",
    "WHERE   A.PERIODO_PROCESO_CODIGO=202207            \n",
    "        AND B.SERVICIO='Prepaid'\n",
    "        AND B.PERIODO_PROCESO_CODIGO<=202211\n",
    ") \n",
    "WHERE RN=1\n",
    "GROUP BY SEG_RFM\n",
    "'''"
   ]
  },
  {
   "cell_type": "code",
   "execution_count": 17,
   "metadata": {},
   "outputs": [],
   "source": [
    "periodo=202206"
   ]
  },
  {
   "cell_type": "code",
   "execution_count": 36,
   "metadata": {},
   "outputs": [],
   "source": [
    "#querys para mirar el comportamietno segun el ending del cada mes \n",
    "\n",
    "#query que da la base de usuarios de cierto mes DE GROSS\n",
    "query=f'''\n",
    "SELECT SUBSCRIBER_ID \n",
    "FROM DWH_BODEGA_WOM.FCT_SUBSCRIBERS_ENDING A \n",
    "WHERE PERIODO_PROCESO_CODIGO='{periodo}'\n",
    "      AND SERVICIO='Prepaid'\n",
    "      AND MOVIMIENTO_TIPO_NOMBRE IN ('GROSS ADDS MIGRACION','GROSS ADDS NUEVA')\n",
    "'''"
   ]
  },
  {
   "cell_type": "code",
   "execution_count": 9,
   "metadata": {},
   "outputs": [
    {
     "name": "stderr",
     "output_type": "stream",
     "text": [
      "c:\\Users\\HP EliteBook 840 G3\\anaconda3\\lib\\site-packages\\pandas\\io\\sql.py:761: UserWarning: pandas only support SQLAlchemy connectable(engine/connection) ordatabase string URI or sqlite3 DBAPI2 connectionother DBAPI2 objects are not tested, please consider using SQLAlchemy\n",
      "  warnings.warn(\n"
     ]
    }
   ],
   "source": [
    "#QUERY QUE AGRUPA A LOS QUE HICIERON GROSS\n",
    "query=f'''\n",
    "SELECT MOVIMIENTO_TIPO_NOMBRE,COUNT(*) AS TOTAL\n",
    "FROM DWH_BODEGA_WOM.FCT_SUBSCRIBERS_ENDING A \n",
    "WHERE PERIODO_PROCESO_CODIGO='{periodo}'\n",
    "      AND SERVICIO='Prepaid'\n",
    "      AND MOVIMIENTO_TIPO_NOMBRE IN ('GROSS ADDS MIGRACION','GROSS ADDS NUEVA','GROSS ADDS PORTACION')\n",
    "GROUP BY MOVIMIENTO_TIPO_NOMBRE\n",
    "'''\n",
    "base=cst.consulta(query)"
   ]
  },
  {
   "cell_type": "code",
   "execution_count": 10,
   "metadata": {},
   "outputs": [],
   "source": [
    "base['PORCENTAJE']=base['TOTAL']*100/base['TOTAL'].sum()"
   ]
  },
  {
   "cell_type": "code",
   "execution_count": 11,
   "metadata": {},
   "outputs": [
    {
     "data": {
      "text/html": [
       "<div>\n",
       "<style scoped>\n",
       "    .dataframe tbody tr th:only-of-type {\n",
       "        vertical-align: middle;\n",
       "    }\n",
       "\n",
       "    .dataframe tbody tr th {\n",
       "        vertical-align: top;\n",
       "    }\n",
       "\n",
       "    .dataframe thead th {\n",
       "        text-align: right;\n",
       "    }\n",
       "</style>\n",
       "<table border=\"1\" class=\"dataframe\">\n",
       "  <thead>\n",
       "    <tr style=\"text-align: right;\">\n",
       "      <th></th>\n",
       "      <th>MOVIMIENTO_TIPO_NOMBRE</th>\n",
       "      <th>TOTAL</th>\n",
       "      <th>PORCENTAJE</th>\n",
       "    </tr>\n",
       "  </thead>\n",
       "  <tbody>\n",
       "    <tr>\n",
       "      <th>0</th>\n",
       "      <td>GROSS ADDS PORTACION</td>\n",
       "      <td>4924</td>\n",
       "      <td>2.696575</td>\n",
       "    </tr>\n",
       "    <tr>\n",
       "      <th>1</th>\n",
       "      <td>GROSS ADDS MIGRACION</td>\n",
       "      <td>5790</td>\n",
       "      <td>3.170831</td>\n",
       "    </tr>\n",
       "    <tr>\n",
       "      <th>2</th>\n",
       "      <td>GROSS ADDS NUEVA</td>\n",
       "      <td>171888</td>\n",
       "      <td>94.132594</td>\n",
       "    </tr>\n",
       "  </tbody>\n",
       "</table>\n",
       "</div>"
      ],
      "text/plain": [
       "  MOVIMIENTO_TIPO_NOMBRE   TOTAL  PORCENTAJE\n",
       "0   GROSS ADDS PORTACION    4924    2.696575\n",
       "1   GROSS ADDS MIGRACION    5790    3.170831\n",
       "2       GROSS ADDS NUEVA  171888   94.132594"
      ]
     },
     "execution_count": 11,
     "metadata": {},
     "output_type": "execute_result"
    }
   ],
   "source": [
    "base"
   ]
  },
  {
   "cell_type": "code",
   "execution_count": 12,
   "metadata": {},
   "outputs": [
    {
     "name": "stderr",
     "output_type": "stream",
     "text": [
      "c:\\Users\\HP EliteBook 840 G3\\anaconda3\\lib\\site-packages\\pandas\\io\\sql.py:761: UserWarning: pandas only support SQLAlchemy connectable(engine/connection) ordatabase string URI or sqlite3 DBAPI2 connectionother DBAPI2 objects are not tested, please consider using SQLAlchemy\n",
      "  warnings.warn(\n"
     ]
    },
    {
     "name": "stdout",
     "output_type": "stream",
     "text": [
      "202204\n",
      "202204\n",
      "  MOVIMIENTO_TIPO_NOMBRE   TOTAL\n",
      "0       GROSS ADDS NUEVA  171888\n"
     ]
    },
    {
     "name": "stderr",
     "output_type": "stream",
     "text": [
      "c:\\Users\\HP EliteBook 840 G3\\anaconda3\\lib\\site-packages\\pandas\\io\\sql.py:761: UserWarning: pandas only support SQLAlchemy connectable(engine/connection) ordatabase string URI or sqlite3 DBAPI2 connectionother DBAPI2 objects are not tested, please consider using SQLAlchemy\n",
      "  warnings.warn(\n"
     ]
    },
    {
     "name": "stdout",
     "output_type": "stream",
     "text": [
      "202204\n",
      "202205\n",
      "  MOVIMIENTO_TIPO_NOMBRE   TOTAL\n",
      "0       CHURN VOLUNTARIO      48\n",
      "1           CHURN FRAUDE       1\n",
      "2        CHURN MIGRACION     620\n",
      "3        CHURN PORTACION   13543\n",
      "4      CHURN INACTIVIDAD      29\n",
      "5              PERMANECE  157647\n"
     ]
    },
    {
     "name": "stderr",
     "output_type": "stream",
     "text": [
      "c:\\Users\\HP EliteBook 840 G3\\anaconda3\\lib\\site-packages\\pandas\\io\\sql.py:761: UserWarning: pandas only support SQLAlchemy connectable(engine/connection) ordatabase string URI or sqlite3 DBAPI2 connectionother DBAPI2 objects are not tested, please consider using SQLAlchemy\n",
      "  warnings.warn(\n"
     ]
    },
    {
     "name": "stdout",
     "output_type": "stream",
     "text": [
      "202204\n",
      "202206\n",
      "  MOVIMIENTO_TIPO_NOMBRE   TOTAL\n",
      "0       CHURN VOLUNTARIO      61\n",
      "1           CHURN FRAUDE       3\n",
      "2        CHURN MIGRACION     428\n",
      "3        CHURN PORTACION    5649\n",
      "4   GROSS ADDS MIGRACION       6\n",
      "5       GROSS ADDS NUEVA       1\n",
      "6      CHURN INACTIVIDAD      25\n",
      "7              PERMANECE  151481\n"
     ]
    },
    {
     "name": "stderr",
     "output_type": "stream",
     "text": [
      "c:\\Users\\HP EliteBook 840 G3\\anaconda3\\lib\\site-packages\\pandas\\io\\sql.py:761: UserWarning: pandas only support SQLAlchemy connectable(engine/connection) ordatabase string URI or sqlite3 DBAPI2 connectionother DBAPI2 objects are not tested, please consider using SQLAlchemy\n",
      "  warnings.warn(\n"
     ]
    },
    {
     "name": "stdout",
     "output_type": "stream",
     "text": [
      "202204\n",
      "202207\n",
      "  MOVIMIENTO_TIPO_NOMBRE  TOTAL\n",
      "0       CHURN VOLUNTARIO     61\n",
      "1        CHURN MIGRACION    313\n",
      "2        CHURN PORTACION   2847\n",
      "3   GROSS ADDS MIGRACION      7\n",
      "4       GROSS ADDS NUEVA      3\n",
      "5      CHURN INACTIVIDAD  53500\n",
      "6              PERMANECE  94767\n"
     ]
    },
    {
     "name": "stderr",
     "output_type": "stream",
     "text": [
      "c:\\Users\\HP EliteBook 840 G3\\anaconda3\\lib\\site-packages\\pandas\\io\\sql.py:761: UserWarning: pandas only support SQLAlchemy connectable(engine/connection) ordatabase string URI or sqlite3 DBAPI2 connectionother DBAPI2 objects are not tested, please consider using SQLAlchemy\n",
      "  warnings.warn(\n"
     ]
    },
    {
     "name": "stdout",
     "output_type": "stream",
     "text": [
      "202204\n",
      "202208\n",
      "  MOVIMIENTO_TIPO_NOMBRE  TOTAL\n",
      "0           CHURN FRAUDE      1\n",
      "1       CHURN VOLUNTARIO    136\n",
      "2    ACTIVACION NO GROSS     11\n",
      "3        CHURN MIGRACION    371\n",
      "4        CHURN PORTACION   1848\n",
      "5   GROSS ADDS MIGRACION      6\n",
      "6       GROSS ADDS NUEVA     57\n",
      "7      CHURN INACTIVIDAD  21384\n",
      "8              PERMANECE  71037\n"
     ]
    }
   ],
   "source": [
    "#QUERY QUE DA LOS RESULTADOS por moviiento de los proximos meses del periodo de los gross ads nueva\n",
    "for i in range(periodo,periodo+5):\n",
    "\n",
    "    query=f'''\n",
    "        SELECT MOVIMIENTO_TIPO_NOMBRE,COUNT(*) AS TOTAL\n",
    "        FROM DWH_BODEGA_WOM.FCT_SUBSCRIBERS_ENDING A \n",
    "        WHERE PERIODO_PROCESO_CODIGO='{i}'\n",
    "        AND SERVICIO='Prepaid'\n",
    "        AND SUBSCRIBER_ID IN (SELECT SUBSCRIBER_ID \n",
    "        FROM DWH_BODEGA_WOM.FCT_SUBSCRIBERS_ENDING A \n",
    "        WHERE PERIODO_PROCESO_CODIGO='{periodo}'\n",
    "        AND SERVICIO='Prepaid'\n",
    "        AND MOVIMIENTO_TIPO_NOMBRE IN ('GROSS ADDS NUEVA'))\n",
    "        GROUP BY MOVIMIENTO_TIPO_NOMBRE\n",
    "        '''\n",
    "    base=cst.consulta(query)\n",
    "    print(periodo)\n",
    "    print(i)\n",
    "    print(base)\n"
   ]
  },
  {
   "cell_type": "code",
   "execution_count": 13,
   "metadata": {},
   "outputs": [
    {
     "name": "stderr",
     "output_type": "stream",
     "text": [
      "c:\\Users\\HP EliteBook 840 G3\\anaconda3\\lib\\site-packages\\pandas\\io\\sql.py:761: UserWarning: pandas only support SQLAlchemy connectable(engine/connection) ordatabase string URI or sqlite3 DBAPI2 connectionother DBAPI2 objects are not tested, please consider using SQLAlchemy\n",
      "  warnings.warn(\n"
     ]
    },
    {
     "name": "stdout",
     "output_type": "stream",
     "text": [
      "202204\n",
      "202204\n",
      "  MOVIMIENTO_TIPO_NOMBRE  TOTAL\n",
      "0   GROSS ADDS MIGRACION   5790\n"
     ]
    },
    {
     "name": "stderr",
     "output_type": "stream",
     "text": [
      "c:\\Users\\HP EliteBook 840 G3\\anaconda3\\lib\\site-packages\\pandas\\io\\sql.py:761: UserWarning: pandas only support SQLAlchemy connectable(engine/connection) ordatabase string URI or sqlite3 DBAPI2 connectionother DBAPI2 objects are not tested, please consider using SQLAlchemy\n",
      "  warnings.warn(\n"
     ]
    },
    {
     "name": "stdout",
     "output_type": "stream",
     "text": [
      "202204\n",
      "202205\n",
      "  MOVIMIENTO_TIPO_NOMBRE  TOTAL\n",
      "0       CHURN VOLUNTARIO     13\n",
      "1        CHURN MIGRACION    176\n",
      "2        CHURN PORTACION    525\n",
      "3       GROSS ADDS NUEVA      2\n",
      "4      CHURN INACTIVIDAD      4\n",
      "5              PERMANECE   5070\n"
     ]
    },
    {
     "name": "stderr",
     "output_type": "stream",
     "text": [
      "c:\\Users\\HP EliteBook 840 G3\\anaconda3\\lib\\site-packages\\pandas\\io\\sql.py:761: UserWarning: pandas only support SQLAlchemy connectable(engine/connection) ordatabase string URI or sqlite3 DBAPI2 connectionother DBAPI2 objects are not tested, please consider using SQLAlchemy\n",
      "  warnings.warn(\n"
     ]
    },
    {
     "name": "stdout",
     "output_type": "stream",
     "text": [
      "202204\n",
      "202206\n",
      "  MOVIMIENTO_TIPO_NOMBRE  TOTAL\n",
      "0       CHURN VOLUNTARIO     10\n",
      "1        CHURN MIGRACION    100\n",
      "2   GROSS ADDS MIGRACION      3\n",
      "3        CHURN PORTACION    247\n",
      "4      CHURN INACTIVIDAD      2\n",
      "5              PERMANECE   4713\n"
     ]
    },
    {
     "name": "stderr",
     "output_type": "stream",
     "text": [
      "c:\\Users\\HP EliteBook 840 G3\\anaconda3\\lib\\site-packages\\pandas\\io\\sql.py:761: UserWarning: pandas only support SQLAlchemy connectable(engine/connection) ordatabase string URI or sqlite3 DBAPI2 connectionother DBAPI2 objects are not tested, please consider using SQLAlchemy\n",
      "  warnings.warn(\n"
     ]
    },
    {
     "name": "stdout",
     "output_type": "stream",
     "text": [
      "202204\n",
      "202207\n",
      "  MOVIMIENTO_TIPO_NOMBRE  TOTAL\n",
      "0   GROSS ADDS PORTACION      3\n",
      "1       CHURN VOLUNTARIO      3\n",
      "2        CHURN MIGRACION     80\n",
      "3   GROSS ADDS MIGRACION      8\n",
      "4        CHURN PORTACION    153\n",
      "5       GROSS ADDS NUEVA      2\n",
      "6      CHURN INACTIVIDAD    122\n",
      "7              PERMANECE   4358\n"
     ]
    },
    {
     "name": "stderr",
     "output_type": "stream",
     "text": [
      "c:\\Users\\HP EliteBook 840 G3\\anaconda3\\lib\\site-packages\\pandas\\io\\sql.py:761: UserWarning: pandas only support SQLAlchemy connectable(engine/connection) ordatabase string URI or sqlite3 DBAPI2 connectionother DBAPI2 objects are not tested, please consider using SQLAlchemy\n",
      "  warnings.warn(\n"
     ]
    },
    {
     "name": "stdout",
     "output_type": "stream",
     "text": [
      "202204\n",
      "202208\n",
      "  MOVIMIENTO_TIPO_NOMBRE  TOTAL\n",
      "0   GROSS ADDS PORTACION      1\n",
      "1       CHURN VOLUNTARIO     13\n",
      "2    ACTIVACION NO GROSS      1\n",
      "3        CHURN MIGRACION    106\n",
      "4   GROSS ADDS MIGRACION     10\n",
      "5        CHURN PORTACION    176\n",
      "6      CHURN INACTIVIDAD     36\n",
      "7              PERMANECE   4040\n"
     ]
    }
   ],
   "source": [
    "for i in range(periodo,periodo+5):\n",
    "\n",
    "    query=f'''\n",
    "        SELECT MOVIMIENTO_TIPO_NOMBRE,COUNT(*) AS TOTAL\n",
    "        FROM DWH_BODEGA_WOM.FCT_SUBSCRIBERS_ENDING A \n",
    "        WHERE PERIODO_PROCESO_CODIGO='{i}'\n",
    "        AND SERVICIO='Prepaid'\n",
    "        AND SUBSCRIBER_ID IN (SELECT SUBSCRIBER_ID \n",
    "        FROM DWH_BODEGA_WOM.FCT_SUBSCRIBERS_ENDING A \n",
    "        WHERE PERIODO_PROCESO_CODIGO='{periodo}'\n",
    "        AND SERVICIO='Prepaid'\n",
    "        AND MOVIMIENTO_TIPO_NOMBRE IN ('GROSS ADDS MIGRACION'))\n",
    "        GROUP BY MOVIMIENTO_TIPO_NOMBRE\n",
    "        '''\n",
    "    base=cst.consulta(query)\n",
    "    print(periodo)\n",
    "    print(i)\n",
    "    print(base)\n"
   ]
  },
  {
   "cell_type": "code",
   "execution_count": 18,
   "metadata": {},
   "outputs": [
    {
     "name": "stderr",
     "output_type": "stream",
     "text": [
      "c:\\Users\\HP EliteBook 840 G3\\anaconda3\\lib\\site-packages\\pandas\\io\\sql.py:761: UserWarning: pandas only support SQLAlchemy connectable(engine/connection) ordatabase string URI or sqlite3 DBAPI2 connectionother DBAPI2 objects are not tested, please consider using SQLAlchemy\n",
      "  warnings.warn(\n"
     ]
    },
    {
     "name": "stdout",
     "output_type": "stream",
     "text": [
      "202206\n",
      "202206\n",
      "  MOVIMIENTO_TIPO_NOMBRE  TOTAL\n",
      "0   GROSS ADDS PORTACION   5424\n"
     ]
    },
    {
     "name": "stderr",
     "output_type": "stream",
     "text": [
      "c:\\Users\\HP EliteBook 840 G3\\anaconda3\\lib\\site-packages\\pandas\\io\\sql.py:761: UserWarning: pandas only support SQLAlchemy connectable(engine/connection) ordatabase string URI or sqlite3 DBAPI2 connectionother DBAPI2 objects are not tested, please consider using SQLAlchemy\n",
      "  warnings.warn(\n"
     ]
    },
    {
     "name": "stdout",
     "output_type": "stream",
     "text": [
      "202206\n",
      "202207\n",
      "  MOVIMIENTO_TIPO_NOMBRE  TOTAL\n",
      "0       CHURN VOLUNTARIO     12\n",
      "1        CHURN MIGRACION    135\n",
      "2        CHURN PORTACION    256\n",
      "3              PERMANECE   5021\n"
     ]
    },
    {
     "name": "stderr",
     "output_type": "stream",
     "text": [
      "c:\\Users\\HP EliteBook 840 G3\\anaconda3\\lib\\site-packages\\pandas\\io\\sql.py:761: UserWarning: pandas only support SQLAlchemy connectable(engine/connection) ordatabase string URI or sqlite3 DBAPI2 connectionother DBAPI2 objects are not tested, please consider using SQLAlchemy\n",
      "  warnings.warn(\n"
     ]
    },
    {
     "name": "stdout",
     "output_type": "stream",
     "text": [
      "202206\n",
      "202208\n",
      "  MOVIMIENTO_TIPO_NOMBRE  TOTAL\n",
      "0       CHURN VOLUNTARIO     12\n",
      "1        CHURN MIGRACION     76\n",
      "2   GROSS ADDS MIGRACION      2\n",
      "3        CHURN PORTACION    216\n",
      "4      CHURN INACTIVIDAD      1\n",
      "5              PERMANECE   4716\n"
     ]
    },
    {
     "name": "stderr",
     "output_type": "stream",
     "text": [
      "c:\\Users\\HP EliteBook 840 G3\\anaconda3\\lib\\site-packages\\pandas\\io\\sql.py:761: UserWarning: pandas only support SQLAlchemy connectable(engine/connection) ordatabase string URI or sqlite3 DBAPI2 connectionother DBAPI2 objects are not tested, please consider using SQLAlchemy\n",
      "  warnings.warn(\n"
     ]
    },
    {
     "name": "stdout",
     "output_type": "stream",
     "text": [
      "202206\n",
      "202209\n",
      "  MOVIMIENTO_TIPO_NOMBRE  TOTAL\n",
      "0       CHURN VOLUNTARIO      8\n",
      "1        CHURN MIGRACION    105\n",
      "2   GROSS ADDS MIGRACION      6\n",
      "3        CHURN PORTACION    154\n",
      "4       GROSS ADDS NUEVA      2\n",
      "5      CHURN INACTIVIDAD      8\n",
      "6              PERMANECE   4443\n"
     ]
    },
    {
     "name": "stderr",
     "output_type": "stream",
     "text": [
      "c:\\Users\\HP EliteBook 840 G3\\anaconda3\\lib\\site-packages\\pandas\\io\\sql.py:761: UserWarning: pandas only support SQLAlchemy connectable(engine/connection) ordatabase string URI or sqlite3 DBAPI2 connectionother DBAPI2 objects are not tested, please consider using SQLAlchemy\n",
      "  warnings.warn(\n"
     ]
    },
    {
     "name": "stdout",
     "output_type": "stream",
     "text": [
      "202206\n",
      "202210\n",
      "  MOVIMIENTO_TIPO_NOMBRE  TOTAL\n",
      "0   GROSS ADDS PORTACION      1\n",
      "1       CHURN VOLUNTARIO      6\n",
      "2        CHURN MIGRACION    168\n",
      "3   GROSS ADDS MIGRACION      5\n",
      "4        CHURN PORTACION    110\n",
      "5       GROSS ADDS NUEVA      2\n",
      "6      CHURN INACTIVIDAD     24\n",
      "7              PERMANECE   4143\n"
     ]
    }
   ],
   "source": [
    "for i in range(periodo,periodo+5):\n",
    "\n",
    "    query=f'''\n",
    "        SELECT MOVIMIENTO_TIPO_NOMBRE,COUNT(*) AS TOTAL\n",
    "        FROM DWH_BODEGA_WOM.FCT_SUBSCRIBERS_ENDING A \n",
    "        WHERE PERIODO_PROCESO_CODIGO='{i}'\n",
    "        AND SERVICIO='Prepaid'\n",
    "        AND SUBSCRIBER_ID IN (SELECT SUBSCRIBER_ID \n",
    "        FROM DWH_BODEGA_WOM.FCT_SUBSCRIBERS_ENDING A \n",
    "        WHERE PERIODO_PROCESO_CODIGO='{periodo}'\n",
    "        AND SERVICIO='Prepaid'\n",
    "        AND MOVIMIENTO_TIPO_NOMBRE IN ('GROSS ADDS PORTACION'))\n",
    "        GROUP BY MOVIMIENTO_TIPO_NOMBRE\n",
    "        '''\n",
    "    base=cst.consulta(query)\n",
    "    print(periodo)\n",
    "    print(i)\n",
    "    print(base)\n"
   ]
  },
  {
   "cell_type": "code",
   "execution_count": 44,
   "metadata": {},
   "outputs": [
    {
     "name": "stderr",
     "output_type": "stream",
     "text": [
      "c:\\Users\\HP EliteBook 840 G3\\anaconda3\\lib\\site-packages\\pandas\\io\\sql.py:761: UserWarning: pandas only support SQLAlchemy connectable(engine/connection) ordatabase string URI or sqlite3 DBAPI2 connectionother DBAPI2 objects are not tested, please consider using SQLAlchemy\n",
      "  warnings.warn(\n"
     ]
    },
    {
     "name": "stdout",
     "output_type": "stream",
     "text": [
      "202204\n",
      "202204\n",
      "          ESTADO   TOTAL\n",
      "0         Active  171562\n",
      "1  One-Way Block     121\n",
      "2  Two-Way Block     205\n"
     ]
    },
    {
     "name": "stderr",
     "output_type": "stream",
     "text": [
      "c:\\Users\\HP EliteBook 840 G3\\anaconda3\\lib\\site-packages\\pandas\\io\\sql.py:761: UserWarning: pandas only support SQLAlchemy connectable(engine/connection) ordatabase string URI or sqlite3 DBAPI2 connectionother DBAPI2 objects are not tested, please consider using SQLAlchemy\n",
      "  warnings.warn(\n"
     ]
    },
    {
     "name": "stdout",
     "output_type": "stream",
     "text": [
      "202204\n",
      "202205\n",
      "          ESTADO   TOTAL\n",
      "0         Active  155390\n",
      "1  One-Way Block    2216\n",
      "2    Termination   14241\n",
      "3  Two-Way Block      41\n"
     ]
    },
    {
     "name": "stderr",
     "output_type": "stream",
     "text": [
      "c:\\Users\\HP EliteBook 840 G3\\anaconda3\\lib\\site-packages\\pandas\\io\\sql.py:761: UserWarning: pandas only support SQLAlchemy connectable(engine/connection) ordatabase string URI or sqlite3 DBAPI2 connectionother DBAPI2 objects are not tested, please consider using SQLAlchemy\n",
      "  warnings.warn(\n"
     ]
    },
    {
     "name": "stdout",
     "output_type": "stream",
     "text": [
      "202204\n",
      "202206\n",
      "          ESTADO   TOTAL\n",
      "0         Active  148695\n",
      "1  One-Way Block    2751\n",
      "2    Termination    6166\n",
      "3  Two-Way Block      42\n"
     ]
    },
    {
     "name": "stderr",
     "output_type": "stream",
     "text": [
      "c:\\Users\\HP EliteBook 840 G3\\anaconda3\\lib\\site-packages\\pandas\\io\\sql.py:761: UserWarning: pandas only support SQLAlchemy connectable(engine/connection) ordatabase string URI or sqlite3 DBAPI2 connectionother DBAPI2 objects are not tested, please consider using SQLAlchemy\n",
      "  warnings.warn(\n"
     ]
    },
    {
     "name": "stdout",
     "output_type": "stream",
     "text": [
      "202204\n",
      "202207\n",
      "          ESTADO  TOTAL\n",
      "0         Active  92975\n",
      "1  One-Way Block   1764\n",
      "2    Termination  56721\n",
      "3  Two-Way Block     38\n"
     ]
    },
    {
     "name": "stderr",
     "output_type": "stream",
     "text": [
      "c:\\Users\\HP EliteBook 840 G3\\anaconda3\\lib\\site-packages\\pandas\\io\\sql.py:761: UserWarning: pandas only support SQLAlchemy connectable(engine/connection) ordatabase string URI or sqlite3 DBAPI2 connectionother DBAPI2 objects are not tested, please consider using SQLAlchemy\n",
      "  warnings.warn(\n"
     ]
    },
    {
     "name": "stdout",
     "output_type": "stream",
     "text": [
      "202204\n",
      "202208\n",
      "          ESTADO  TOTAL\n",
      "0         Active  61304\n",
      "1  One-Way Block   9804\n",
      "2    Termination  23740\n",
      "3  Two-Way Block      3\n"
     ]
    }
   ],
   "source": [
    "#QUERY QUE DA LOS RESULTADOS por ESTADO de los proximos meses del periodo de los gross ads nueva\n",
    "for i in range(periodo,periodo+5):\n",
    "\n",
    "    query=f'''\n",
    "        SELECT ESTADO,COUNT(*) AS TOTAL\n",
    "        FROM DWH_BODEGA_WOM.FCT_SUBSCRIBERS_ENDING A \n",
    "        WHERE PERIODO_PROCESO_CODIGO='{i}'\n",
    "        AND SERVICIO='Prepaid'\n",
    "        AND SUBSCRIBER_ID IN (SELECT SUBSCRIBER_ID \n",
    "        FROM DWH_BODEGA_WOM.FCT_SUBSCRIBERS_ENDING A \n",
    "        WHERE PERIODO_PROCESO_CODIGO='{periodo}'\n",
    "        AND SERVICIO='Prepaid'\n",
    "        AND MOVIMIENTO_TIPO_NOMBRE IN ('GROSS ADDS NUEVA'))\n",
    "        GROUP BY ESTADO\n",
    "        '''\n",
    "    base=cst.consulta(query)\n",
    "    print(periodo)\n",
    "    print(i)\n",
    "    print(base)\n"
   ]
  },
  {
   "cell_type": "code",
   "execution_count": null,
   "metadata": {},
   "outputs": [],
   "source": []
  }
 ],
 "metadata": {
  "kernelspec": {
   "display_name": "Python 3.9.12 ('base')",
   "language": "python",
   "name": "python3"
  },
  "language_info": {
   "codemirror_mode": {
    "name": "ipython",
    "version": 3
   },
   "file_extension": ".py",
   "mimetype": "text/x-python",
   "name": "python",
   "nbconvert_exporter": "python",
   "pygments_lexer": "ipython3",
   "version": "3.9.12"
  },
  "orig_nbformat": 4,
  "vscode": {
   "interpreter": {
    "hash": "7a0a7742312bbf78c71eca2da24ec56d97c88bffbf9bedfc979c612f0d633c46"
   }
  }
 },
 "nbformat": 4,
 "nbformat_minor": 2
}
