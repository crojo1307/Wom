{
 "cells": [
  {
   "cell_type": "markdown",
   "id": "f055f83b-f386-43f6-84db-43125489f55a",
   "metadata": {},
   "source": [
    "# Librerias"
   ]
  },
  {
   "cell_type": "code",
   "execution_count": 1,
   "id": "940c2114-48e7-42b9-b2b0-44d170cc1a96",
   "metadata": {},
   "outputs": [],
   "source": [
    "import pandas as pd\n",
    "import numpy as np\n",
    "\n",
    "import logging\n",
    "\n",
    "\n",
    "import warnings\n",
    "warnings.filterwarnings(\"ignore\", category=FutureWarning)\n",
    "warnings.filterwarnings(\"ignore\")\n",
    "\n",
    "import consultas as cst\n",
    "from datetime import datetime, date, timedelta\n",
    "\n",
    "pd.options.display.max_columns=False"
   ]
  },
  {
   "cell_type": "code",
   "execution_count": 2,
   "id": "5e73216d-3833-4e4d-b9c1-aecd20bba93b",
   "metadata": {},
   "outputs": [
    {
     "name": "stdout",
     "output_type": "stream",
     "text": [
      "20230630\n",
      "202306\n",
      "30/06/23\n"
     ]
    }
   ],
   "source": [
    "#dia = int(str(datetime.now())[:10].replace('-', ''))\n",
    "dia = 20230630\n",
    "print(dia)\n",
    "#mes = int(str(datetime.now())[:8].replace('-', ''))\n",
    "mes = 202306\n",
    "print(mes)\n",
    "#today = date.today().strftime(\"%d/%m/%y\")\n",
    "today = '30/06/23'\n",
    "print(today)"
   ]
  },
  {
   "cell_type": "markdown",
   "id": "5cd5edab-46c2-4aa6-9f31-25dc2d02bbfd",
   "metadata": {},
   "source": [
    "# Conexión"
   ]
  },
  {
   "cell_type": "code",
   "execution_count": 3,
   "id": "575db815-d28c-4d2c-b3d2-a5198ad6e45f",
   "metadata": {},
   "outputs": [
    {
     "ename": "NameError",
     "evalue": "name 'cx_Oracle' is not defined",
     "output_type": "error",
     "traceback": [
      "\u001b[1;31m---------------------------------------------------------------------------\u001b[0m",
      "\u001b[1;31mNameError\u001b[0m                                 Traceback (most recent call last)",
      "\u001b[1;32mc:\\Users\\HP EliteBook 840 G3\\Documents\\exploracion churn pospago\\Insumos.ipynb Cell 5\u001b[0m in \u001b[0;36m<cell line: 3>\u001b[1;34m()\u001b[0m\n\u001b[0;32m      <a href='vscode-notebook-cell:/c%3A/Users/HP%20EliteBook%20840%20G3/Documents/exploracion%20churn%20pospago/Insumos.ipynb#W4sZmlsZQ%3D%3D?line=0'>1</a>\u001b[0m \u001b[39m#ruta = 'C:/Program Files/instantclient-basic-windows.x64-19.11.0.0.0dbru/instantclient_19_11'\u001b[39;00m\n\u001b[0;32m      <a href='vscode-notebook-cell:/c%3A/Users/HP%20EliteBook%20840%20G3/Documents/exploracion%20churn%20pospago/Insumos.ipynb#W4sZmlsZQ%3D%3D?line=1'>2</a>\u001b[0m ruta \u001b[39m=\u001b[39m \u001b[39m'\u001b[39m\u001b[39mC:/Users/womsrvdp/Documents/instantclient_19_11\u001b[39m\u001b[39m'\u001b[39m\n\u001b[1;32m----> <a href='vscode-notebook-cell:/c%3A/Users/HP%20EliteBook%20840%20G3/Documents/exploracion%20churn%20pospago/Insumos.ipynb#W4sZmlsZQ%3D%3D?line=2'>3</a>\u001b[0m cx_Oracle\u001b[39m.\u001b[39minit_oracle_client(lib_dir \u001b[39m=\u001b[39m ruta)\n",
      "\u001b[1;31mNameError\u001b[0m: name 'cx_Oracle' is not defined"
     ]
    }
   ],
   "source": [
    "#ruta = 'C:/Program Files/instantclient-basic-windows.x64-19.11.0.0.0dbru/instantclient_19_11'\n",
    "ruta = 'C:/Users/womsrvdp/Documents/instantclient_19_11'\n",
    "cx_Oracle.init_oracle_client(lib_dir = ruta)"
   ]
  },
  {
   "cell_type": "code",
   "execution_count": 4,
   "id": "f275ad96-e838-4b74-9e79-467c3f858917",
   "metadata": {},
   "outputs": [
    {
     "ename": "NameError",
     "evalue": "name 'cx_Oracle' is not defined",
     "output_type": "error",
     "traceback": [
      "\u001b[1;31m---------------------------------------------------------------------------\u001b[0m",
      "\u001b[1;31mNameError\u001b[0m                                 Traceback (most recent call last)",
      "\u001b[1;32mc:\\Users\\HP EliteBook 840 G3\\Documents\\exploracion churn pospago\\Insumos.ipynb Cell 6\u001b[0m in \u001b[0;36m<cell line: 1>\u001b[1;34m()\u001b[0m\n\u001b[1;32m----> <a href='vscode-notebook-cell:/c%3A/Users/HP%20EliteBook%20840%20G3/Documents/exploracion%20churn%20pospago/Insumos.ipynb#W5sZmlsZQ%3D%3D?line=0'>1</a>\u001b[0m dsn_tns \u001b[39m=\u001b[39m cx_Oracle\u001b[39m.\u001b[39mmakedsn(\u001b[39m'\u001b[39m\u001b[39m10.41.87.18\u001b[39m\u001b[39m'\u001b[39m, \u001b[39m'\u001b[39m\u001b[39m1521\u001b[39m\u001b[39m'\u001b[39m, service_name\u001b[39m=\u001b[39m\u001b[39m'\u001b[39m\u001b[39mDWHWOM\u001b[39m\u001b[39m'\u001b[39m)\n\u001b[0;32m      <a href='vscode-notebook-cell:/c%3A/Users/HP%20EliteBook%20840%20G3/Documents/exploracion%20churn%20pospago/Insumos.ipynb#W5sZmlsZQ%3D%3D?line=1'>2</a>\u001b[0m conn \u001b[39m=\u001b[39m cx_Oracle\u001b[39m.\u001b[39mconnect(user\u001b[39m=\u001b[39m\u001b[39mr\u001b[39m\u001b[39m'\u001b[39m\u001b[39mANALITICA_WOM\u001b[39m\u001b[39m'\u001b[39m, password\u001b[39m=\u001b[39m\u001b[39m'\u001b[39m\u001b[39mANALI2023*5\u001b[39m\u001b[39m'\u001b[39m, dsn\u001b[39m=\u001b[39mdsn_tns)\n",
      "\u001b[1;31mNameError\u001b[0m: name 'cx_Oracle' is not defined"
     ]
    }
   ],
   "source": [
    "dsn_tns = cx_Oracle.makedsn('10.41.87.18', '1521', service_name='DWHWOM')\n",
    "conn = cx_Oracle.connect(user=r'ANALITICA_WOM', password='ANALI2023*5', dsn=dsn_tns)"
   ]
  },
  {
   "cell_type": "markdown",
   "id": "76f1f2e3-5501-4f0d-b797-20664a7ab542",
   "metadata": {},
   "source": [
    "# Insumos"
   ]
  },
  {
   "cell_type": "markdown",
   "id": "725c1208-0d0b-4c8e-b635-ec8a5ba31094",
   "metadata": {},
   "source": [
    "## *Ending*"
   ]
  },
  {
   "cell_type": "code",
   "execution_count": 3,
   "id": "596e1638-a72e-48a9-a77a-fb848807f8d3",
   "metadata": {},
   "outputs": [
    {
     "name": "stdout",
     "output_type": "stream",
     "text": [
      "CPU times: total: 36.1 s\n",
      "Wall time: 30min 50s\n"
     ]
    },
    {
     "data": {
      "text/plain": [
       "(1637813, 21)"
      ]
     },
     "execution_count": 3,
     "metadata": {},
     "output_type": "execute_result"
    }
   ],
   "source": [
    "%%time\n",
    "query=f\"\"\"\n",
    "WITH \n",
    "ACTI AS (\n",
    "    SELECT /*+PARALLEL(6)*/\n",
    "        CAST(E.SUBSCRIBER_ID AS VARCHAR(20)) SUBSCRIBER_ID,\n",
    "        E.PERIODO_PROCESO_CODIGO,\n",
    "        E.FECHA_ALTA,\n",
    "        E.ESTADO,\n",
    "        E.MOVIMIENTO_NOMBRE,\n",
    "        E.MOVIMIENTO_TIPO_NOMBRE,\n",
    "        E.OPERADOR_PORTA_ORIGEN,\n",
    "        UPPER (P.PLAN_NOMBRE) PLAN_NOMBRE,\n",
    "        UPPER (P.PLAN_TIPO_COMERCIAL) PLAN_TIPO_COMERCIAL,\n",
    "        P.PLAN_REVENUE,\n",
    "        E.CICLO_FACTURACION,\n",
    "        E.CONSULTOR_DK,\n",
    "        DC.CONSULTOR_CANAL_NOMBRE,\n",
    "        DC.CONSULTOR_SUBCANAL_NOMBRE,\n",
    "        DC.CONSULTOR_CIUDAD_NOMBRE,\n",
    "        DC.CONSULTOR_REGIONAL_NOMBRE,\n",
    "        C.CLIENTE_GENERO,\n",
    "        C.CLIENTE_NOMBRE,\n",
    "        C.CLIENTE_EMAIL,\n",
    "        C.CLIENTE_EDAD,\n",
    "        C.CLIENTE_CIUDAD,\n",
    "        C.CLIENTE_REGIONAL,\n",
    "        C.CLIENTE_CODIGO_NK,\n",
    "        CAST(E.MSISDN AS VARCHAR(20)) MSISDN,\n",
    "        UPPER(G.GENERO_MODELO) GENERO,\n",
    "        ACT.MOVIMIENTO_ACTIVACION,\n",
    "        J.JINETE,\n",
    "        TO_DATE('{today}','DD/MM/YY')- TO_DATE(E.FECHA_ALTA, 'DD/MM/YY') AS ANTIGUEDAD,\n",
    "        ROW_NUMBER() OVER(PARTITION BY E.SUBSCRIBER_ID ORDER BY E.FECHA_ALTA DESC) ORDEN_A\n",
    "    FROM DWH_BODEGA_WOM.FCT_SUBSCRIBERS_ENDING E\n",
    "    LEFT JOIN DWH_BODEGA_WOM.DIM_CLIENTES C ON E.CLIENTE_DK = C.CLIENTE_DK\n",
    "    LEFT JOIN DWH_BODEGA_WOM.DIM_CONSULTORES DC ON E.CONSULTOR_DK = DC.CONSULTOR_DK\n",
    "    LEFT JOIN DWH_BODEGA_WOM.DIM_PLANES P ON E.PLAN_COMERCIAL_DK = P.PLAN_COMERCIAL_DK\n",
    "    LEFT JOIN GENERO_CLIENTES_SM G ON E.CLIENTE_DK = G.CLIENTE_DK\n",
    "    LEFT JOIN(\n",
    "            SELECT /*+PARALLEL(6)*/\n",
    "                SUBSCRIBER_ID,\n",
    "                MSISDN,\n",
    "                MOVIMIENTO_TIPO_NOMBRE MOVIMIENTO_ACTIVACION,\n",
    "                FECHA_ALTA\n",
    "            FROM DWH_BODEGA_WOM.FCT_SUBSCRIBERS_ENDING\n",
    "                WHERE SERVICIO='Postpaid'\n",
    "                AND MOVIMIENTO_NOMBRE ='ACTIVACION') ACT ON ((E.SUBSCRIBER_ID=ACT.SUBSCRIBER_ID AND E.FECHA_ALTA=ACT.FECHA_ALTA) \n",
    "                                                                OR (E.SUBSCRIBER_ID=ACT.SUBSCRIBER_ID AND E.MSISDN=ACT.MSISDN))\n",
    "    LEFT JOIN (SELECT\n",
    "                    DISTINCT CLIENTE_DK ,\n",
    "                    1 JINETE\n",
    "                FROM WOM_AA_CLIENTE_DK_JINETE) J ON E.CLIENTE_DK = J.CLIENTE_DK\n",
    "        WHERE E.SERVICIO='Postpaid'\n",
    "        ---AND E.ESTADO = 'Active'\n",
    "        AND MOVIMIENTO_NOMBRE != 'DESCONEXION'\n",
    "        AND E.PERIODO_PROCESO_CODIGO = {mes}\n",
    "        AND (E.FECHA_BAJA IS NULL OR TO_DATE(E.FECHA_BAJA, 'DD/MM/YY') >= TO_DATE('{today}','DD/MM/YY'))\n",
    "        \n",
    "    ),\n",
    "\n",
    "ACTIVADOS AS (\n",
    "    SELECT /*+PARALLEL(6)*/\n",
    "        A.SUBSCRIBER_ID,\n",
    "        A.PERIODO_PROCESO_CODIGO,\n",
    "        A.MSISDN,\n",
    "        A.FECHA_ALTA,\n",
    "        A.MOVIMIENTO_NOMBRE,\n",
    "        A.ESTADO,\n",
    "        A.MOVIMIENTO_TIPO_NOMBRE,\n",
    "        A.OPERADOR_PORTA_ORIGEN,\n",
    "        CASE \n",
    "            WHEN PLAN_TIPO_COMERCIAL = 'BROADBAND' THEN 'BROADBAND'\n",
    "            WHEN PLAN_TIPO_COMERCIAL = 'B2B' THEN 'B2B'\n",
    "            WHEN UPPER (PLAN_NOMBRE) LIKE '%PLAN XS%' THEN 'PLAN XS'\n",
    "            WHEN UPPER (PLAN_NOMBRE) LIKE '%PLAN S%' THEN 'PLAN S'\n",
    "            WHEN UPPER (PLAN_NOMBRE) LIKE '%AA 25_GB%' THEN 'PLAN S'\n",
    "            WHEN UPPER (PLAN_NOMBRE) LIKE '%PLAN M%' THEN 'PLAN M'\n",
    "            WHEN UPPER (PLAN_NOMBRE) LIKE '%ILI_GB%' THEN 'PLAN ILIMITADO'\n",
    "            WHEN UPPER (PLAN_NOMBRE) LIKE '%ILIM_GB%' THEN 'PLAN ILIMITADO'\n",
    "            WHEN UPPER (PLAN_NOMBRE) LIKE '%ILI GB%' THEN 'PLAN ILIMITADO'\n",
    "            WHEN UPPER (PLAN_NOMBRE) LIKE '%ILIM GB%' THEN 'PLAN ILIMITADO'\n",
    "            WHEN UPPER (PLAN_NOMBRE) LIKE '%ILIMI GB%' THEN 'PLAN ILIMITADO'\n",
    "            WHEN UPPER (PLAN_NOMBRE) LIKE '%ILIMI_GB%' THEN 'PLAN ILIMITADO'\n",
    "            WHEN UPPER (PLAN_NOMBRE) LIKE '%ILIMGB%' THEN 'PLAN ILIMITADO'\n",
    "            WHEN UPPER (PLAN_NOMBRE) LIKE '%PLAN L%' THEN 'PLAN L'\n",
    "            WHEN UPPER (PLAN_NOMBRE) LIKE '%PLAN XL%' THEN 'PLAN XL'\n",
    "            WHEN UPPER (PLAN_NOMBRE) LIKE '%MÓVIL%' THEN 'INT MÓVIL'\n",
    "            ELSE 'OTROS' END PLAN_NOMBRE,\n",
    "        CASE \n",
    "            WHEN PLAN_TIPO_COMERCIAL = 'BROADBAND' THEN 'BROADBAND'\n",
    "            WHEN PLAN_TIPO_COMERCIAL = 'MOBILE' THEN 'MOBILE'\n",
    "            WHEN PLAN_TIPO_COMERCIAL = 'B2B' THEN 'B2B'\n",
    "            ELSE 'SIN DEFINIR' END  PLAN_TIPO_COMERCIAL,\n",
    "        A.PLAN_REVENUE,\n",
    "\n",
    "        A.CICLO_FACTURACION,\n",
    "        CASE \n",
    "            WHEN A.CICLO_FACTURACION LIKE '%01%' THEN '01'\n",
    "            WHEN A.CICLO_FACTURACION LIKE '%05%' THEN '05'\n",
    "            WHEN A.CICLO_FACTURACION LIKE '%10%' THEN '10'\n",
    "            WHEN A.CICLO_FACTURACION LIKE '%15%' THEN '15'\n",
    "            WHEN A.CICLO_FACTURACION LIKE '%20%' THEN '20'\n",
    "            WHEN A.CICLO_FACTURACION LIKE '%25%' THEN '25'\n",
    "            ELSE '00' END AS CICLO,\n",
    "        A.CONSULTOR_DK,\n",
    "        A.CLIENTE_GENERO,\n",
    "        A.CLIENTE_EDAD,\n",
    "        A.CLIENTE_CIUDAD,\n",
    "        A.CLIENTE_REGIONAL,\n",
    "        A.CLIENTE_NOMBRE,\n",
    "        A.CLIENTE_EMAIL,\n",
    "        A.CLIENTE_CODIGO_NK,\n",
    "        CASE \n",
    "            WHEN CONSULTOR_CANAL_NOMBRE ='Tiendas' THEN 'Shops'\n",
    "            WHEN CONSULTOR_CANAL_NOMBRE ='Fuerza De Venta Indirecta' THEN 'Dealers'\n",
    "            WHEN CONSULTOR_CANAL_NOMBRE ='Outbound' THEN 'Outbound'\n",
    "            WHEN CONSULTOR_CANAL_NOMBRE ='Inbound' THEN 'Inbound'\n",
    "            WHEN CONSULTOR_CANAL_NOMBRE ='Kioscos' THEN 'Kiosks'\n",
    "            WHEN CONSULTOR_CANAL_NOMBRE ='Ventas Online' THEN 'eCommerce'\n",
    "            WHEN CONSULTOR_CANAL_NOMBRE = 'Tiendas Express' THEN 'Express Shops'\n",
    "            WHEN CONSULTOR_CANAL_NOMBRE = 'Cadenas' THEN 'Retail'\n",
    "        ELSE 'OTROS' END AS CONSULTOR_CANAL_NOMBRE,\n",
    "        A.CONSULTOR_SUBCANAL_NOMBRE,\n",
    "        A.CONSULTOR_CIUDAD_NOMBRE,\n",
    "        A.CONSULTOR_REGIONAL_NOMBRE,\n",
    "        A.ANTIGUEDAD,\n",
    "        A.GENERO,\n",
    "        A.MOVIMIENTO_ACTIVACION,\n",
    "        A.JINETE\n",
    "    FROM ACTI A\n",
    "    WHERE A.ORDEN_A = 1\n",
    "    ),\n",
    "  \n",
    "BD1 AS (\n",
    "    SELECT  /*+PARALLEL(6)*/  \n",
    "        ACT.SUBSCRIBER_ID,\n",
    "        ACT.PERIODO_PROCESO_CODIGO,\n",
    "        ACT.MSISDN,\n",
    "        ACT.FECHA_ALTA,\n",
    "        ACT.ANTIGUEDAD,\n",
    "        ACT.MOVIMIENTO_NOMBRE,\n",
    "        ACT.ESTADO,\n",
    "        ACT.MOVIMIENTO_TIPO_NOMBRE,\n",
    "        ACT.OPERADOR_PORTA_ORIGEN,\n",
    "        ACT.PLAN_NOMBRE,\n",
    "        ACT.PLAN_TIPO_COMERCIAL,\n",
    "        ACT.PLAN_REVENUE,\n",
    "        ACT.CICLO,\n",
    "        ACT.CONSULTOR_DK,\n",
    "        ACT.CLIENTE_CIUDAD,\n",
    "        ACT.CLIENTE_REGIONAL,\n",
    "        ACT.CONSULTOR_CANAL_NOMBRE,\n",
    "        ACT.CONSULTOR_REGIONAL_NOMBRE,\n",
    "        ACT.GENERO,\n",
    "        ACT.MOVIMIENTO_ACTIVACION,\n",
    "        \n",
    "        ACT.JINETE\n",
    "    FROM ACTIVADOS ACT\n",
    "  )  \n",
    "  \n",
    "  SELECT /*+PARALLEL(6)*/  * FROM BD1\n",
    "\"\"\"\n",
    "ENDI=cst.consulta(query)\n",
    "ENDI.shape"
   ]
  },
  {
   "cell_type": "code",
   "execution_count": 6,
   "id": "e5d6dd82-fc2b-4b73-8722-9985e6938adb",
   "metadata": {},
   "outputs": [],
   "source": [
    "ENDING=ENDI.copy()\n",
    "ENDING['CONSULTOR_CANAL_NOMBRE']=np.where(ENDING['CONSULTOR_CANAL_NOMBRE'].isin(['-1','-2']),'NO IDENTIFICADO',ENDING['CONSULTOR_CANAL_NOMBRE'])\n",
    "ENDING['OPERADOR_PORTA_ORIGEN']=np.where((ENDING.OPERADOR_PORTA_ORIGEN.isin(['COMCEL','TIGO','TELEFONICA'])|ENDING.OPERADOR_PORTA_ORIGEN.isna()),ENDING.OPERADOR_PORTA_ORIGEN,'OTROS')\n",
    "ENDING['OPERADOR_PORTA_ORIGEN']=np.where(ENDING.OPERADOR_PORTA_ORIGEN.isna(),'LINEA NUEVA',ENDING.OPERADOR_PORTA_ORIGEN)"
   ]
  },
  {
   "cell_type": "code",
   "execution_count": 7,
   "id": "dd777a27-93c8-4e86-a245-72e292ad8563",
   "metadata": {},
   "outputs": [],
   "source": [
    "ENDING['REGION']=np.where(ENDING['CLIENTE_REGIONAL'].isin(['Bogotá D.C.','Bogota, D.C.']), 'Bogotá',\n",
    "                          np.where(ENDING['CLIENTE_REGIONAL'].isin(['Antioquia','Risaralda','Caldas']) , 'Regional Antioquia',\n",
    "                                   np.where(ENDING['CLIENTE_REGIONAL'].isin(['Atlántico','Bolívar','Magdalena','Cesar','Córdoba','Sucre','La Guajira']) ,'Regional Costa',\n",
    "                                            np.where(ENDING['CLIENTE_REGIONAL'].isin(['Tolima','Risaralda','Huila','Caldas','Quindío']),'Regional Eje Cafetero',\n",
    "                                                     np.where(ENDING['CLIENTE_REGIONAL'].isin(['Valle Del Cauca','Nariño','Cauca','Putumayo','Chocó']),'Regional Occidente',\n",
    "                                                              np.where(ENDING['CLIENTE_REGIONAL'].isin(['Santander','Norte De Santander','Boyacá','Casanare','Arauca','Guaviare']),'Regional Oriente',\n",
    "                                                                       np.where(ENDING['CLIENTE_REGIONAL'].isin(['Cundinamarca','Meta','Caquetá']),'Regional Centro',ENDING['CONSULTOR_REGIONAL_NOMBRE'])))))))"
   ]
  },
  {
   "cell_type": "code",
   "execution_count": 8,
   "id": "649e058e-ecea-4699-9b29-5effd836c7fb",
   "metadata": {},
   "outputs": [],
   "source": [
    "ENDING['REGION']=np.where(ENDING.REGION=='-2','IND',ENDING.REGION)"
   ]
  },
  {
   "cell_type": "code",
   "execution_count": 9,
   "id": "c15cb101-58bf-4ded-9b98-929f02cb3eb1",
   "metadata": {},
   "outputs": [],
   "source": [
    "ENDING['MOVIMIENTO_ACTIVACION']=ENDING['MOVIMIENTO_ACTIVACION'].fillna('GROSS ADDS MIGRACION')\n",
    "##GROSS ADDS MIGRACION"
   ]
  },
  {
   "cell_type": "code",
   "execution_count": 10,
   "id": "e99d0d31-3e64-414e-9141-eaf6fe12d325",
   "metadata": {},
   "outputs": [
    {
     "data": {
      "text/plain": [
       "GROSS ADDS PORTACION    1094357\n",
       "GROSS ADDS NUEVA         384731\n",
       "GROSS ADDS MIGRACION     101516\n",
       "Name: MOVIMIENTO_ACTIVACION, dtype: int64"
      ]
     },
     "execution_count": 10,
     "metadata": {},
     "output_type": "execute_result"
    }
   ],
   "source": [
    "ENDING['MOVIMIENTO_ACTIVACION'].value_counts()"
   ]
  },
  {
   "cell_type": "code",
   "execution_count": 11,
   "id": "626af8ea-f00b-4c87-b079-18220d911970",
   "metadata": {},
   "outputs": [
    {
     "data": {
      "text/html": [
       "<div>\n",
       "<style scoped>\n",
       "    .dataframe tbody tr th:only-of-type {\n",
       "        vertical-align: middle;\n",
       "    }\n",
       "\n",
       "    .dataframe tbody tr th {\n",
       "        vertical-align: top;\n",
       "    }\n",
       "\n",
       "    .dataframe thead th {\n",
       "        text-align: right;\n",
       "    }\n",
       "</style>\n",
       "<table border=\"1\" class=\"dataframe\">\n",
       "  <thead>\n",
       "    <tr style=\"text-align: right;\">\n",
       "      <th></th>\n",
       "      <th>SUBSCRIBER_ID</th>\n",
       "      <th>PERIODO_PROCESO_CODIGO</th>\n",
       "      <th>MSISDN</th>\n",
       "      <th>FECHA_ALTA</th>\n",
       "      <th>ANTIGUEDAD</th>\n",
       "      <th>MOVIMIENTO_NOMBRE</th>\n",
       "      <th>ESTADO</th>\n",
       "      <th>MOVIMIENTO_TIPO_NOMBRE</th>\n",
       "      <th>OPERADOR_PORTA_ORIGEN</th>\n",
       "      <th>PLAN_NOMBRE</th>\n",
       "      <th>PLAN_TIPO_COMERCIAL</th>\n",
       "      <th>PLAN_REVENUE</th>\n",
       "      <th>CICLO</th>\n",
       "      <th>CONSULTOR_DK</th>\n",
       "      <th>CLIENTE_CIUDAD</th>\n",
       "      <th>CLIENTE_REGIONAL</th>\n",
       "      <th>CONSULTOR_CANAL_NOMBRE</th>\n",
       "      <th>CONSULTOR_REGIONAL_NOMBRE</th>\n",
       "      <th>GENERO</th>\n",
       "      <th>MOVIMIENTO_ACTIVACION</th>\n",
       "      <th>JINETE</th>\n",
       "      <th>REGION</th>\n",
       "    </tr>\n",
       "  </thead>\n",
       "  <tbody>\n",
       "  </tbody>\n",
       "</table>\n",
       "</div>"
      ],
      "text/plain": [
       "Empty DataFrame\n",
       "Columns: [SUBSCRIBER_ID, PERIODO_PROCESO_CODIGO, MSISDN, FECHA_ALTA, ANTIGUEDAD, MOVIMIENTO_NOMBRE, ESTADO, MOVIMIENTO_TIPO_NOMBRE, OPERADOR_PORTA_ORIGEN, PLAN_NOMBRE, PLAN_TIPO_COMERCIAL, PLAN_REVENUE, CICLO, CONSULTOR_DK, CLIENTE_CIUDAD, CLIENTE_REGIONAL, CONSULTOR_CANAL_NOMBRE, CONSULTOR_REGIONAL_NOMBRE, GENERO, MOVIMIENTO_ACTIVACION, JINETE, REGION]\n",
       "Index: []"
      ]
     },
     "execution_count": 11,
     "metadata": {},
     "output_type": "execute_result"
    }
   ],
   "source": [
    "ENDING[ENDING['MOVIMIENTO_ACTIVACION']=='REV']"
   ]
  },
  {
   "cell_type": "code",
   "execution_count": 13,
   "id": "e287c4af-63c5-4430-a89e-430aa9856352",
   "metadata": {},
   "outputs": [
    {
     "data": {
      "text/html": [
       "<div>\n",
       "<style scoped>\n",
       "    .dataframe tbody tr th:only-of-type {\n",
       "        vertical-align: middle;\n",
       "    }\n",
       "\n",
       "    .dataframe tbody tr th {\n",
       "        vertical-align: top;\n",
       "    }\n",
       "\n",
       "    .dataframe thead th {\n",
       "        text-align: right;\n",
       "    }\n",
       "</style>\n",
       "<table border=\"1\" class=\"dataframe\">\n",
       "  <thead>\n",
       "    <tr style=\"text-align: right;\">\n",
       "      <th></th>\n",
       "      <th>SUBSCRIBER_ID</th>\n",
       "      <th>PERIODO_PROCESO_CODIGO</th>\n",
       "      <th>MSISDN</th>\n",
       "      <th>FECHA_ALTA</th>\n",
       "      <th>ANTIGUEDAD</th>\n",
       "      <th>MOVIMIENTO_NOMBRE</th>\n",
       "      <th>ESTADO</th>\n",
       "      <th>MOVIMIENTO_TIPO_NOMBRE</th>\n",
       "      <th>OPERADOR_PORTA_ORIGEN</th>\n",
       "      <th>PLAN_NOMBRE</th>\n",
       "      <th>PLAN_TIPO_COMERCIAL</th>\n",
       "      <th>PLAN_REVENUE</th>\n",
       "      <th>CICLO</th>\n",
       "      <th>CONSULTOR_DK</th>\n",
       "      <th>CLIENTE_CIUDAD</th>\n",
       "      <th>CLIENTE_REGIONAL</th>\n",
       "      <th>CONSULTOR_CANAL_NOMBRE</th>\n",
       "      <th>CONSULTOR_REGIONAL_NOMBRE</th>\n",
       "      <th>GENERO</th>\n",
       "      <th>MOVIMIENTO_ACTIVACION</th>\n",
       "      <th>JINETE</th>\n",
       "      <th>REGION</th>\n",
       "    </tr>\n",
       "  </thead>\n",
       "  <tbody>\n",
       "    <tr>\n",
       "      <th>79802</th>\n",
       "      <td>1169809652</td>\n",
       "      <td>202305</td>\n",
       "      <td>3046473986</td>\n",
       "      <td>2021-08-05 03:16:35</td>\n",
       "      <td>664</td>\n",
       "      <td>PERMANECE</td>\n",
       "      <td>Active</td>\n",
       "      <td>PERMANECE</td>\n",
       "      <td>TIGO</td>\n",
       "      <td>PLAN S</td>\n",
       "      <td>MOBILE</td>\n",
       "      <td>37500</td>\n",
       "      <td>05</td>\n",
       "      <td>1667496</td>\n",
       "      <td>Cartagena</td>\n",
       "      <td>Bolívar</td>\n",
       "      <td>Outbound</td>\n",
       "      <td>Regional Centro</td>\n",
       "      <td>MASCULINO</td>\n",
       "      <td>GROSS ADDS PORTACION</td>\n",
       "      <td>NaN</td>\n",
       "      <td>Regional Costa</td>\n",
       "    </tr>\n",
       "    <tr>\n",
       "      <th>468433</th>\n",
       "      <td>1342178611</td>\n",
       "      <td>202305</td>\n",
       "      <td>3244457289</td>\n",
       "      <td>2022-11-28 00:17:20</td>\n",
       "      <td>184</td>\n",
       "      <td>PERMANECE</td>\n",
       "      <td>One-Way Block</td>\n",
       "      <td>PERMANECE</td>\n",
       "      <td>TIGO</td>\n",
       "      <td>PLAN L</td>\n",
       "      <td>MOBILE</td>\n",
       "      <td>45500</td>\n",
       "      <td>01</td>\n",
       "      <td>6341887</td>\n",
       "      <td>Bogotá D.C.</td>\n",
       "      <td>Bogotá D.C.</td>\n",
       "      <td>Outbound</td>\n",
       "      <td>Regional Centro</td>\n",
       "      <td>FEMENINO</td>\n",
       "      <td>GROSS ADDS PORTACION</td>\n",
       "      <td>NaN</td>\n",
       "      <td>Bogotá</td>\n",
       "    </tr>\n",
       "    <tr>\n",
       "      <th>822434</th>\n",
       "      <td>2293960647</td>\n",
       "      <td>202305</td>\n",
       "      <td>3026669690</td>\n",
       "      <td>2022-07-30 11:39:16</td>\n",
       "      <td>305</td>\n",
       "      <td>PERMANECE</td>\n",
       "      <td>One-Way Block</td>\n",
       "      <td>PERMANECE</td>\n",
       "      <td>LINEA NUEVA</td>\n",
       "      <td>PLAN S</td>\n",
       "      <td>MOBILE</td>\n",
       "      <td>37500</td>\n",
       "      <td>01</td>\n",
       "      <td>6118730</td>\n",
       "      <td>Medellín</td>\n",
       "      <td>Antioquia</td>\n",
       "      <td>Kiosks</td>\n",
       "      <td>Regional Antioquia</td>\n",
       "      <td>MASCULINO</td>\n",
       "      <td>GROSS ADDS NUEVA</td>\n",
       "      <td>NaN</td>\n",
       "      <td>Regional Antioquia</td>\n",
       "    </tr>\n",
       "  </tbody>\n",
       "</table>\n",
       "</div>"
      ],
      "text/plain": [
       "       SUBSCRIBER_ID  PERIODO_PROCESO_CODIGO  ... JINETE              REGION\n",
       "79802     1169809652                  202305  ...    NaN      Regional Costa\n",
       "468433    1342178611                  202305  ...    NaN              Bogotá\n",
       "822434    2293960647                  202305  ...    NaN  Regional Antioquia\n",
       "\n",
       "[3 rows x 22 columns]"
      ]
     },
     "execution_count": 13,
     "metadata": {},
     "output_type": "execute_result"
    }
   ],
   "source": [
    "ENDING.sample(3)"
   ]
  },
  {
   "cell_type": "markdown",
   "id": "9fb0c501-d99b-4d37-9df6-0cb1aeb4249e",
   "metadata": {
    "tags": []
   },
   "source": [
    "## *Churnes*"
   ]
  },
  {
   "cell_type": "code",
   "execution_count": 14,
   "id": "55e0517a-ce7f-4876-aca3-0ceb0537205f",
   "metadata": {},
   "outputs": [
    {
     "name": "stdout",
     "output_type": "stream",
     "text": [
      "Wall time: 18.3 s\n"
     ]
    },
    {
     "data": {
      "text/plain": [
       "(116263, 6)"
      ]
     },
     "execution_count": 14,
     "metadata": {},
     "output_type": "execute_result"
    }
   ],
   "source": [
    "%%time\n",
    "CHURNERS= pd.read_sql_query(sql=\n",
    "f\"\"\"\n",
    "WITH \n",
    "CHURNERS AS (\n",
    "    SELECT /*+PARALLEL(6)*/\n",
    "        CAST(E.SUBSCRIBER_ID AS VARCHAR(20)) SUBSCRIBER_ID,\n",
    "        CAST(E.MSISDN AS VARCHAR(20)) MSISDN,\n",
    "        TO_CHAR(E.FECHA_BAJA,'YYYYMMDD') FECHA_BAJA,\n",
    "        E.MOVIMIENTO_TIPO_NOMBRE AS MOVIMIENT_CHUHRN,\n",
    "        E.OPERADOR_PORTA_DESTINO,\n",
    "        ROW_NUMBER() OVER(PARTITION BY E.SUBSCRIBER_ID ORDER BY E.FECHA_ALTA DESC) ORDEN_A\n",
    "    FROM DWH_BODEGA_WOM.FCT_SUBSCRIBERS_ENDING E\n",
    "        WHERE SERVICIO='Postpaid'\n",
    "        AND ESTADO ='Termination'\n",
    "        AND MOVIMIENTO_TIPO_NOMBRE LIKE '%CHURN%'\n",
    "        AND PERIODO_PROCESO_CODIGO = {mes + 1}\n",
    "    )\n",
    "    \n",
    "SELECT * FROM CHURNERS\n",
    "WHERE ORDEN_A = 1\n",
    "\"\"\"\n",
    ",con=conn)\n",
    "CHURNERS.shape"
   ]
  },
  {
   "cell_type": "code",
   "execution_count": 15,
   "id": "05eaf205-62f4-4a34-8bd7-d29c2fb002fd",
   "metadata": {},
   "outputs": [
    {
     "data": {
      "text/plain": [
       "CHURN PORTACION     57750\n",
       "CHURN CARTERA       36529\n",
       "CHURN VOLUNTARIO    15892\n",
       "CHURN MIGRACION      5526\n",
       "CHURN FRAUDE          566\n",
       "Name: MOVIMIENT_CHUHRN, dtype: int64"
      ]
     },
     "execution_count": 15,
     "metadata": {},
     "output_type": "execute_result"
    }
   ],
   "source": [
    "CHURNERS['MOVIMIENT_CHUHRN'].value_counts()"
   ]
  },
  {
   "cell_type": "markdown",
   "id": "c710a386-ba91-4ea1-b832-cf6e89ad41f4",
   "metadata": {
    "tags": []
   },
   "source": [
    "## *Datos*"
   ]
  },
  {
   "cell_type": "code",
   "execution_count": 21,
   "id": "d1e11c74-da63-4a41-b6c8-a25372d1ee19",
   "metadata": {},
   "outputs": [
    {
     "name": "stdout",
     "output_type": "stream",
     "text": [
      "Wall time: 13min 6s\n"
     ]
    },
    {
     "data": {
      "text/plain": [
       "(1506885, 5)"
      ]
     },
     "execution_count": 21,
     "metadata": {},
     "output_type": "execute_result"
    }
   ],
   "source": [
    "%%time\n",
    "DATOS= pd.read_sql_query(sql=f'''\n",
    "WITH\n",
    "DATOS_ULT_30D AS (\n",
    "SELECT /*PARALLEL(6)*/  \n",
    "    CAST(SUBSCRIBER_ID AS VARCHAR(20)) SUBSCRIBER_ID,\n",
    "    SUM(ROUND(BYTES_TOTALES*0.000000001,2)) AS GB_TT_ULT_30D,\n",
    "    SUM(ROUND((CLARO_3G+TIGO_3G+MOVISTAR_3G+AVANTEL_3G+OTROS_3G)*0.000000001,2)) GB_TT_3G_ULT_30D,\n",
    "    SUM(ROUND((CLARO_3G+CLARO_4G+TIGO_3G+TIGO_4G+MOVISTAR_3G+MOVISTAR_4G+OTROS_3G)*0.000000001,2)) GB_TT_RAN_ULT_30D,\n",
    "    SUM(ROUND((AVANTEL_3G+AVANTEL_4G+WOM)*0.000000001,2)) GB_TT_RP_ULT_30D\n",
    "FROM AGG_DL_DATA\n",
    "WHERE SERVICIO='Postpaid'\n",
    "AND PERIODO_PROCESO_CODIGO >= TO_NUMBER(TO_CHAR(TO_DATE(TO_CHAR({dia}),'YYYY/MM/DD') - 30,'YYYYMMDD'))\n",
    "AND PERIODO_PROCESO_CODIGO < TO_NUMBER(TO_CHAR(TO_DATE(TO_CHAR({dia}),'YYYY/MM/DD'),'YYYYMMDD'))\n",
    "GROUP BY SUBSCRIBER_ID\n",
    ")\n",
    "\n",
    "SELECT /*PARALLEL(6)*/  \n",
    "    SUBSCRIBER_ID,\n",
    "    GB_TT_ULT_30D,\n",
    "    GB_TT_3G_ULT_30D,\n",
    "    GB_TT_RAN_ULT_30D,\n",
    "    GB_TT_RP_ULT_30D\n",
    "FROM DATOS_ULT_30D \n",
    "'''\n",
    ",con=conn)\n",
    "DATOS.shape\n"
   ]
  },
  {
   "cell_type": "code",
   "execution_count": 17,
   "id": "af310a3e-eb01-483c-b26e-6ed5a2421b0d",
   "metadata": {},
   "outputs": [
    {
     "name": "stdout",
     "output_type": "stream",
     "text": [
      "Wall time: 3min 16s\n"
     ]
    },
    {
     "data": {
      "text/plain": [
       "(1129674, 5)"
      ]
     },
     "execution_count": 17,
     "metadata": {},
     "output_type": "execute_result"
    }
   ],
   "source": [
    "%%time\n",
    "DATOS_H= pd.read_sql_query(sql=f'''\n",
    "WITH\n",
    "DATOS_H AS (\n",
    "SELECT \n",
    "    CAST(D.SUBSCRIBER_ID AS VARCHAR(20)) SUBSCRIBER_ID,\n",
    "    D.PERIODO,\n",
    "    ROUND(D.CLARO_3G*0.000000001,2) CLARO_3G, \n",
    "    ROUND(D.TIGO_3G*0.000000001,2) TIGO_3G, \n",
    "    ROUND(D.MOVISTAR_3G*0.000000001,2) MOVISTAR_3G, \n",
    "    ROUND(D.MOVISTAR_4G*0.000000001,2) MOVISTAR_4G, \n",
    "    ROUND(D.AVANTEL_3G*0.000000001,2) AVANTEL_3G, \n",
    "    ROUND(D.AVANTEL_4G*0.000000001,2) AVANTEL_4G, \n",
    "    ROUND(D.WOM*0.000000001,2) WOM, \n",
    "    ROUND(D.OTROS_3G*0.000000001,2) OTROS_3G, \n",
    "    ROUND(D.BYTES_TOTALES*0.000000001,2) GB_TOTALES\n",
    "FROM AGG_ML_DATA D\n",
    "INNER JOIN (\n",
    "            SELECT /*+PARALLEL(6)*/\n",
    "                    DISTINCT (SUBSCRIBER_ID)\n",
    "            FROM DWH_BODEGA_WOM.FCT_SUBSCRIBERS_ENDING \n",
    "                WHERE SERVICIO='Postpaid'\n",
    "                AND ESTADO = 'Active'\n",
    "                AND PERIODO_PROCESO_CODIGO = {mes}\n",
    "                AND (FECHA_BAJA IS NULL OR TO_DATE(FECHA_BAJA, 'DD/MM/YY') >= TO_DATE('{today}','DD/MM/YY'))\n",
    "            ) E ON D.SUBSCRIBER_ID=E.SUBSCRIBER_ID\n",
    "WHERE D.SERVICIO='Postpaid'\n",
    "AND TO_NUMBER(D.PERIODO) <= TO_NUMBER(TO_CHAR(ADD_MONTHS(TO_DATE(TO_CHAR({mes}),'YYYY/MM'),-1),'YYYYMM'))\n",
    "AND TO_NUMBER(D.PERIODO) >= TO_NUMBER(TO_CHAR(ADD_MONTHS(TO_DATE(TO_CHAR({mes}),'YYYY/MM'), -13),'YYYYMM'))\n",
    "),\n",
    "\n",
    "DATOS_HIS AS (\n",
    "SELECT /*PARALLEL(6)*/  \n",
    "    SUBSCRIBER_ID,\n",
    "    COUNT(PERIODO) AS MESES,\n",
    "    SUM(GB_TOTALES) AS GB_TT,\n",
    "    SUM(CLARO_3G + TIGO_3G + MOVISTAR_3G + AVANTEL_3G + OTROS_3G) AS GB_TT_3G,\n",
    "    SUM(WOM + AVANTEL_4G + AVANTEL_3G) AS GB_RED_PROPIA,\n",
    "    SUM (AVANTEL_4G + WOM) /SUM (GB_TOTALES) AS PORC_WOM_4G,\n",
    "    SUM (AVANTEL_3G) /SUM (GB_TOTALES) AS PORC_WOM_3G,\n",
    "    SUM (CLARO_3G)/SUM (GB_TOTALES) AS PORC_CLARO_3G , \n",
    "    SUM (TIGO_3G)/SUM (GB_TOTALES) AS PORC_TIGO_3G, \n",
    "    SUM (MOVISTAR_3G)/SUM (GB_TOTALES) AS PORC_MOVISTAR_3G, \n",
    "    SUM (MOVISTAR_4G)/SUM (GB_TOTALES) AS PORC_MOVISTAR_4G,\n",
    "    SUM (OTROS_3G)/SUM (GB_TOTALES) AS PORC_OTROS_3G\n",
    "FROM DATOS_H \n",
    "WHERE GB_TOTALES > 0\n",
    "GROUP BY SUBSCRIBER_ID\n",
    "),\n",
    "\n",
    "DATOS_HIST AS (\n",
    "SELECT /*PARALLEL(6)*/\n",
    "    SUBSCRIBER_ID,\n",
    "    GB_TT/MESES AS PROM_GB_TT,\n",
    "    GB_TT_3G/MESES AS PROM_GB_TT_3G,\n",
    "    GB_RED_PROPIA/MESES AS PROM_GB_RED_PROPIA,\n",
    "    CASE \n",
    "        WHEN MAX_OPERADOR >= 0.2 AND MAX_OPERADOR=PORC_WOM_3G THEN 'WOM_3G'\n",
    "        WHEN MAX_OPERADOR >= 0.2 AND MAX_OPERADOR=PORC_MOVISTAR_4G THEN 'MOVISTAR_4G'\n",
    "        WHEN MAX_OPERADOR >= 0.2 AND MAX_OPERADOR=PORC_MOVISTAR_3G THEN 'MOVISTAR_3G'\n",
    "        WHEN MAX_OPERADOR >= 0.2 AND MAX_OPERADOR=PORC_CLARO_3G THEN 'CLARO_3G'\n",
    "        WHEN MAX_OPERADOR >= 0.2 AND MAX_OPERADOR=PORC_TIGO_3G THEN 'TIGO_3G'\n",
    "        WHEN MAX_OPERADOR >= 0.2 AND MAX_OPERADOR=PORC_OTROS_3G THEN 'OTROS_3G'\n",
    "        WHEN MAX_OPERADOR IS NULL THEN 'SIN TRAFICO'\n",
    "        ELSE 'WOM_4G' END RED_PRINCIPAL\n",
    "FROM (\n",
    "    SELECT /*PARALLEL(6)*/  \n",
    "        A.*,\n",
    "        GREATEST(PORC_CLARO_3G, PORC_TIGO_3G, PORC_MOVISTAR_3G, PORC_MOVISTAR_4G,PORC_OTROS_3G,PORC_WOM_3G) MAX_OPERADOR\n",
    "    FROM DATOS_HIS A)\n",
    ")\n",
    "\n",
    "\n",
    "SELECT /*PARALLEL(6)*/  \n",
    "    SUBSCRIBER_ID,\n",
    "    PROM_GB_TT,\n",
    "    PROM_GB_TT_3G,\n",
    "    PROM_GB_RED_PROPIA,\n",
    "    RED_PRINCIPAL\n",
    "FROM DATOS_HIST \n",
    "'''\n",
    ",con=conn)\n",
    "DATOS_H.shape"
   ]
  },
  {
   "cell_type": "markdown",
   "id": "26db7cba-9a79-4903-bb1b-dded70dae93c",
   "metadata": {
    "tags": []
   },
   "source": [
    "## *Minutos*"
   ]
  },
  {
   "cell_type": "code",
   "execution_count": 18,
   "id": "a601b5cf-8771-4041-8d06-6462c9ec3d5b",
   "metadata": {},
   "outputs": [
    {
     "name": "stdout",
     "output_type": "stream",
     "text": [
      "Wall time: 4min 16s\n"
     ]
    },
    {
     "data": {
      "text/plain": [
       "(1146646, 3)"
      ]
     },
     "execution_count": 18,
     "metadata": {},
     "output_type": "execute_result"
    }
   ],
   "source": [
    "%%time\n",
    "MINUTOS_SAL_H= pd.read_sql_query(sql=f'''\n",
    "WITH \n",
    "MIN_SALIENTES AS (\n",
    "SELECT /*PARALLEL(6)*/  \n",
    "CAST(V.SUBSCRIBER_ID AS VARCHAR(20)) SUBSCRIBER_ID,\n",
    "COUNT(V.MES) AS MESES_SAL,\n",
    "SUM(V.CANT_CALLS) CANT_CALLS_SAL,\n",
    "SUM(V.DURACION_CALLS) MINUTOS_CALLS_SAL\n",
    "FROM AGG_ML_VOICE V\n",
    "INNER JOIN (\n",
    "            SELECT /*+PARALLEL(6)*/\n",
    "                    DISTINCT (SUBSCRIBER_ID)\n",
    "            FROM DWH_BODEGA_WOM.FCT_SUBSCRIBERS_ENDING \n",
    "                WHERE SERVICIO='Postpaid'\n",
    "                AND ESTADO = 'Active'\n",
    "                AND PERIODO_PROCESO_CODIGO = {mes}\n",
    "                AND (FECHA_BAJA IS NULL OR TO_DATE(FECHA_BAJA, 'DD/MM/YY') >= TO_DATE('{today}','DD/MM/YY'))\n",
    "            ) E ON V.SUBSCRIBER_ID=E.SUBSCRIBER_ID\n",
    "WHERE V.SENTIDO = 'SALIENTE'\n",
    "AND TO_NUMBER(V.MES) <= TO_NUMBER(TO_CHAR(ADD_MONTHS(TO_DATE(TO_CHAR({mes}),'YYYY/MM'), -1),'YYYYMM'))\n",
    "AND TO_NUMBER(V.MES) >= TO_NUMBER(TO_CHAR(ADD_MONTHS(TO_DATE(TO_CHAR({mes}),'YYYY/MM'), -13),'YYYYMM'))\n",
    "GROUP BY V.SUBSCRIBER_ID \n",
    ")\n",
    "SELECT /*PARALLEL(6)*/  \n",
    "     B.SUBSCRIBER_ID,\n",
    "    (B.MINUTOS_CALLS_SAL/B.MESES_SAL) PROM_MIN_SAL_MES,\n",
    "    (B.MINUTOS_CALLS_SAL/B.CANT_CALLS_SAL) PROM_CALLS_SAL\n",
    "   \n",
    "FROM MIN_SALIENTES B \n",
    "'''\n",
    ",con=conn)\n",
    "\n",
    "MINUTOS_SAL_H.shape"
   ]
  },
  {
   "cell_type": "code",
   "execution_count": 19,
   "id": "8c44dc03-8011-4605-829c-3855f3b339e8",
   "metadata": {},
   "outputs": [
    {
     "name": "stdout",
     "output_type": "stream",
     "text": [
      "Wall time: 3min 31s\n"
     ]
    },
    {
     "data": {
      "text/plain": [
       "(1131940, 3)"
      ]
     },
     "execution_count": 19,
     "metadata": {},
     "output_type": "execute_result"
    }
   ],
   "source": [
    "%%time\n",
    "MINUTOS_ENT_H= pd.read_sql_query(sql=f'''\n",
    "WITH \n",
    "MIN_ENTRANTES AS (\n",
    "SELECT /*PARALLEL(6)*/  \n",
    "CAST(V.SUBSCRIBER_ID AS VARCHAR(20)) SUBSCRIBER_ID,\n",
    "COUNT(V.MES) AS MESES_ENT,\n",
    "SUM(V.CANT_CALLS) CANT_CALLS_ENT,\n",
    "SUM(V.DURACION_CALLS) MINUTOS_CALLS_ENT\n",
    "FROM AGG_ML_VOICE V\n",
    "INNER JOIN (\n",
    "            SELECT /*+PARALLEL(6)*/\n",
    "                    DISTINCT (SUBSCRIBER_ID)\n",
    "            FROM DWH_BODEGA_WOM.FCT_SUBSCRIBERS_ENDING \n",
    "                WHERE SERVICIO='Postpaid'\n",
    "                AND ESTADO = 'Active'\n",
    "                AND PERIODO_PROCESO_CODIGO = {mes}\n",
    "                AND (FECHA_BAJA IS NULL OR TO_DATE(FECHA_BAJA, 'DD/MM/YY') >= TO_DATE('{today}','DD/MM/YY'))\n",
    "            ) E ON V.SUBSCRIBER_ID=E.SUBSCRIBER_ID\n",
    "WHERE V.SENTIDO = 'ENTRANTE'\n",
    "AND TO_NUMBER(V.MES) <= TO_NUMBER(TO_CHAR(ADD_MONTHS(TO_DATE(TO_CHAR({mes}),'YYYY/MM'), -1),'YYYYMM'))\n",
    "AND TO_NUMBER(V.MES) >= TO_NUMBER(TO_CHAR(ADD_MONTHS(TO_DATE(TO_CHAR({mes}),'YYYY/MM'), -13),'YYYYMM'))\n",
    "GROUP BY V.SUBSCRIBER_ID \n",
    ")\n",
    "\n",
    "SELECT /*PARALLEL(6)*/  \n",
    "     C.SUBSCRIBER_ID,   \n",
    "    (C.MINUTOS_CALLS_ENT/C.MESES_ENT) PROM_MIN_ENT_MES,\n",
    "    (C.MINUTOS_CALLS_ENT/C.CANT_CALLS_ENT) PROM_CALLS_ENT\n",
    "   \n",
    "FROM MIN_ENTRANTES C\n",
    "'''\n",
    ",con=conn)\n",
    "\n",
    "MINUTOS_ENT_H.shape"
   ]
  },
  {
   "cell_type": "code",
   "execution_count": 20,
   "id": "cb553226-4c61-4454-8893-292ef848fcc2",
   "metadata": {},
   "outputs": [
    {
     "name": "stdout",
     "output_type": "stream",
     "text": [
      "Wall time: 17min 49s\n"
     ]
    },
    {
     "data": {
      "text/plain": [
       "(1657037, 5)"
      ]
     },
     "execution_count": 20,
     "metadata": {},
     "output_type": "execute_result"
    }
   ],
   "source": [
    "%%time\n",
    "MINUTOS= pd.read_sql_query(sql=f'''\n",
    "SELECT /*PARALLEL(6)*/  \n",
    "    CAST(SUBSCRIBER_ID AS VARCHAR(20)) SUBSCRIBER_ID,\n",
    "    SUM(CASE WHEN MIN_TOTALES_SALIENTES > 0 THEN 1 ELSE 0 END) CALLS_SAL_ULT30D,\n",
    "    SUM(ROUND(MIN_TOTALES_SALIENTES,2)) AS MIN_SALIENTES_ULT_30D,\n",
    "    SUM(CASE WHEN MIN_TOTALES_ENTRANTE > 0 THEN 1 ELSE 0 END) CALLS_ENT_ULT30D,\n",
    "    SUM(ROUND(MIN_TOTALES_ENTRANTE,2)) AS MIN_ENTRANTES_ULT_30D\n",
    "FROM CDR_BODEGA_WOM.AGR_TRAFICO_MOU_DIARIO\n",
    "WHERE SERVICIO='Postpaid'\n",
    "AND PERIODO_MES > = {mes - 1}\n",
    "AND PERIODO_DIA >= TO_NUMBER(TO_CHAR(TO_DATE(TO_CHAR({dia}),'YYYY/MM/DD') - 30,'YYYYMMDD'))\n",
    "AND PERIODO_DIA < TO_NUMBER(TO_CHAR(TO_DATE(TO_CHAR({dia}),'YYYY/MM/DD'),'YYYYMMDD'))\n",
    "GROUP BY SUBSCRIBER_ID\n",
    "'''\n",
    ",con=conn)\n",
    "\n",
    "MINUTOS.shape"
   ]
  },
  {
   "cell_type": "markdown",
   "id": "395f4df1-7f5b-49a7-9c62-442811dea8af",
   "metadata": {
    "tags": []
   },
   "source": [
    "## *Llamadas de la Competencia*"
   ]
  },
  {
   "cell_type": "code",
   "execution_count": 22,
   "id": "261907a0-5f04-4a2a-a3c1-2eb6e8807416",
   "metadata": {},
   "outputs": [
    {
     "name": "stdout",
     "output_type": "stream",
     "text": [
      "Wall time: 11.8 s\n"
     ]
    },
    {
     "data": {
      "text/plain": [
       "(177372, 4)"
      ]
     },
     "execution_count": 22,
     "metadata": {},
     "output_type": "execute_result"
    }
   ],
   "source": [
    "%%time\n",
    "COMPETENCIA_LLAM= pd.read_sql_query(sql= \n",
    "f'''\n",
    "SELECT /*+PARALLEL(6)*/ \n",
    "    CAST(SUBSCRIBER_ID AS VARCHAR(20)) SUBSCRIBER_ID,\n",
    "    COUNT(*) CANT_LLAMADAS,\n",
    "    SUM(ROUND((DURACION_SEG/60),2)) MIN_TOTALES,\n",
    "    ROUND(AVG((DURACION_SEG/60)),2) MIN_PROMEDIO\n",
    "FROM CDR_BODEGA_WOM.AGR_TRAFICO_MOU_COMPETENCIA\n",
    "    WHERE SERVICIO='Postpaid'\n",
    "    AND DURACION_SEG >= 120\n",
    "    AND OPERADOR !='WOM'\n",
    "    AND PERIODO_PROCESO_CODIGO >= TO_NUMBER(TO_CHAR(TO_DATE(TO_CHAR({dia}),'YYYY/MM/DD') - 30,'YYYYMMDD'))\n",
    "    AND PERIODO_PROCESO_CODIGO < TO_NUMBER(TO_CHAR(TO_DATE(TO_CHAR({dia}),'YYYY/MM/DD'),'YYYYMMDD'))\n",
    "GROUP BY SUBSCRIBER_ID\n",
    "'''\n",
    ",con=conn)\n",
    "COMPETENCIA_LLAM.shape"
   ]
  },
  {
   "cell_type": "markdown",
   "id": "9030c74c-1966-46a5-a7f0-561cd39a319f",
   "metadata": {
    "tags": []
   },
   "source": [
    "## *SMS*"
   ]
  },
  {
   "cell_type": "code",
   "execution_count": 23,
   "id": "9164ac96-9e44-46fc-8931-fea1f1336c18",
   "metadata": {},
   "outputs": [
    {
     "name": "stdout",
     "output_type": "stream",
     "text": [
      "Wall time: 57.5 s\n"
     ]
    },
    {
     "data": {
      "text/plain": [
       "(1521818, 3)"
      ]
     },
     "execution_count": 23,
     "metadata": {},
     "output_type": "execute_result"
    }
   ],
   "source": [
    "%%time\n",
    "SMS= pd.read_sql_query(sql= \n",
    "f'''\n",
    "SELECT /*+PARALLEL(6)*/ \n",
    "    CAST(NUM_DESTINO AS VARCHAR(20)) NUM_DESTINO,\n",
    "    SUM(CASE WHEN TOPICOS = 'OFERTA' THEN 1 ELSE 0 END) CANT_SMS_OFERTAS,\n",
    "    COUNT(*) CANT_SMS_TT\n",
    "FROM DP_TRAFICO_SMS\n",
    "    WHERE FECHA_CARGUE <= {dia}\n",
    "    AND FECHA_CARGUE >= TO_NUMBER(TO_CHAR(TO_DATE(TO_CHAR({dia}),'YYYY/MM/DD') - 30,'YYYYMMDD'))\n",
    "GROUP BY NUM_DESTINO\n",
    "'''\n",
    ",con=conn)\n",
    "SMS.shape"
   ]
  },
  {
   "cell_type": "markdown",
   "id": "d78ab948-ceba-457e-b756-f9cb0cfeae3c",
   "metadata": {
    "tags": []
   },
   "source": [
    "## *Cliente llama a la Competencia*"
   ]
  },
  {
   "cell_type": "code",
   "execution_count": 24,
   "id": "7d884a3b-1a97-4f13-8b46-0ef9a8e0544a",
   "metadata": {},
   "outputs": [
    {
     "name": "stdout",
     "output_type": "stream",
     "text": [
      "Wall time: 535 ms\n"
     ]
    }
   ],
   "source": [
    "%%time\n",
    "cliente_llama_competencia= pd.read_sql_query(sql=\n",
    "f\"\"\"\n",
    "SELECT /*+PARALLEL(6)*/ \n",
    "    * \n",
    "FROM(\n",
    "    SELECT /*+PARALLEL(6)*/\n",
    "        CAST(SUBSCRIBER_ID AS VARCHAR(20)) SUBSCRIBER_ID, \n",
    "        FECHA_LLAMADA, \n",
    "        LLAMO_A_LA_COMPETENCIA,\n",
    "        ROW_NUMBER() OVER(PARTITION BY SUBSCRIBER_ID ORDER BY FECHA_LLAMADA DESC) AS ORDEN\n",
    "    FROM LLAMARON_A_COMPETENCIA\n",
    "    WHERE SERVICIO = 'Postpaid'\n",
    "    AND FECHA_LLAMADA < TO_DATE('{today}','dd/mm/yy')\n",
    "    AND FECHA_LLAMADA >= (TO_DATE('{today}','dd/mm/yy')-30)\n",
    ")\n",
    "WHERE ORDEN = 1\n",
    "\"\"\"\n",
    ",con=conn)"
   ]
  },
  {
   "cell_type": "markdown",
   "id": "4d2a8f1e-e22e-4ca0-b1c9-5eb156c36afb",
   "metadata": {
    "tags": []
   },
   "source": [
    "## *Quejas*"
   ]
  },
  {
   "cell_type": "code",
   "execution_count": 25,
   "id": "2ab6a98a-2ee7-4776-bc1c-c0ba0d5e0f68",
   "metadata": {},
   "outputs": [
    {
     "name": "stdout",
     "output_type": "stream",
     "text": [
      "Wall time: 46 s\n"
     ]
    },
    {
     "data": {
      "text/plain": [
       "(281689, 2)"
      ]
     },
     "execution_count": 25,
     "metadata": {},
     "output_type": "execute_result"
    }
   ],
   "source": [
    "%%time\n",
    "QUEJAS= pd.read_sql_query(sql= \n",
    "f'''\n",
    "SELECT /*+PARALLEL(6)*/ \n",
    "    CAST(SUBSCRIBER_ID AS VARCHAR(20)) SUBSCRIBER_ID,\n",
    "    COUNT(*) QUEJAS\n",
    "FROM CR_DL_PQR\n",
    "    WHERE SERVICIO='Postpaid'\n",
    "    AND SERVICE_TYPE2<>'PORTABILIDAD'\n",
    "    AND TO_NUMBER(TO_CHAR(TO_DATE(CREATED_DATE,'DD/MM/YY'),'YYYYMMDD')) >= TO_NUMBER(TO_CHAR(TO_DATE(TO_CHAR({dia}),'YYYY/MM/DD') - 30,'YYYYMMDD'))\n",
    "    AND TO_NUMBER(TO_CHAR(TO_DATE(CREATED_DATE,'DD/MM/YY'),'YYYYMMDD')) < TO_NUMBER(TO_CHAR(TO_DATE(TO_CHAR({dia}),'YYYY/MM/DD'),'YYYYMMDD'))\n",
    "GROUP BY SUBSCRIBER_ID\n",
    "'''\n",
    ",con=conn)\n",
    "QUEJAS.shape"
   ]
  },
  {
   "cell_type": "markdown",
   "id": "6c109715-686a-4dab-b58e-eda992a789dd",
   "metadata": {
    "tags": []
   },
   "source": [
    "## *PQR*"
   ]
  },
  {
   "cell_type": "code",
   "execution_count": 26,
   "id": "1b288e85-1630-4faf-b56a-c28ca3a7912e",
   "metadata": {},
   "outputs": [
    {
     "name": "stdout",
     "output_type": "stream",
     "text": [
      "Wall time: 14.4 s\n"
     ]
    },
    {
     "data": {
      "text/plain": [
       "(61705, 2)"
      ]
     },
     "execution_count": 26,
     "metadata": {},
     "output_type": "execute_result"
    }
   ],
   "source": [
    "%%time\n",
    "PQR= pd.read_sql_query(sql= \n",
    "f'''\n",
    "SELECT /*+PARALLEL(6)*/ \n",
    "    CAST(SUBSCRIBER_ID AS VARCHAR(20)) SUBSCRIBER_ID,\n",
    "    COUNT(*) PQR\n",
    "FROM CR_DL_PQR\n",
    "    WHERE SERVICIO='Postpaid'\n",
    "    AND SERVICE_TYPE2 IN ('LLAMADA TRANSFERIDA A OTRA ÁREA')\n",
    "    AND TO_NUMBER(TO_CHAR(TO_DATE(CREATED_DATE,'DD/MM/YY'),'YYYYMMDD')) >= TO_NUMBER(TO_CHAR(TO_DATE(TO_CHAR({dia}),'YYYY/MM/DD') - 30,'YYYYMMDD'))\n",
    "    AND TO_NUMBER(TO_CHAR(TO_DATE(CREATED_DATE,'DD/MM/YY'),'YYYYMMDD')) < TO_NUMBER(TO_CHAR(TO_DATE(TO_CHAR({dia}),'YYYY/MM/DD'),'YYYYMMDD'))\n",
    "GROUP BY SUBSCRIBER_ID\n",
    "'''\n",
    ",con=conn)\n",
    "PQR.shape"
   ]
  },
  {
   "cell_type": "markdown",
   "id": "84ff2ead-297e-4ed9-9640-0a4122ba93ab",
   "metadata": {
    "tags": []
   },
   "source": [
    "## *Recurrencia*"
   ]
  },
  {
   "cell_type": "code",
   "execution_count": 27,
   "id": "1287a1ab-d9a6-4524-b3af-3f76b439c0fe",
   "metadata": {},
   "outputs": [
    {
     "name": "stdout",
     "output_type": "stream",
     "text": [
      "Wall time: 1min 40s\n"
     ]
    },
    {
     "data": {
      "text/plain": [
       "(546756, 2)"
      ]
     },
     "execution_count": 27,
     "metadata": {},
     "output_type": "execute_result"
    }
   ],
   "source": [
    "%%time\n",
    "Recurrencia= pd.read_sql_query(sql= \n",
    "f'''\n",
    "SELECT /*+ PARALLEL(6) */ \n",
    "    CAST(SUBSCRIBER_ID AS VARCHAR(20)) SUBSCRIBER_ID,\n",
    "    CASE WHEN (CANT_PETICION>1 OR CANT_QUEJA>1 OR CANT_CONSULTAS> 1) THEN 'REINCIDENTE'\n",
    "        WHEN (CANT_PETICION+CANT_QUEJA+CANT_CONSULTAS)>1 THEN 'RECURRENTE'\n",
    "        ELSE 'PQRS_UNICO' END AS GRUPO_REC\n",
    "FROM (\n",
    "    SELECT /*+ PARALLEL(6) */ \n",
    "        SUBSCRIBER_ID,\n",
    "        SUM(CASE WHEN SERVICE_TYPE1 = 'CONSULTAS' THEN 1 ELSE 0 END) CANT_CONSULTAS,\n",
    "        SUM(CASE WHEN SERVICE_TYPE1 = 'PETICIÓN' THEN 1 ELSE 0 END) CANT_PETICION,\n",
    "        SUM(CASE WHEN SERVICE_TYPE1 = 'QUEJA' THEN 1 ELSE 0 END) CANT_QUEJA\n",
    "    FROM CR_DL_PQR\n",
    "        WHERE SERVICIO='Postpaid'\n",
    "        AND SERVICE_TYPE1 IN ('QUEJA','PETICIÓN','CONSULTAS')\n",
    "        AND TO_NUMBER(TO_CHAR(TO_DATE(CREATED_DATE,'DD/MM/YY'),'YYYYMMDD')) >= TO_NUMBER(TO_CHAR(TO_DATE(TO_CHAR({dia}),'YYYY/MM/DD') - 90,'YYYYMMDD'))\n",
    "        AND TO_NUMBER(TO_CHAR(TO_DATE(CREATED_DATE,'DD/MM/YY'),'YYYYMMDD')) < TO_NUMBER(TO_CHAR(TO_DATE(TO_CHAR({dia}),'YYYY/MM/DD'),'YYYYMMDD'))\n",
    "    GROUP BY SUBSCRIBER_ID)\n",
    "'''\n",
    ",con=conn)\n",
    "Recurrencia.shape"
   ]
  },
  {
   "cell_type": "markdown",
   "id": "6a15da2e-a97f-40cc-b2ac-e9b5fe797d7b",
   "metadata": {
    "tags": []
   },
   "source": [
    "## *Cantidad de Lineas*"
   ]
  },
  {
   "cell_type": "code",
   "execution_count": 28,
   "id": "e38311f5-0187-4000-93bd-fc1953ad7284",
   "metadata": {},
   "outputs": [
    {
     "name": "stdout",
     "output_type": "stream",
     "text": [
      "Wall time: 19.1 s\n"
     ]
    },
    {
     "data": {
      "text/plain": [
       "(1701364, 2)"
      ]
     },
     "execution_count": 28,
     "metadata": {},
     "output_type": "execute_result"
    }
   ],
   "source": [
    "%%time\n",
    "CANT_LINEAS= pd.read_sql_query(sql= f\"\"\" \n",
    "SELECT /*+ PARALLEL(6) */  \n",
    "    CAST(SUBSCRIBER_ID AS VARCHAR(20)) SUBSCRIBER_ID,\n",
    "    ROW_NUMBER() OVER(PARTITION BY CLIENTE_DK,PERIODO_PROCESO_CODIGO ORDER BY FECHA_ALTA ,MOVIMIENTO_NOMBRE DESC) AS NUM_LINEA_CLI\n",
    "FROM (\n",
    "    SELECT /*+ PARALLEL(6) */ \n",
    "        SUBSCRIBER_ID, \n",
    "        MOVIMIENTO_NOMBRE, \n",
    "        MOVIMIENTO_TIPO_NOMBRE, \n",
    "        PERIODO_PROCESO_CODIGO,\n",
    "        FECHA_ALTA,FECHA_BAJA,\n",
    "        CLIENTE_DK,\n",
    "        ROW_NUMBER() OVER(PARTITION BY SUBSCRIBER_ID,PERIODO_PROCESO_CODIGO ORDER BY PERIODO_PROCESO_CODIGO DESC,MOVIMIENTO_NOMBRE DESC) AS ORDEN\n",
    "    FROM  DWH_BODEGA_WOM.FCT_SUBSCRIBERS_ENDING\n",
    "        WHERE SERVICIO='Postpaid'\n",
    "        AND PERIODO_PROCESO_CODIGO ={mes}\n",
    "        ORDER BY SUBSCRIBER_ID, ORDEN DESC) A\n",
    "WHERE A.ORDEN=1\n",
    "AND PERIODO_PROCESO_CODIGO={mes}\n",
    "AND CLIENTE_DK NOT IN (-1,-2)\n",
    "\"\"\"\n",
    ",con=conn)\n",
    "CANT_LINEAS.shape"
   ]
  },
  {
   "cell_type": "markdown",
   "id": "81df3bb0-1124-4f74-93a6-73c94e8af932",
   "metadata": {
    "tags": []
   },
   "source": [
    "## *Facturación*"
   ]
  },
  {
   "cell_type": "code",
   "execution_count": 29,
   "id": "1cb4da6b-3d36-4e79-afc9-c0d98454b255",
   "metadata": {},
   "outputs": [
    {
     "name": "stdout",
     "output_type": "stream",
     "text": [
      "Wall time: 55min 31s\n"
     ]
    },
    {
     "data": {
      "text/plain": [
       "(3170115, 9)"
      ]
     },
     "execution_count": 29,
     "metadata": {},
     "output_type": "execute_result"
    }
   ],
   "source": [
    "%%time\n",
    "FACTURA= pd.read_sql_query(sql= f\"\"\" \n",
    "WITH \n",
    "ULT_FAC AS (\n",
    "SELECT /*+PARALLEL(4)*/  \n",
    "    A.*\n",
    "    ,ROW_NUMBER() OVER(PARTITION BY A.SUBS_ID ORDER BY A.FECHA_FACTURACION DESC) ORDEN\n",
    "FROM CR_DL_PAGOS A\n",
    "WHERE TO_NUMBER(TO_CHAR(A.FECHA_FACTURACION,'YYYYMMDD')) <= {dia}\n",
    ")\n",
    "\n",
    "SELECT /*+ PARALLEL(4) */  \n",
    "    CAST(B.SUBS_ID AS VARCHAR(20)) SUBSCRIBER_ID,\n",
    "    C.DEUDA AS ULT_FAC, \n",
    "    AVG(B.DEUDA) AS PROM_FACTURA,\n",
    "    SUM(B.DEUDA) AS VAL_FACTURADO,\n",
    "    SUM(B.PAGO)*(-1) AS VALOR_PAGADO,\n",
    "    SUM(CASE WHEN B.DEUDA > 0 THEN 1 ELSE 0 END) AS CANT_FACTURAS,\n",
    "    SUM(CASE WHEN B.PAGO*(-1) > 0 THEN 1 ELSE 0 END) AS CANT_PAGOS,\n",
    "    SUM(CASE WHEN B.DIAS_PAGO_VENCIMIENTO <= 0 THEN 1 ELSE 0 END) CANT_PAGOS_TIEMPO,\n",
    "    SUM(CASE WHEN B.DIAS_PAGO_VENCIMIENTO > 0 THEN 1 ELSE 0 END) CANT_PAGOS_MORA\n",
    "FROM CR_DL_PAGOS B\n",
    "LEFT JOIN ULT_FAC C ON (B.SUBS_ID=C.SUBS_ID AND C.ORDEN=1)\n",
    "WHERE TO_NUMBER(TO_CHAR(B.FECHA_FACTURACION,'YYYYMMDD')) <= {dia}\n",
    "GROUP BY B.SUBS_ID,C.DEUDA\n",
    "\"\"\"\n",
    ",con=conn)\n",
    "\n",
    "FACTURA.shape"
   ]
  },
  {
   "cell_type": "markdown",
   "id": "a1e1bdc5-58b6-4f15-a0e5-58b7e66cb106",
   "metadata": {
    "tags": []
   },
   "source": [
    "## *Gross Churn*"
   ]
  },
  {
   "cell_type": "code",
   "execution_count": 30,
   "id": "7c731ba4-1488-49ee-8275-fe924e414205",
   "metadata": {},
   "outputs": [
    {
     "name": "stdout",
     "output_type": "stream",
     "text": [
      "Wall time: 1.69 s\n"
     ]
    },
    {
     "data": {
      "text/plain": [
       "(9084, 3)"
      ]
     },
     "execution_count": 30,
     "metadata": {},
     "output_type": "execute_result"
    }
   ],
   "source": [
    "%%time\n",
    "Gross_churn= pd.read_sql_query(sql=\n",
    "f\"\"\" \n",
    "SELECT /*+PARALLEL(6)*/\n",
    "    CAST(SUBSCRIBER_ID AS VARCHAR(20)) SUBSCRIBER_ID,\n",
    "    PERIODO_PROCESO_CODIGO, \n",
    "    ALTA_PROB\n",
    "FROM ANALITICA_WOM.MODELO_GROSS_CHURN_V2\n",
    "WHERE PREDICT_PROBA >0.85\n",
    "AND PERIODO_PROCESO_CODIGO = {mes}\n",
    "\"\"\"\n",
    ",con=conn)\n",
    "\n",
    "Gross_churn.shape"
   ]
  },
  {
   "cell_type": "markdown",
   "id": "6c14942f-d753-4d74-9473-777f121e08f4",
   "metadata": {
    "tags": []
   },
   "source": [
    "## *Compra de Equipos*"
   ]
  },
  {
   "cell_type": "code",
   "execution_count": 31,
   "id": "6fcb0323-744f-4cba-a61b-b3520acced28",
   "metadata": {},
   "outputs": [
    {
     "name": "stdout",
     "output_type": "stream",
     "text": [
      "Wall time: 4.09 s\n"
     ]
    },
    {
     "data": {
      "text/plain": [
       "(208153, 2)"
      ]
     },
     "execution_count": 31,
     "metadata": {},
     "output_type": "execute_result"
    }
   ],
   "source": [
    "%%time\n",
    "Compr_Equi= pd.read_sql_query(sql=\n",
    "f\"\"\" \n",
    "SELECT /*+PARALLEL(6)*/\n",
    "    SUBSCRIBER_ID,\n",
    "    COMPRO_EQUIPO\n",
    "FROM (\n",
    "SELECT /*+PARALLEL(6)*/\n",
    "    CAST(SUBSCRIBER_ID AS VARCHAR(20)) SUBSCRIBER_ID,\n",
    "    1 COMPRO_EQUIPO,\n",
    "    ROW_NUMBER() OVER(PARTITION BY SUBSCRIBER_ID ORDER BY PERIODO_PROCESO_CODIGO DESC) ORDEN\n",
    "FROM  DWH_BODEGA_WOM.FCT_DEVICES\n",
    "WHERE SERVICIO = 'Postpaid'\n",
    "AND PERIODO_PROCESO_CODIGO >= TO_NUMBER(TO_CHAR(ADD_MONTHS(TO_DATE(TO_CHAR({mes}),'YYYY/MM'), -6),'YYYYMM'))\n",
    "AND PERIODO_PROCESO_CODIGO <= TO_NUMBER({mes})\n",
    ")\n",
    "WHERE ORDEN = 1\n",
    "\"\"\"\n",
    ",con=conn)\n",
    "\n",
    "Compr_Equi.shape"
   ]
  },
  {
   "cell_type": "markdown",
   "id": "7e351b68-f57a-474a-9311-506745e620b7",
   "metadata": {
    "tags": []
   },
   "source": [
    "## *Buro*"
   ]
  },
  {
   "cell_type": "code",
   "execution_count": 32,
   "id": "dac4d5fa-78d2-418e-b877-43d5224ef030",
   "metadata": {},
   "outputs": [
    {
     "name": "stdout",
     "output_type": "stream",
     "text": [
      "Wall time: 20.3 s\n"
     ]
    },
    {
     "data": {
      "text/plain": [
       "(1733468, 2)"
      ]
     },
     "execution_count": 32,
     "metadata": {},
     "output_type": "execute_result"
    }
   ],
   "source": [
    "%%time\n",
    "Buro= pd.read_sql_query(sql=\n",
    "f\"\"\" \n",
    "WITH \n",
    "BURO AS ( \n",
    "SELECT /*+PARALLEL(6)*/\n",
    "SUBSCRIBER_ID,\n",
    "CASE \n",
    "    WHEN TIPO_BURO = '01 Riesgo Bajo' THEN 'BAJO'\n",
    "    WHEN TIPO_BURO = '02 Riesgo Medio' THEN 'MEDIO'\n",
    "    WHEN TIPO_BURO = '03 Riesgo Medio-Alto' THEN 'MEDIO-ALTO'\n",
    "    WHEN TIPO_BURO = 'Sin Buro' THEN 'SIN RIESGO'\n",
    "    WHEN TIPO_BURO LIKE '%Riesgo Alto%' THEN 'ALTO'\n",
    "    ELSE 'NA' END RIESGO,   \n",
    "    \n",
    "ROW_NUMBER() OVER(PARTITION BY SUBSCRIBER_ID ORDER BY PERIODO_PROCESO_CODIGO DESC) ORDEN\n",
    "FROM BI_WOM.TBL_CONSOLIDADO_GROSS_SCORE\n",
    "WHERE SERVICIO = 'Postpaid'\n",
    ")\n",
    "\n",
    "SELECT /*+PARALLEL(6)*/ \n",
    "CAST(SUBSCRIBER_ID AS VARCHAR(20)) SUBSCRIBER_ID,\n",
    "RIESGO\n",
    "FROM BURO\n",
    "WHERE ORDEN = 1 \n",
    "\"\"\"\n",
    ",con=conn)\n",
    "\n",
    "Buro.shape"
   ]
  },
  {
   "cell_type": "markdown",
   "id": "424c9ff8-ff4b-4334-b297-11a9d5d92e3b",
   "metadata": {
    "tags": []
   },
   "source": [
    "## *Segunda Linea*"
   ]
  },
  {
   "cell_type": "code",
   "execution_count": 33,
   "id": "35f15c45-66af-4960-9aa9-8d654fadbf39",
   "metadata": {},
   "outputs": [
    {
     "name": "stdout",
     "output_type": "stream",
     "text": [
      "Wall time: 12 s\n"
     ]
    },
    {
     "data": {
      "text/plain": [
       "(758538, 2)"
      ]
     },
     "execution_count": 33,
     "metadata": {},
     "output_type": "execute_result"
    }
   ],
   "source": [
    "%%time\n",
    "Segunda_Linea= pd.read_sql_query(sql=\n",
    "f\"\"\" \n",
    "WITH\n",
    "SEGUNDA_LINEA AS (\n",
    "    SELECT /*+PARALLEL(6)*/\n",
    "        SUBSCRIBER_ID,\n",
    "        TIPO,\n",
    "        PERIODO_OFERTA,\n",
    "        SUBS_CON_DESCUENTO\n",
    "    FROM  (\n",
    "        SELECT /*+PARALLEL(6)*/\n",
    "            SUBS_A SUBSCRIBER_ID,\n",
    "            TIPO,\n",
    "            PERIODO_OFERTA,\n",
    "            SUBS_CON_DESCUENTO,\n",
    "            ACTIVO\n",
    "        FROM COMERCIAL_WOM.PROGRAMACIONES_DESCUENTO_2X1\n",
    "        UNION ALL\n",
    "        SELECT /*+PARALLEL(6)*/\n",
    "            SUBS_B SUBSCRIBER_ID,\n",
    "            TIPO,\n",
    "            PERIODO_OFERTA,\n",
    "            SUBS_CON_DESCUENTO,\n",
    "            ACTIVO\n",
    "        FROM COMERCIAL_WOM.PROGRAMACIONES_DESCUENTO_2X1 )\n",
    "        GROUP BY\n",
    "            SUBSCRIBER_ID,\n",
    "            TIPO,\n",
    "            PERIODO_OFERTA,\n",
    "            SUBS_CON_DESCUENTO,\n",
    "            ACTIVO\n",
    ")\n",
    "\n",
    "SELECT /*+PARALLEL(6)*/\n",
    "SUBSCRIBER_ID,\n",
    "SEGUNDA_LINEA\n",
    "FROM (\n",
    "SELECT /*+PARALLEL(6)*/\n",
    "    CAST(A.SUBSCRIBER_ID AS VARCHAR(20)) SUBSCRIBER_ID,\n",
    "    1 AS SEGUNDA_LINEA,\n",
    "    ROW_NUMBER() OVER(PARTITION BY SUBSCRIBER_ID ORDER BY PERIODO_OFERTA DESC) ORDEN\n",
    "FROM SEGUNDA_LINEA  A)\n",
    "WHERE ORDEN = 1\n",
    "\"\"\"\n",
    ",con=conn)\n",
    "\n",
    "Segunda_Linea.shape"
   ]
  },
  {
   "cell_type": "markdown",
   "id": "c0fa8045-0191-4bfd-9a8f-05f852ae727a",
   "metadata": {
    "tags": []
   },
   "source": [
    "## *Codigos*"
   ]
  },
  {
   "cell_type": "code",
   "execution_count": null,
   "id": "f7a9c999-626c-4942-b1f4-39103f437af3",
   "metadata": {},
   "outputs": [],
   "source": [
    "%%time\n",
    "Codigos= pd.read_sql_query(sql=\n",
    "f\"\"\" \n",
    "WITH \n",
    "CODIGO AS (\n",
    "SELECT /*+PARALLEL(6)*/\n",
    "TELEFONO AS MSISDN,\n",
    "TO_DATE(FECHA_ENVIO,'DD/MM/YYYY') FECHA_ENVIO,\n",
    "1 NIP\n",
    "FROM DP_GESTION_MOV_PRIORIZADA\n",
    "WHERE TO_NUMBER(TO_CHAR(FECHA_ENVIO,'YYYYMMDD')) >= TO_NUMBER(TO_CHAR(TO_DATE(TO_CHAR({dia}),'YYYY/MM/DD') - 60,'YYYYMMDD'))\n",
    "AND TO_NUMBER(TO_CHAR(FECHA_ENVIO,'YYYYMMDD')) <= TO_NUMBER(TO_CHAR(TO_DATE(TO_CHAR({dia}),'YYYY/MM/DD'),'YYYYMMDD'))\n",
    "),\n",
    "\n",
    "CODIGO1 AS (\n",
    "SELECT  /*+PARALLEL(6)*/\n",
    "CAST(C.MSISDN AS VARCHAR(20)) MSISDN,\n",
    "C.FECHA_ENVIO,\n",
    "C.NIP,\n",
    "A.CREATED_DATE,\n",
    "A.EFF_DATE,\n",
    "CASE \n",
    "    WHEN A.CREATED_DATE IS NULL THEN 0 \n",
    "    WHEN A.CREATED_DATE > C.FECHA_ENVIO  THEN 0 \n",
    "    ELSE 1 END PORTACION_CREADA,\n",
    "(TO_DATE(CREATED_DATE,'DD/MM/YYYY') - TO_DATE(FECHA_ENVIO,'DD/MM/YYYY')) AS DIFF_RESIVE_CREA,\n",
    "ROW_NUMBER() OVER(PARTITION BY MSISDN ORDER BY FECHA_ENVIO DESC) ORDEN\n",
    "    \n",
    "FROM CODIGO C\n",
    "LEFT JOIN (\n",
    "    SELECT /*+PARALLEL(6)*/\n",
    "        PORT_NUMBER,\n",
    "        TO_DATE(CREATED_DATE,'DD/MM/YYYY') AS CREATED_DATE,\n",
    "        TO_DATE(EFF_DATE,'DD/MM/YYYY') AS EFF_DATE\n",
    "    FROM COMERCIAL_WOM.PORT_OUT_WOM \n",
    "    WHERE PERIODO_PROCESO_CODIGO >= {mes-1}\n",
    "    AND  PERIODO_PROCESO_CODIGO <= {mes}\n",
    "    AND NP_ORDER_NAME IN ('Complete','Waiting broadcast','Order Scheduling')\n",
    "    ) A ON C.MSISDN = A.PORT_NUMBER\n",
    ")\n",
    "\n",
    "SELECT /*+PARALLEL(6)*/\n",
    "    MSISDN,\n",
    "    NIP,\n",
    "    PORTACION_CREADA,\n",
    "    DIFF_RESIVE_CREA\n",
    "FROM CODIGO1\n",
    "WHERE ORDEN = 1\n",
    "\"\"\"\n",
    ",con=conn)\n",
    "Codigos.shape"
   ]
  },
  {
   "cell_type": "markdown",
   "id": "7a3ee9a6-4db0-4c80-ba71-3b6a5553bc34",
   "metadata": {
    "tags": []
   },
   "source": [
    "## *Descuentos*"
   ]
  },
  {
   "cell_type": "code",
   "execution_count": null,
   "id": "32489f2d-fe0c-439c-9e93-539fc44c58b2",
   "metadata": {},
   "outputs": [],
   "source": [
    "%%time\n",
    "Descuentos= pd.read_sql_query(sql=\n",
    "f\"\"\" \n",
    "WITH \n",
    "FACTU AS (\n",
    "SELECT /*+PARALLEL(6)*/\n",
    "    A.PERIODO_PROCESO_CODIGO, \n",
    "    A.SUBSCRIBER_ID, \n",
    "    CASE WHEN A.PLAN_REVENUE-(B.DEUDA-B.LDI) < 0 THEN (B.DEUDA-B.LDI) ELSE A.PLAN_REVENUE END PLAN_REVENUE,\n",
    "    B.DEUDA-B.LDI DEUDA,\n",
    "    CASE WHEN A.PLAN_REVENUE-(B.DEUDA-B.LDI) < 0 THEN 0 ELSE A.PLAN_REVENUE-(B.DEUDA-B.LDI) END DESCUENTO_DEUDA,\n",
    "    ROW_NUMBER() OVER(PARTITION BY A.SUBSCRIBER_ID ORDER BY A.PERIODO_PROCESO_CODIGO DESC) AS ORDEN\n",
    "FROM ENDING_ARPU A\n",
    "LEFT JOIN ANALITICA_WOM.TEMP_FACT_PR B ON A.SUBSCRIBER_ID=B.SUBSCRIBER_ID AND A.PERIODO_PROCESO_CODIGO=B.PERIODO_PROCESO_CODIGO\n",
    "WHERE A. PERIODO_PROCESO_CODIGO = {mes}\n",
    ")\n",
    "\n",
    "SELECT /*+PARALLEL(6)*/\n",
    "PERIODO_PROCESO_CODIGO,\n",
    "CAST(SUBSCRIBER_ID AS VARCHAR(20)) SUBSCRIBER_ID,\n",
    "CASE WHEN DESCUENTO_DEUDA IS NOT NULL AND DESCUENTO_DEUDA > 0 THEN 1 ELSE 0 END DESCUENTO \n",
    "FROM FACTU \n",
    "WHERE ORDEN = 1\n",
    "\"\"\"\n",
    ",con=conn)\n",
    "Descuentos.shape"
   ]
  },
  {
   "cell_type": "markdown",
   "id": "755d59ee-1b99-40c2-8ace-27896ca2b87c",
   "metadata": {
    "tags": []
   },
   "source": [
    "## *Une Insumos*"
   ]
  },
  {
   "cell_type": "code",
   "execution_count": null,
   "id": "98dce98a-059f-4a65-ab95-788a4603b0cf",
   "metadata": {},
   "outputs": [],
   "source": [
    "ENDING.shape"
   ]
  },
  {
   "cell_type": "code",
   "execution_count": null,
   "id": "0f936cc0-23ef-4410-b584-15d09c6e3b4f",
   "metadata": {},
   "outputs": [],
   "source": [
    "%%time\n",
    "BD = pd.merge(ENDING, CHURNERS[['SUBSCRIBER_ID','FECHA_BAJA','MOVIMIENT_CHUHRN','OPERADOR_PORTA_DESTINO']], how='left', left_on=['SUBSCRIBER_ID'], right_on=['SUBSCRIBER_ID'])\n",
    "BD = pd.merge(BD, DATOS[['SUBSCRIBER_ID', 'GB_TT_ULT_30D', 'GB_TT_3G_ULT_30D','GB_TT_RAN_ULT_30D','GB_TT_RP_ULT_30D']], how='left', left_on=['SUBSCRIBER_ID'], right_on=['SUBSCRIBER_ID'])\n",
    "BD = pd.merge(BD, DATOS_H[['SUBSCRIBER_ID', 'PROM_GB_TT', 'PROM_GB_TT_3G', 'PROM_GB_RED_PROPIA','RED_PRINCIPAL']], how='left', left_on=['SUBSCRIBER_ID'], right_on=['SUBSCRIBER_ID'])\n",
    "BD = pd.merge(BD, MINUTOS, how='left', left_on=['SUBSCRIBER_ID'], right_on=['SUBSCRIBER_ID'])\n",
    "BD = pd.merge(BD, MINUTOS_ENT_H, how='left', left_on=['SUBSCRIBER_ID'], right_on=['SUBSCRIBER_ID'])\n",
    "BD = pd.merge(BD, MINUTOS_SAL_H, how='left', left_on=['SUBSCRIBER_ID'], right_on=['SUBSCRIBER_ID'])\n",
    "BD = pd.merge(BD, COMPETENCIA_LLAM, how='left', left_on=['SUBSCRIBER_ID'], right_on=['SUBSCRIBER_ID'])\n",
    "BD = pd.merge(BD, SMS, how='left', left_on=['MSISDN'], right_on=['NUM_DESTINO'])\n",
    "BD = pd.merge(BD, cliente_llama_competencia[['SUBSCRIBER_ID','LLAMO_A_LA_COMPETENCIA']], how='left', left_on=['SUBSCRIBER_ID'], right_on=['SUBSCRIBER_ID'])\n",
    "BD = pd.merge(BD, QUEJAS, how='left', left_on=['SUBSCRIBER_ID'], right_on=['SUBSCRIBER_ID'])\n",
    "BD = pd.merge(BD, PQR, how='left', left_on=['SUBSCRIBER_ID'], right_on=['SUBSCRIBER_ID'])\n",
    "BD = pd.merge(BD, Recurrencia, how='left', left_on=['SUBSCRIBER_ID'], right_on=['SUBSCRIBER_ID'])\n",
    "BD = pd.merge(BD, CANT_LINEAS, how='left', left_on=['SUBSCRIBER_ID'], right_on=['SUBSCRIBER_ID'])\n",
    "BD = pd.merge(BD, FACTURA, how='left', left_on=['SUBSCRIBER_ID'], right_on=['SUBSCRIBER_ID'])\n",
    "BD = pd.merge(BD, Gross_churn[['SUBSCRIBER_ID','ALTA_PROB']], how='left', left_on=['SUBSCRIBER_ID'], right_on=['SUBSCRIBER_ID'])\n",
    "BD = pd.merge(BD, Compr_Equi, how='left', left_on=['SUBSCRIBER_ID'], right_on=['SUBSCRIBER_ID'])\n",
    "BD = pd.merge(BD, Buro, how='left', left_on=['SUBSCRIBER_ID'], right_on=['SUBSCRIBER_ID'])\n",
    "BD = pd.merge(BD, Segunda_Linea[['SUBSCRIBER_ID','SEGUNDA_LINEA']], how='left', left_on=['SUBSCRIBER_ID'], right_on=['SUBSCRIBER_ID'])\n",
    "BD = pd.merge(BD, Codigos[['MSISDN','NIP','PORTACION_CREADA','DIFF_RESIVE_CREA']], how='left', left_on=['MSISDN'], right_on=['MSISDN'])\n",
    "BD = pd.merge(BD, Descuentos[['SUBSCRIBER_ID','DESCUENTO']], how='left', left_on=['SUBSCRIBER_ID'], right_on=['SUBSCRIBER_ID'])\n",
    "\n",
    "BD.shape"
   ]
  },
  {
   "cell_type": "markdown",
   "id": "8a69d881-b043-4f7b-96cb-8488a8d07c38",
   "metadata": {},
   "source": [
    "## *Mineria de Datos*"
   ]
  },
  {
   "cell_type": "code",
   "execution_count": null,
   "id": "9fe7d519-3abc-46a7-abdc-730a74185632",
   "metadata": {},
   "outputs": [],
   "source": [
    "BD['PLAN_REVENUE']=BD['PLAN_REVENUE'].fillna(0)\n",
    "BD['PLAN_REVENUE']=BD['PLAN_REVENUE'].astype(int)"
   ]
  },
  {
   "cell_type": "code",
   "execution_count": null,
   "id": "e9fc7c04-2d2f-4964-84b9-15aa86464798",
   "metadata": {},
   "outputs": [],
   "source": [
    "BD['CICLO']=BD['CICLO'].fillna(0)\n",
    "BD['CICLO']=BD['CICLO'].astype(int)"
   ]
  },
  {
   "cell_type": "code",
   "execution_count": null,
   "id": "8a1338cd-dcf6-4438-9e8f-d56c9c9a3797",
   "metadata": {},
   "outputs": [],
   "source": [
    "BD['CHURN_PORTACION']= np.where(BD['MOVIMIENT_CHUHRN']=='CHURN PORTACION', 1,0 )\n",
    "BD['CHURN']= np.where(BD['MOVIMIENT_CHUHRN'].isna() , 0,1)"
   ]
  },
  {
   "cell_type": "code",
   "execution_count": null,
   "id": "af0a9e1d-d7d9-48f6-b374-7186862d3128",
   "metadata": {},
   "outputs": [],
   "source": [
    "BD['CHURN_PORT_15D']= np.where(BD['FECHA_BAJA']<='20230515', 1,0 )"
   ]
  },
  {
   "cell_type": "code",
   "execution_count": null,
   "id": "4337da4b-0146-4e64-a56a-bc27bfdd7751",
   "metadata": {},
   "outputs": [],
   "source": [
    "BD['CHURN2']= np.where(BD['FECHA_BAJA'].isna() , 0,1)"
   ]
  },
  {
   "cell_type": "code",
   "execution_count": null,
   "id": "4724b7e6-8e55-44ee-9b0e-69a5cb29ab87",
   "metadata": {},
   "outputs": [],
   "source": [
    "BD['CHURN'].value_counts().sort_values()"
   ]
  },
  {
   "cell_type": "code",
   "execution_count": null,
   "id": "4785dd2b-d6b9-4659-841d-15732b02d6c1",
   "metadata": {},
   "outputs": [],
   "source": [
    "BD['CHURN2'].value_counts().sort_values()"
   ]
  },
  {
   "cell_type": "code",
   "execution_count": null,
   "id": "e6d6fe55-f4cb-45f5-bea5-97f6c4f74928",
   "metadata": {},
   "outputs": [],
   "source": [
    "BD['CHURN_PORTACION'].value_counts().sort_values()"
   ]
  },
  {
   "cell_type": "code",
   "execution_count": null,
   "id": "0b6613af-145a-4faf-ab84-88cf8a4cb30d",
   "metadata": {},
   "outputs": [],
   "source": [
    "BD.head(5)"
   ]
  },
  {
   "cell_type": "code",
   "execution_count": null,
   "id": "8d4ddaea-4f86-47fc-a0f4-17200fd39cd7",
   "metadata": {},
   "outputs": [],
   "source": [
    "BD_Numericas = BD[['SUBSCRIBER_ID', 'MSISDN', 'ANTIGUEDAD', 'PLAN_REVENUE', 'CICLO', 'JINETE', \n",
    "                   'GB_TT_ULT_30D', 'GB_TT_3G_ULT_30D','GB_TT_RAN_ULT_30D','GB_TT_RP_ULT_30D', 'PROM_GB_TT', 'PROM_GB_TT_3G','PROM_GB_RED_PROPIA', \n",
    "                   'PROM_MIN_SAL_MES', 'PROM_CALLS_SAL','PROM_MIN_ENT_MES', 'PROM_CALLS_ENT', 'MIN_SALIENTES_ULT_30D','CALLS_SAL_ULT30D', \n",
    "                   'MIN_ENTRANTES_ULT_30D', 'CALLS_ENT_ULT30D','CANT_LLAMADAS', 'MIN_TOTALES', 'MIN_PROMEDIO', 'CANT_SMS_OFERTAS','CANT_SMS_TT', \n",
    "                   'LLAMO_A_LA_COMPETENCIA', 'QUEJAS', 'PQR','NUM_LINEA_CLI', 'ULT_FAC', 'PROM_FACTURA', 'VAL_FACTURADO','VALOR_PAGADO', \n",
    "                   'CANT_FACTURAS', 'CANT_PAGOS', 'CANT_PAGOS_TIEMPO','CANT_PAGOS_MORA', 'ALTA_PROB', 'COMPRO_EQUIPO', 'SEGUNDA_LINEA', 'NIP',\n",
    "                   'PORTACION_CREADA', 'DIFF_RESIVE_CREA', 'DESCUENTO']]\n",
    "BD_Numericas=BD_Numericas.fillna(0)\n",
    "BD_Numericas.shape"
   ]
  },
  {
   "cell_type": "code",
   "execution_count": null,
   "id": "c78bdac0-7753-4a75-910c-583aadc008be",
   "metadata": {},
   "outputs": [],
   "source": [
    "BD_Numericas=BD_Numericas.fillna(0)"
   ]
  },
  {
   "cell_type": "code",
   "execution_count": null,
   "id": "18955213-9261-4f3b-8556-98b18890e2b4",
   "metadata": {},
   "outputs": [],
   "source": [
    "BD_Categoricas = BD[['SUBSCRIBER_ID', 'MSISDN', 'MOVIMIENTO_ACTIVACION', 'OPERADOR_PORTA_ORIGEN', 'PLAN_NOMBRE','PLAN_TIPO_COMERCIAL','CONSULTOR_CANAL_NOMBRE', 'GENERO', \n",
    "                     'REGION','MOVIMIENT_CHUHRN', 'RED_PRINCIPAL', 'GRUPO_REC', 'RIESGO','FECHA_ALTA' ,'FECHA_BAJA']]\n",
    "BD_Categoricas.shape"
   ]
  },
  {
   "cell_type": "code",
   "execution_count": null,
   "id": "eb2e93da-c828-4d3b-9763-10efc37b4bb2",
   "metadata": {},
   "outputs": [],
   "source": [
    "BD_Categoricas=BD_Categoricas.fillna('REV')"
   ]
  },
  {
   "cell_type": "code",
   "execution_count": null,
   "id": "0ea8592f-1576-4a53-a73a-891a6bfe17dc",
   "metadata": {},
   "outputs": [],
   "source": [
    "BD_Categoricas['OPERADOR_PORTA_ORIGEN']= np.where(BD_Categoricas['MOVIMIENTO_ACTIVACION'] == 'GROSS ADDS NUEVA', 'LINEA NUEVA',\n",
    "                                                  np.where(BD_Categoricas['MOVIMIENTO_ACTIVACION'] == 'GROSS ADDS MIGRACION', 'WOM',\n",
    "                                                           np.where(((BD_Categoricas['MOVIMIENTO_ACTIVACION'] == 'GROSS ADDS PORTACION') & (BD_Categoricas['OPERADOR_PORTA_ORIGEN']=='LINEA NUEVA')), 'OTROS',\n",
    "                                                                    BD_Categoricas['OPERADOR_PORTA_ORIGEN'])))"
   ]
  },
  {
   "cell_type": "code",
   "execution_count": null,
   "id": "cf08d7da-a663-4bf3-8747-38b6426d6b70",
   "metadata": {},
   "outputs": [],
   "source": [
    "BD_Categoricas['GENERO']= np.where(BD_Categoricas['GENERO']=='REV', 'SIN CLASIFICAR',BD_Categoricas['GENERO'])\n",
    "BD_Categoricas['MOVIMIENT_CHUHRN']= np.where(BD_Categoricas['MOVIMIENT_CHUHRN']=='REV', 'PERMANECE',BD_Categoricas['MOVIMIENT_CHUHRN'])\n",
    "BD_Categoricas['RED_PRINCIPAL']= np.where(BD_Categoricas['RED_PRINCIPAL']=='REV', 'SIN TRAFICO',BD_Categoricas['RED_PRINCIPAL'])\n",
    "BD_Categoricas['GRUPO_REC']= np.where(BD_Categoricas['GRUPO_REC']=='REV', 'SIN PQRS',BD_Categoricas['GRUPO_REC'])\n",
    "BD_Categoricas['RIESGO']= np.where(BD_Categoricas['RIESGO']=='REV', 'SIN RIESGO',BD_Categoricas['RIESGO'])"
   ]
  },
  {
   "cell_type": "code",
   "execution_count": null,
   "id": "bad0f934-2f08-4a8a-9e2f-bb5e983cf282",
   "metadata": {},
   "outputs": [],
   "source": [
    "#BD_Categoricas[['PLAN_TIPO_COMERCIAL','PLAN_NOMBRE']].value_counts().sort_index()\n",
    "#sort_index()"
   ]
  },
  {
   "cell_type": "code",
   "execution_count": null,
   "id": "7ec7269f-0f1f-4e35-a3ca-bf0c6518f8a7",
   "metadata": {},
   "outputs": [],
   "source": [
    "BD_Final =  pd.merge(BD_Categoricas, BD_Numericas, how='left', left_on=['SUBSCRIBER_ID','MSISDN'], right_on=['SUBSCRIBER_ID','MSISDN'])\n",
    "BD_Final.shape"
   ]
  },
  {
   "cell_type": "code",
   "execution_count": null,
   "id": "71b39a09-9c1f-484c-91a8-93462ffd839d",
   "metadata": {},
   "outputs": [],
   "source": [
    "BD_Final['MESES_ACTIVO'] = np.where (BD_Final['ANTIGUEDAD'] == 0 , 0 ,BD_Final['ANTIGUEDAD'] /30)\n",
    "BD_Final['MESES_ACTIVO'] = round(BD_Final['MESES_ACTIVO'] , 1) "
   ]
  },
  {
   "cell_type": "code",
   "execution_count": null,
   "id": "917a1575-5c94-48a0-b593-ff779ad603cf",
   "metadata": {},
   "outputs": [],
   "source": [
    "BD_Final['CAMBIO_CONSUMO_GB']=(BD_Final['GB_TT_ULT_30D']-BD_Final['PROM_GB_TT'])/BD_Final['PROM_GB_TT']\n",
    "BD_Final['DISMINUYO_CONSUMO_GB']=np.where(((BD_Final.CAMBIO_CONSUMO_GB<0)),1,0)"
   ]
  },
  {
   "cell_type": "code",
   "execution_count": null,
   "id": "defdf2a2-f701-4ccb-93ff-f7252b58b1da",
   "metadata": {},
   "outputs": [],
   "source": [
    "BD_Final['ATRAIDO_COMPE']=np.where((BD_Final['CANT_SMS_TT']>=1)&(BD_Final['LLAMO_A_LA_COMPETENCIA']>=1),1,0)"
   ]
  },
  {
   "cell_type": "code",
   "execution_count": null,
   "id": "e773480b-7201-4c66-92f8-b08b89fdb91a",
   "metadata": {},
   "outputs": [],
   "source": [
    "BD_Final['COSTO_GB_ULT_30'] = BD_Final.GB_TT_ULT_30D/(BD_Final.PLAN_REVENUE/30)\n",
    "BD_Final.replace([np.inf, -np.inf], 0, inplace=True)"
   ]
  },
  {
   "cell_type": "code",
   "execution_count": null,
   "id": "ffb16332-a64e-4b55-b387-1b115232c2d2",
   "metadata": {},
   "outputs": [],
   "source": [
    "BD_Final['COSTO_GB_HIST'] = BD_Final.PROM_GB_TT/(BD_Final.PLAN_REVENUE/30)\n",
    "BD_Final.replace([np.inf, -np.inf], 0, inplace=True)"
   ]
  },
  {
   "cell_type": "code",
   "execution_count": null,
   "id": "48ac4b2d-65e4-486b-a7f4-8ea7e2511b9c",
   "metadata": {},
   "outputs": [],
   "source": [
    "BD_Final['CAMBIO_COSTO_GB'] = (BD_Final['COSTO_GB_ULT_30']-BD_Final['COSTO_GB_HIST'])\n",
    "BD_Final['IMPORTE_GASTADO_WOM'] = BD_Final.PLAN_REVENUE*BD_Final.MESES_ACTIVO"
   ]
  },
  {
   "cell_type": "code",
   "execution_count": null,
   "id": "58d0e7fe-a368-4603-8ad8-8357c504dde2",
   "metadata": {},
   "outputs": [],
   "source": [
    "BD_Final['COSTO_GB_ULT_30'] = BD_Final['COSTO_GB_ULT_30'].fillna(0)\n",
    "BD_Final['CAMBIO_COSTO_GB'] = BD_Final['CAMBIO_COSTO_GB'].fillna(0)"
   ]
  },
  {
   "cell_type": "code",
   "execution_count": null,
   "id": "56a67624-ac31-4849-83f7-3551727c85d4",
   "metadata": {},
   "outputs": [],
   "source": [
    "BD_Final.shape"
   ]
  },
  {
   "cell_type": "code",
   "execution_count": null,
   "id": "d026bb0c-1f91-438a-8d13-4c158cfbf240",
   "metadata": {},
   "outputs": [],
   "source": [
    "BD_Final.head(5)"
   ]
  },
  {
   "cell_type": "code",
   "execution_count": null,
   "id": "7611c4cc-f2f7-4ea3-95c5-ae6045ed6f6e",
   "metadata": {},
   "outputs": [],
   "source": [
    "BD_Final.to_csv('BD_Final.csv', index=False)"
   ]
  },
  {
   "cell_type": "code",
   "execution_count": null,
   "id": "43fbda03-1a6d-4728-a26c-26451aa3e23c",
   "metadata": {},
   "outputs": [],
   "source": [
    "BD_Mod = BD_Final[BD_Final['ALTA_PROB']==0].copy()\n",
    "BD_Mod = BD_Mod[BD_Mod['PORTACION_CREADA']==0].copy()\n",
    "BD_Mod.shape"
   ]
  },
  {
   "cell_type": "code",
   "execution_count": null,
   "id": "3a063a9d-c123-40cd-b010-1d4ee82b6ba9",
   "metadata": {},
   "outputs": [],
   "source": [
    "prueba = pd.DataFrame(BD_Final[['MOVIMIENT_CHUHRN','FECHA_BAJA']].value_counts().sort_index()).reset_index()\n",
    "prueba.head(120)"
   ]
  },
  {
   "cell_type": "code",
   "execution_count": null,
   "id": "fa9d568d-6b58-4eda-97ba-059c0b8e9e6b",
   "metadata": {},
   "outputs": [],
   "source": [
    "prueba.to_csv('prueba.csv', index=False)"
   ]
  },
  {
   "cell_type": "markdown",
   "id": "b3db6d22-ac03-4fcc-a9cd-26db36557327",
   "metadata": {},
   "source": [
    "## *Preparo Base Final para Modelo*"
   ]
  },
  {
   "cell_type": "code",
   "execution_count": null,
   "id": "6643d024-861f-4ec1-834d-35a9f2ae326f",
   "metadata": {},
   "outputs": [],
   "source": [
    "BD_Modelo = BD_Mod[['SUBSCRIBER_ID', 'MSISDN', 'MOVIMIENTO_ACTIVACION','OPERADOR_PORTA_ORIGEN', 'PLAN_NOMBRE', 'PLAN_TIPO_COMERCIAL','CONSULTOR_CANAL_NOMBRE', 'GENERO', \n",
    "                      'REGION', 'RED_PRINCIPAL', 'GRUPO_REC', 'RIESGO','PLAN_REVENUE', 'CICLO', 'JINETE', 'GB_TT_ULT_30D','GB_TT_3G_ULT_30D', 'GB_TT_RAN_ULT_30D', 'GB_TT_RP_ULT_30D',\n",
    "                      'PROM_GB_TT', 'PROM_GB_TT_3G','PROM_GB_RED_PROPIA', 'PROM_MIN_SAL_MES', 'PROM_CALLS_SAL','PROM_MIN_ENT_MES', 'PROM_CALLS_ENT', 'MIN_SALIENTES_ULT_30D',\n",
    "                      'CALLS_SAL_ULT30D', 'MIN_ENTRANTES_ULT_30D', 'CALLS_ENT_ULT30D','CANT_LLAMADAS', 'MIN_TOTALES', 'MIN_PROMEDIO', 'CANT_SMS_OFERTAS','CANT_SMS_TT', \n",
    "                      'LLAMO_A_LA_COMPETENCIA', 'QUEJAS', 'PQR','NUM_LINEA_CLI', 'ULT_FAC', 'PROM_FACTURA', 'VAL_FACTURADO','VALOR_PAGADO', 'CANT_FACTURAS', 'CANT_PAGOS', \n",
    "                      'CANT_PAGOS_TIEMPO','CANT_PAGOS_MORA', 'COMPRO_EQUIPO', 'SEGUNDA_LINEA', 'NIP', 'DESCUENTO', 'MESES_ACTIVO','CAMBIO_CONSUMO_GB', 'DISMINUYO_CONSUMO_GB', \n",
    "                      'ATRAIDO_COMPE','COSTO_GB_ULT_30', 'COSTO_GB_HIST', 'CAMBIO_COSTO_GB','IMPORTE_GASTADO_WOM', 'CHUNR', 'CHUNR_PORTACION']].copy()\n",
    "\n"
   ]
  },
  {
   "cell_type": "code",
   "execution_count": null,
   "id": "4fa63b7f-b89b-4b2d-b9f2-501c7d9594de",
   "metadata": {},
   "outputs": [],
   "source": [
    "print(BD_Modelo.shape)"
   ]
  },
  {
   "cell_type": "code",
   "execution_count": null,
   "id": "2ced567e-c129-4155-854f-0c8740d4427b",
   "metadata": {},
   "outputs": [],
   "source": [
    "from feature_engine.encoding import MeanEncoder"
   ]
  },
  {
   "cell_type": "code",
   "execution_count": null,
   "id": "79d50b29-c2bc-46b2-96fe-283c4ae44622",
   "metadata": {},
   "outputs": [],
   "source": [
    "mean_enc= MeanEncoder(variables=['MOVIMIENTO_ACTIVACION','OPERADOR_PORTA_ORIGEN', 'PLAN_NOMBRE', 'PLAN_TIPO_COMERCIAL','CONSULTOR_CANAL_NOMBRE', 'GENERO','REGION', \n",
    "                                 'RED_PRINCIPAL', 'GRUPO_REC', 'RIESGO'])\n",
    "mean_enc.fit(BD_Modelo,BD_Modelo.CHUNR_PORTACION)\n",
    "BD_Modelo=mean_enc.transform(BD_Modelo)\n"
   ]
  },
  {
   "cell_type": "code",
   "execution_count": null,
   "id": "b7492778-8039-4aae-b4ea-aaf861830b09",
   "metadata": {},
   "outputs": [],
   "source": [
    "BD_Modelo.to_csv('BD_Modelo.csv', index=False)"
   ]
  },
  {
   "cell_type": "code",
   "execution_count": null,
   "id": "b9a33997-2ece-4e90-8a0d-f5bcbf7fd99e",
   "metadata": {},
   "outputs": [],
   "source": []
  }
 ],
 "metadata": {
  "kernelspec": {
   "display_name": "Python 3 (ipykernel)",
   "language": "python",
   "name": "python3"
  },
  "language_info": {
   "codemirror_mode": {
    "name": "ipython",
    "version": 3
   },
   "file_extension": ".py",
   "mimetype": "text/x-python",
   "name": "python",
   "nbconvert_exporter": "python",
   "pygments_lexer": "ipython3",
   "version": "3.9.12"
  }
 },
 "nbformat": 4,
 "nbformat_minor": 5
}
